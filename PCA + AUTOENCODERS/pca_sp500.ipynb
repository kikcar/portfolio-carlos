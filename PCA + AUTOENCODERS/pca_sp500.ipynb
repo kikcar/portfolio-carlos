{
 "cells": [
  {
   "cell_type": "code",
   "execution_count": 59,
   "metadata": {},
   "outputs": [],
   "source": [
    "import pandas as pd\n",
    "import numpy as np\n",
    "from sklearn.decomposition import PCA\n",
    "import matplotlib.pyplot  as plt"
   ]
  },
  {
   "cell_type": "code",
   "execution_count": 60,
   "metadata": {},
   "outputs": [],
   "source": [
    "data = pd.read_csv('all_stocks_5yr.csv', index_col = 'date')"
   ]
  },
  {
   "cell_type": "code",
   "execution_count": 10,
   "metadata": {},
   "outputs": [
    {
     "data": {
      "text/html": [
       "<div>\n",
       "<style scoped>\n",
       "    .dataframe tbody tr th:only-of-type {\n",
       "        vertical-align: middle;\n",
       "    }\n",
       "\n",
       "    .dataframe tbody tr th {\n",
       "        vertical-align: top;\n",
       "    }\n",
       "\n",
       "    .dataframe thead th {\n",
       "        text-align: right;\n",
       "    }\n",
       "</style>\n",
       "<table border=\"1\" class=\"dataframe\">\n",
       "  <thead>\n",
       "    <tr style=\"text-align: right;\">\n",
       "      <th></th>\n",
       "      <th>open</th>\n",
       "      <th>high</th>\n",
       "      <th>low</th>\n",
       "      <th>close</th>\n",
       "      <th>volume</th>\n",
       "      <th>Name</th>\n",
       "    </tr>\n",
       "    <tr>\n",
       "      <th>date</th>\n",
       "      <th></th>\n",
       "      <th></th>\n",
       "      <th></th>\n",
       "      <th></th>\n",
       "      <th></th>\n",
       "      <th></th>\n",
       "    </tr>\n",
       "  </thead>\n",
       "  <tbody>\n",
       "    <tr>\n",
       "      <th>2013-02-08</th>\n",
       "      <td>15.07</td>\n",
       "      <td>15.12</td>\n",
       "      <td>14.63</td>\n",
       "      <td>14.75</td>\n",
       "      <td>8407500</td>\n",
       "      <td>AAL</td>\n",
       "    </tr>\n",
       "    <tr>\n",
       "      <th>2013-02-11</th>\n",
       "      <td>14.89</td>\n",
       "      <td>15.01</td>\n",
       "      <td>14.26</td>\n",
       "      <td>14.46</td>\n",
       "      <td>8882000</td>\n",
       "      <td>AAL</td>\n",
       "    </tr>\n",
       "    <tr>\n",
       "      <th>2013-02-12</th>\n",
       "      <td>14.45</td>\n",
       "      <td>14.51</td>\n",
       "      <td>14.10</td>\n",
       "      <td>14.27</td>\n",
       "      <td>8126000</td>\n",
       "      <td>AAL</td>\n",
       "    </tr>\n",
       "    <tr>\n",
       "      <th>2013-02-13</th>\n",
       "      <td>14.30</td>\n",
       "      <td>14.94</td>\n",
       "      <td>14.25</td>\n",
       "      <td>14.66</td>\n",
       "      <td>10259500</td>\n",
       "      <td>AAL</td>\n",
       "    </tr>\n",
       "    <tr>\n",
       "      <th>2013-02-14</th>\n",
       "      <td>14.94</td>\n",
       "      <td>14.96</td>\n",
       "      <td>13.16</td>\n",
       "      <td>13.99</td>\n",
       "      <td>31879900</td>\n",
       "      <td>AAL</td>\n",
       "    </tr>\n",
       "    <tr>\n",
       "      <th>...</th>\n",
       "      <td>...</td>\n",
       "      <td>...</td>\n",
       "      <td>...</td>\n",
       "      <td>...</td>\n",
       "      <td>...</td>\n",
       "      <td>...</td>\n",
       "    </tr>\n",
       "    <tr>\n",
       "      <th>2018-02-01</th>\n",
       "      <td>76.84</td>\n",
       "      <td>78.27</td>\n",
       "      <td>76.69</td>\n",
       "      <td>77.82</td>\n",
       "      <td>2982259</td>\n",
       "      <td>ZTS</td>\n",
       "    </tr>\n",
       "    <tr>\n",
       "      <th>2018-02-02</th>\n",
       "      <td>77.53</td>\n",
       "      <td>78.12</td>\n",
       "      <td>76.73</td>\n",
       "      <td>76.78</td>\n",
       "      <td>2595187</td>\n",
       "      <td>ZTS</td>\n",
       "    </tr>\n",
       "    <tr>\n",
       "      <th>2018-02-05</th>\n",
       "      <td>76.64</td>\n",
       "      <td>76.92</td>\n",
       "      <td>73.18</td>\n",
       "      <td>73.83</td>\n",
       "      <td>2962031</td>\n",
       "      <td>ZTS</td>\n",
       "    </tr>\n",
       "    <tr>\n",
       "      <th>2018-02-06</th>\n",
       "      <td>72.74</td>\n",
       "      <td>74.56</td>\n",
       "      <td>72.13</td>\n",
       "      <td>73.27</td>\n",
       "      <td>4924323</td>\n",
       "      <td>ZTS</td>\n",
       "    </tr>\n",
       "    <tr>\n",
       "      <th>2018-02-07</th>\n",
       "      <td>72.70</td>\n",
       "      <td>75.00</td>\n",
       "      <td>72.69</td>\n",
       "      <td>73.86</td>\n",
       "      <td>4534912</td>\n",
       "      <td>ZTS</td>\n",
       "    </tr>\n",
       "  </tbody>\n",
       "</table>\n",
       "<p>619040 rows × 6 columns</p>\n",
       "</div>"
      ],
      "text/plain": [
       "             open   high    low  close    volume Name\n",
       "date                                                 \n",
       "2013-02-08  15.07  15.12  14.63  14.75   8407500  AAL\n",
       "2013-02-11  14.89  15.01  14.26  14.46   8882000  AAL\n",
       "2013-02-12  14.45  14.51  14.10  14.27   8126000  AAL\n",
       "2013-02-13  14.30  14.94  14.25  14.66  10259500  AAL\n",
       "2013-02-14  14.94  14.96  13.16  13.99  31879900  AAL\n",
       "...           ...    ...    ...    ...       ...  ...\n",
       "2018-02-01  76.84  78.27  76.69  77.82   2982259  ZTS\n",
       "2018-02-02  77.53  78.12  76.73  76.78   2595187  ZTS\n",
       "2018-02-05  76.64  76.92  73.18  73.83   2962031  ZTS\n",
       "2018-02-06  72.74  74.56  72.13  73.27   4924323  ZTS\n",
       "2018-02-07  72.70  75.00  72.69  73.86   4534912  ZTS\n",
       "\n",
       "[619040 rows x 6 columns]"
      ]
     },
     "execution_count": 10,
     "metadata": {},
     "output_type": "execute_result"
    }
   ],
   "source": [
    "data"
   ]
  },
  {
   "cell_type": "code",
   "execution_count": 12,
   "metadata": {},
   "outputs": [],
   "source": [
    "data_piv = data.pivot(columns='Name', values = 'close')"
   ]
  },
  {
   "cell_type": "code",
   "execution_count": 13,
   "metadata": {},
   "outputs": [
    {
     "data": {
      "text/html": [
       "<div>\n",
       "<style scoped>\n",
       "    .dataframe tbody tr th:only-of-type {\n",
       "        vertical-align: middle;\n",
       "    }\n",
       "\n",
       "    .dataframe tbody tr th {\n",
       "        vertical-align: top;\n",
       "    }\n",
       "\n",
       "    .dataframe thead th {\n",
       "        text-align: right;\n",
       "    }\n",
       "</style>\n",
       "<table border=\"1\" class=\"dataframe\">\n",
       "  <thead>\n",
       "    <tr style=\"text-align: right;\">\n",
       "      <th>Name</th>\n",
       "      <th>A</th>\n",
       "      <th>AAL</th>\n",
       "      <th>AAP</th>\n",
       "      <th>AAPL</th>\n",
       "      <th>ABBV</th>\n",
       "      <th>ABC</th>\n",
       "      <th>ABT</th>\n",
       "      <th>ACN</th>\n",
       "      <th>ADBE</th>\n",
       "      <th>ADI</th>\n",
       "      <th>...</th>\n",
       "      <th>XL</th>\n",
       "      <th>XLNX</th>\n",
       "      <th>XOM</th>\n",
       "      <th>XRAY</th>\n",
       "      <th>XRX</th>\n",
       "      <th>XYL</th>\n",
       "      <th>YUM</th>\n",
       "      <th>ZBH</th>\n",
       "      <th>ZION</th>\n",
       "      <th>ZTS</th>\n",
       "    </tr>\n",
       "    <tr>\n",
       "      <th>date</th>\n",
       "      <th></th>\n",
       "      <th></th>\n",
       "      <th></th>\n",
       "      <th></th>\n",
       "      <th></th>\n",
       "      <th></th>\n",
       "      <th></th>\n",
       "      <th></th>\n",
       "      <th></th>\n",
       "      <th></th>\n",
       "      <th></th>\n",
       "      <th></th>\n",
       "      <th></th>\n",
       "      <th></th>\n",
       "      <th></th>\n",
       "      <th></th>\n",
       "      <th></th>\n",
       "      <th></th>\n",
       "      <th></th>\n",
       "      <th></th>\n",
       "      <th></th>\n",
       "    </tr>\n",
       "  </thead>\n",
       "  <tbody>\n",
       "    <tr>\n",
       "      <th>2013-02-08</th>\n",
       "      <td>45.08</td>\n",
       "      <td>14.75</td>\n",
       "      <td>78.90</td>\n",
       "      <td>67.8542</td>\n",
       "      <td>36.25</td>\n",
       "      <td>46.89</td>\n",
       "      <td>34.41</td>\n",
       "      <td>73.31</td>\n",
       "      <td>39.12</td>\n",
       "      <td>45.70</td>\n",
       "      <td>...</td>\n",
       "      <td>28.24</td>\n",
       "      <td>37.51</td>\n",
       "      <td>88.61</td>\n",
       "      <td>42.87</td>\n",
       "      <td>31.84</td>\n",
       "      <td>27.09</td>\n",
       "      <td>65.30</td>\n",
       "      <td>75.85</td>\n",
       "      <td>24.14</td>\n",
       "      <td>33.05</td>\n",
       "    </tr>\n",
       "    <tr>\n",
       "      <th>2013-02-11</th>\n",
       "      <td>44.60</td>\n",
       "      <td>14.46</td>\n",
       "      <td>78.39</td>\n",
       "      <td>68.5614</td>\n",
       "      <td>35.85</td>\n",
       "      <td>46.76</td>\n",
       "      <td>34.26</td>\n",
       "      <td>73.07</td>\n",
       "      <td>38.64</td>\n",
       "      <td>46.08</td>\n",
       "      <td>...</td>\n",
       "      <td>28.31</td>\n",
       "      <td>37.46</td>\n",
       "      <td>88.28</td>\n",
       "      <td>42.84</td>\n",
       "      <td>31.96</td>\n",
       "      <td>27.46</td>\n",
       "      <td>64.55</td>\n",
       "      <td>75.65</td>\n",
       "      <td>24.21</td>\n",
       "      <td>33.26</td>\n",
       "    </tr>\n",
       "    <tr>\n",
       "      <th>2013-02-12</th>\n",
       "      <td>44.62</td>\n",
       "      <td>14.27</td>\n",
       "      <td>78.60</td>\n",
       "      <td>66.8428</td>\n",
       "      <td>35.42</td>\n",
       "      <td>46.96</td>\n",
       "      <td>34.30</td>\n",
       "      <td>73.37</td>\n",
       "      <td>38.89</td>\n",
       "      <td>46.27</td>\n",
       "      <td>...</td>\n",
       "      <td>28.41</td>\n",
       "      <td>37.58</td>\n",
       "      <td>88.46</td>\n",
       "      <td>42.87</td>\n",
       "      <td>31.84</td>\n",
       "      <td>27.95</td>\n",
       "      <td>64.75</td>\n",
       "      <td>75.44</td>\n",
       "      <td>24.49</td>\n",
       "      <td>33.74</td>\n",
       "    </tr>\n",
       "    <tr>\n",
       "      <th>2013-02-13</th>\n",
       "      <td>44.75</td>\n",
       "      <td>14.66</td>\n",
       "      <td>78.97</td>\n",
       "      <td>66.7156</td>\n",
       "      <td>35.27</td>\n",
       "      <td>46.64</td>\n",
       "      <td>34.46</td>\n",
       "      <td>73.56</td>\n",
       "      <td>38.81</td>\n",
       "      <td>46.26</td>\n",
       "      <td>...</td>\n",
       "      <td>28.42</td>\n",
       "      <td>37.80</td>\n",
       "      <td>88.67</td>\n",
       "      <td>43.08</td>\n",
       "      <td>32.00</td>\n",
       "      <td>28.26</td>\n",
       "      <td>64.41</td>\n",
       "      <td>76.00</td>\n",
       "      <td>24.74</td>\n",
       "      <td>33.55</td>\n",
       "    </tr>\n",
       "    <tr>\n",
       "      <th>2013-02-14</th>\n",
       "      <td>44.58</td>\n",
       "      <td>13.99</td>\n",
       "      <td>78.84</td>\n",
       "      <td>66.6556</td>\n",
       "      <td>36.57</td>\n",
       "      <td>46.77</td>\n",
       "      <td>34.70</td>\n",
       "      <td>73.13</td>\n",
       "      <td>38.61</td>\n",
       "      <td>46.54</td>\n",
       "      <td>...</td>\n",
       "      <td>28.22</td>\n",
       "      <td>38.44</td>\n",
       "      <td>88.52</td>\n",
       "      <td>42.91</td>\n",
       "      <td>32.12</td>\n",
       "      <td>28.47</td>\n",
       "      <td>63.89</td>\n",
       "      <td>76.34</td>\n",
       "      <td>24.63</td>\n",
       "      <td>33.27</td>\n",
       "    </tr>\n",
       "    <tr>\n",
       "      <th>...</th>\n",
       "      <td>...</td>\n",
       "      <td>...</td>\n",
       "      <td>...</td>\n",
       "      <td>...</td>\n",
       "      <td>...</td>\n",
       "      <td>...</td>\n",
       "      <td>...</td>\n",
       "      <td>...</td>\n",
       "      <td>...</td>\n",
       "      <td>...</td>\n",
       "      <td>...</td>\n",
       "      <td>...</td>\n",
       "      <td>...</td>\n",
       "      <td>...</td>\n",
       "      <td>...</td>\n",
       "      <td>...</td>\n",
       "      <td>...</td>\n",
       "      <td>...</td>\n",
       "      <td>...</td>\n",
       "      <td>...</td>\n",
       "      <td>...</td>\n",
       "    </tr>\n",
       "    <tr>\n",
       "      <th>2018-02-01</th>\n",
       "      <td>72.83</td>\n",
       "      <td>53.88</td>\n",
       "      <td>117.29</td>\n",
       "      <td>167.7800</td>\n",
       "      <td>116.34</td>\n",
       "      <td>99.29</td>\n",
       "      <td>62.18</td>\n",
       "      <td>160.46</td>\n",
       "      <td>199.38</td>\n",
       "      <td>91.65</td>\n",
       "      <td>...</td>\n",
       "      <td>36.79</td>\n",
       "      <td>72.49</td>\n",
       "      <td>89.07</td>\n",
       "      <td>60.73</td>\n",
       "      <td>32.75</td>\n",
       "      <td>74.84</td>\n",
       "      <td>83.98</td>\n",
       "      <td>128.19</td>\n",
       "      <td>54.98</td>\n",
       "      <td>77.82</td>\n",
       "    </tr>\n",
       "    <tr>\n",
       "      <th>2018-02-02</th>\n",
       "      <td>71.25</td>\n",
       "      <td>52.10</td>\n",
       "      <td>113.93</td>\n",
       "      <td>160.5000</td>\n",
       "      <td>115.17</td>\n",
       "      <td>96.02</td>\n",
       "      <td>61.69</td>\n",
       "      <td>156.90</td>\n",
       "      <td>195.64</td>\n",
       "      <td>89.11</td>\n",
       "      <td>...</td>\n",
       "      <td>38.25</td>\n",
       "      <td>70.64</td>\n",
       "      <td>84.53</td>\n",
       "      <td>60.06</td>\n",
       "      <td>31.63</td>\n",
       "      <td>75.66</td>\n",
       "      <td>82.63</td>\n",
       "      <td>125.79</td>\n",
       "      <td>54.15</td>\n",
       "      <td>76.78</td>\n",
       "    </tr>\n",
       "    <tr>\n",
       "      <th>2018-02-05</th>\n",
       "      <td>68.22</td>\n",
       "      <td>49.76</td>\n",
       "      <td>109.86</td>\n",
       "      <td>156.4900</td>\n",
       "      <td>109.51</td>\n",
       "      <td>91.90</td>\n",
       "      <td>58.73</td>\n",
       "      <td>151.83</td>\n",
       "      <td>190.27</td>\n",
       "      <td>85.40</td>\n",
       "      <td>...</td>\n",
       "      <td>37.68</td>\n",
       "      <td>66.97</td>\n",
       "      <td>79.72</td>\n",
       "      <td>58.54</td>\n",
       "      <td>31.38</td>\n",
       "      <td>72.66</td>\n",
       "      <td>79.80</td>\n",
       "      <td>123.18</td>\n",
       "      <td>51.65</td>\n",
       "      <td>73.83</td>\n",
       "    </tr>\n",
       "    <tr>\n",
       "      <th>2018-02-06</th>\n",
       "      <td>68.45</td>\n",
       "      <td>51.18</td>\n",
       "      <td>112.20</td>\n",
       "      <td>163.0300</td>\n",
       "      <td>111.20</td>\n",
       "      <td>91.54</td>\n",
       "      <td>58.86</td>\n",
       "      <td>154.69</td>\n",
       "      <td>194.47</td>\n",
       "      <td>88.54</td>\n",
       "      <td>...</td>\n",
       "      <td>37.34</td>\n",
       "      <td>68.99</td>\n",
       "      <td>78.35</td>\n",
       "      <td>58.46</td>\n",
       "      <td>30.85</td>\n",
       "      <td>71.33</td>\n",
       "      <td>80.58</td>\n",
       "      <td>122.30</td>\n",
       "      <td>52.52</td>\n",
       "      <td>73.27</td>\n",
       "    </tr>\n",
       "    <tr>\n",
       "      <th>2018-02-07</th>\n",
       "      <td>68.06</td>\n",
       "      <td>51.40</td>\n",
       "      <td>109.93</td>\n",
       "      <td>159.5400</td>\n",
       "      <td>113.62</td>\n",
       "      <td>94.22</td>\n",
       "      <td>58.67</td>\n",
       "      <td>155.15</td>\n",
       "      <td>192.34</td>\n",
       "      <td>85.35</td>\n",
       "      <td>...</td>\n",
       "      <td>42.00</td>\n",
       "      <td>66.97</td>\n",
       "      <td>76.94</td>\n",
       "      <td>58.30</td>\n",
       "      <td>31.18</td>\n",
       "      <td>71.79</td>\n",
       "      <td>80.13</td>\n",
       "      <td>120.78</td>\n",
       "      <td>54.02</td>\n",
       "      <td>73.86</td>\n",
       "    </tr>\n",
       "  </tbody>\n",
       "</table>\n",
       "<p>1259 rows × 505 columns</p>\n",
       "</div>"
      ],
      "text/plain": [
       "Name            A    AAL     AAP      AAPL    ABBV    ABC    ABT     ACN  \\\n",
       "date                                                                       \n",
       "2013-02-08  45.08  14.75   78.90   67.8542   36.25  46.89  34.41   73.31   \n",
       "2013-02-11  44.60  14.46   78.39   68.5614   35.85  46.76  34.26   73.07   \n",
       "2013-02-12  44.62  14.27   78.60   66.8428   35.42  46.96  34.30   73.37   \n",
       "2013-02-13  44.75  14.66   78.97   66.7156   35.27  46.64  34.46   73.56   \n",
       "2013-02-14  44.58  13.99   78.84   66.6556   36.57  46.77  34.70   73.13   \n",
       "...           ...    ...     ...       ...     ...    ...    ...     ...   \n",
       "2018-02-01  72.83  53.88  117.29  167.7800  116.34  99.29  62.18  160.46   \n",
       "2018-02-02  71.25  52.10  113.93  160.5000  115.17  96.02  61.69  156.90   \n",
       "2018-02-05  68.22  49.76  109.86  156.4900  109.51  91.90  58.73  151.83   \n",
       "2018-02-06  68.45  51.18  112.20  163.0300  111.20  91.54  58.86  154.69   \n",
       "2018-02-07  68.06  51.40  109.93  159.5400  113.62  94.22  58.67  155.15   \n",
       "\n",
       "Name          ADBE    ADI  ...     XL   XLNX    XOM   XRAY    XRX    XYL  \\\n",
       "date                       ...                                             \n",
       "2013-02-08   39.12  45.70  ...  28.24  37.51  88.61  42.87  31.84  27.09   \n",
       "2013-02-11   38.64  46.08  ...  28.31  37.46  88.28  42.84  31.96  27.46   \n",
       "2013-02-12   38.89  46.27  ...  28.41  37.58  88.46  42.87  31.84  27.95   \n",
       "2013-02-13   38.81  46.26  ...  28.42  37.80  88.67  43.08  32.00  28.26   \n",
       "2013-02-14   38.61  46.54  ...  28.22  38.44  88.52  42.91  32.12  28.47   \n",
       "...            ...    ...  ...    ...    ...    ...    ...    ...    ...   \n",
       "2018-02-01  199.38  91.65  ...  36.79  72.49  89.07  60.73  32.75  74.84   \n",
       "2018-02-02  195.64  89.11  ...  38.25  70.64  84.53  60.06  31.63  75.66   \n",
       "2018-02-05  190.27  85.40  ...  37.68  66.97  79.72  58.54  31.38  72.66   \n",
       "2018-02-06  194.47  88.54  ...  37.34  68.99  78.35  58.46  30.85  71.33   \n",
       "2018-02-07  192.34  85.35  ...  42.00  66.97  76.94  58.30  31.18  71.79   \n",
       "\n",
       "Name          YUM     ZBH   ZION    ZTS  \n",
       "date                                     \n",
       "2013-02-08  65.30   75.85  24.14  33.05  \n",
       "2013-02-11  64.55   75.65  24.21  33.26  \n",
       "2013-02-12  64.75   75.44  24.49  33.74  \n",
       "2013-02-13  64.41   76.00  24.74  33.55  \n",
       "2013-02-14  63.89   76.34  24.63  33.27  \n",
       "...           ...     ...    ...    ...  \n",
       "2018-02-01  83.98  128.19  54.98  77.82  \n",
       "2018-02-02  82.63  125.79  54.15  76.78  \n",
       "2018-02-05  79.80  123.18  51.65  73.83  \n",
       "2018-02-06  80.58  122.30  52.52  73.27  \n",
       "2018-02-07  80.13  120.78  54.02  73.86  \n",
       "\n",
       "[1259 rows x 505 columns]"
      ]
     },
     "execution_count": 13,
     "metadata": {},
     "output_type": "execute_result"
    }
   ],
   "source": [
    "data_piv"
   ]
  },
  {
   "cell_type": "code",
   "execution_count": 21,
   "metadata": {},
   "outputs": [
    {
     "data": {
      "text/plain": [
       "Index(['ALLE', 'APTV', 'BHF', 'BHGE', 'BMY', 'CFG', 'COTY', 'CSRA', 'DHR',\n",
       "       'DWDP', 'DXC', 'ES', 'EVHC', 'FOX', 'FOXA', 'FTV', 'GOOG', 'HLT', 'HPE',\n",
       "       'HPQ', 'ICE', 'INFO', 'IQV', 'KHC', 'NAVI', 'NWS', 'NWSA', 'O', 'ORCL',\n",
       "       'PYPL', 'QRVO', 'SYF', 'UA', 'WLTW', 'WRK'],\n",
       "      dtype='object', name='Name')"
      ]
     },
     "execution_count": 21,
     "metadata": {},
     "output_type": "execute_result"
    }
   ],
   "source": [
    "data_piv.columns[(data_piv.isna().sum() > 0)]"
   ]
  },
  {
   "cell_type": "code",
   "execution_count": 31,
   "metadata": {},
   "outputs": [],
   "source": [
    "data_clean = data_piv.dropna(axis = 1)"
   ]
  },
  {
   "cell_type": "code",
   "execution_count": 32,
   "metadata": {},
   "outputs": [],
   "source": [
    "#Hacemos los datos estacionarios /independientes en el tiempo\n",
    "#Con el logaritmo hacemos la varianza estacionaria \n",
    "#Con el diff hacemos que sean independientes en el tiempo\n",
    "\n",
    "data_final = np.log(data_clean).diff().dropna()"
   ]
  },
  {
   "cell_type": "code",
   "execution_count": 49,
   "metadata": {},
   "outputs": [],
   "source": [
    "#Vamos con el PCA\n",
    "pca = PCA(n_components=460)"
   ]
  },
  {
   "cell_type": "code",
   "execution_count": 50,
   "metadata": {},
   "outputs": [],
   "source": [
    "components_data = pca.fit_transform(data_final)"
   ]
  },
  {
   "cell_type": "code",
   "execution_count": 51,
   "metadata": {},
   "outputs": [
    {
     "data": {
      "text/plain": [
       "(1258, 460)"
      ]
     },
     "execution_count": 51,
     "metadata": {},
     "output_type": "execute_result"
    }
   ],
   "source": [
    "components_data.shape"
   ]
  },
  {
   "cell_type": "code",
   "execution_count": 52,
   "metadata": {},
   "outputs": [
    {
     "data": {
      "text/plain": [
       "array([[-0.05232729, -0.06186165, -0.04063233, ..., -0.03840767,\n",
       "        -0.06137394, -0.03614861],\n",
       "       [ 0.01615031,  0.05793807,  0.02323425, ...,  0.01989292,\n",
       "        -0.02357013,  0.02627565],\n",
       "       [ 0.01679125,  0.06719862, -0.00540659, ..., -0.00906355,\n",
       "         0.09792316,  0.00683618],\n",
       "       ...,\n",
       "       [ 0.01693294,  0.00960805,  0.00390925, ...,  0.0078876 ,\n",
       "         0.04705821,  0.01140818],\n",
       "       [ 0.00299643, -0.00818633,  0.01697953, ...,  0.00876193,\n",
       "         0.09538032, -0.00665413],\n",
       "       [ 0.0183969 , -0.01056086, -0.00760888, ...,  0.0015138 ,\n",
       "         0.06959043,  0.01532576]])"
      ]
     },
     "execution_count": 52,
     "metadata": {},
     "output_type": "execute_result"
    }
   ],
   "source": [
    "# matriz de componentes principales\n",
    "pca.components_"
   ]
  },
  {
   "cell_type": "code",
   "execution_count": 55,
   "metadata": {},
   "outputs": [
    {
     "data": {
      "text/plain": [
       "array([-0.05232729, -0.06186165, -0.04063233, -0.03571688, -0.04426799,\n",
       "       -0.03117885, -0.04195437, -0.04102843, -0.047447  , -0.0514796 ,\n",
       "       -0.04417477, -0.03948561, -0.05234323, -0.05956226, -0.01909001,\n",
       "       -0.01763452, -0.04453116, -0.04095821, -0.03780522, -0.04424965,\n",
       "       -0.04895044, -0.02683818, -0.0390766 , -0.03516752, -0.05631016,\n",
       "       -0.05207146, -0.05213661, -0.05341233, -0.03223088, -0.06063033,\n",
       "       -0.05645073, -0.07126477, -0.04835647, -0.07189058, -0.04974139,\n",
       "       -0.06675347, -0.03231203, -0.04507903, -0.05577531, -0.04411406,\n",
       "       -0.03774045, -0.03791058, -0.05263937, -0.06862596, -0.07233256,\n",
       "       -0.04368479, -0.04413568, -0.02800064, -0.06879084, -0.04502456,\n",
       "       -0.02284859, -0.06030392, -0.04397272, -0.01694404, -0.04160925,\n",
       "       -0.05339543, -0.03012542, -0.04443161, -0.06177178, -0.03088524,\n",
       "       -0.04750409, -0.04940925, -0.03221069, -0.06314231, -0.03103669,\n",
       "       -0.05670225, -0.05364647, -0.06049054, -0.03820449, -0.03934684,\n",
       "       -0.04228149, -0.06530471, -0.03325976, -0.06349316, -0.04240706,\n",
       "       -0.02621024, -0.04076969, -0.05072508, -0.03451315, -0.06257133,\n",
       "       -0.02275978, -0.04822484, -0.02542025, -0.04473474, -0.0410846 ,\n",
       "       -0.05531767, -0.04233634, -0.05423207, -0.02379251, -0.10207335,\n",
       "       -0.03185601, -0.03672989, -0.03493024, -0.03676231, -0.0272529 ,\n",
       "       -0.01913525, -0.06127529, -0.03771406, -0.03255645, -0.03234592,\n",
       "       -0.05213049, -0.01712752, -0.04614522, -0.03125978, -0.05338829,\n",
       "       -0.052995  , -0.03787023, -0.03314164, -0.05972949, -0.02600214,\n",
       "       -0.02433779, -0.05552106, -0.0406167 , -0.05258391, -0.03775423,\n",
       "       -0.03890088, -0.04818852, -0.04837112, -0.03273026, -0.04566604,\n",
       "       -0.07076532, -0.01882028, -0.06031915, -0.03658427, -0.05033671,\n",
       "       -0.0295421 , -0.03386134, -0.05936228, -0.03929278, -0.05618763,\n",
       "       -0.05443048, -0.0457927 , -0.02427615, -0.03435348, -0.05471128,\n",
       "       -0.02044973, -0.03614142, -0.03221582, -0.01785296, -0.01405859,\n",
       "       -0.03190235, -0.07806477, -0.0409068 , -0.04332535, -0.04190999,\n",
       "       -0.00992075, -0.04084587, -0.01642088, -0.0351754 , -0.05444031,\n",
       "       -0.04929826, -0.0616876 , -0.03664402, -0.02366164, -0.04912572,\n",
       "       -0.03455873, -0.0257441 , -0.07121592, -0.05661675, -0.01862079,\n",
       "       -0.03873344, -0.02435592, -0.03541822, -0.05326862, -0.02471693,\n",
       "       -0.05150549, -0.04679055, -0.0451201 , -0.05338714, -0.09871546,\n",
       "       -0.0471462 , -0.02132429, -0.04707997, -0.04111186, -0.04057449,\n",
       "       -0.05572731, -0.03758292, -0.04275947, -0.06360742, -0.0617128 ,\n",
       "       -0.05562655, -0.02691536, -0.06153535, -0.03882362, -0.04040541,\n",
       "       -0.03289533, -0.04750486, -0.02572512, -0.04986208, -0.04963484,\n",
       "       -0.03960139, -0.04075626, -0.04806278, -0.04342885, -0.04631214,\n",
       "       -0.0565742 , -0.0584775 , -0.03951531, -0.06475623, -0.0347956 ,\n",
       "       -0.0555451 , -0.04379457, -0.03933488, -0.0227322 , -0.02564502,\n",
       "       -0.03722018, -0.07004568, -0.04903302, -0.04414717, -0.05120034,\n",
       "       -0.03907794, -0.04380243, -0.06922114, -0.03875699, -0.02672653,\n",
       "       -0.04210812, -0.03592321, -0.05323519, -0.02440965, -0.03088023,\n",
       "       -0.03506019, -0.03462999, -0.04160575, -0.05852149, -0.06823022,\n",
       "       -0.04212846, -0.04154288, -0.05024849, -0.04644761, -0.05350001,\n",
       "       -0.03431422, -0.03166396, -0.04074202, -0.04379929, -0.07074187,\n",
       "       -0.03939803, -0.04222668, -0.05520589, -0.02748698, -0.04358953,\n",
       "       -0.05321938, -0.04282469, -0.02300058, -0.05949416, -0.03205484,\n",
       "       -0.04534116, -0.0254511 , -0.05622932, -0.0586721 , -0.02125965,\n",
       "       -0.04226864, -0.0297792 , -0.0385199 , -0.05636228, -0.04011795,\n",
       "       -0.04158919, -0.04472244, -0.05687755, -0.03259668, -0.04925112,\n",
       "       -0.03692516, -0.03181102, -0.02843534, -0.07389194, -0.02558856,\n",
       "       -0.04176019, -0.05781802, -0.05510005, -0.05006466, -0.06335375,\n",
       "       -0.04473029, -0.04794801, -0.02247566, -0.03328132, -0.04960243,\n",
       "       -0.05673887, -0.03470039, -0.02399661, -0.05197233, -0.04074306,\n",
       "       -0.05369112, -0.03885772, -0.0347928 , -0.06192904, -0.06648686,\n",
       "       -0.05368715, -0.02579768, -0.05748014, -0.03735957, -0.03546883,\n",
       "       -0.03137586, -0.02210479, -0.03487047, -0.05385977, -0.06400467,\n",
       "       -0.0324229 , -0.08576536, -0.06854538, -0.04189053, -0.03362277,\n",
       "       -0.04585473, -0.04869756, -0.07877849, -0.05211405, -0.06793908,\n",
       "       -0.04777857, -0.03544683, -0.01861042, -0.02152871, -0.05324768,\n",
       "       -0.0776762 , -0.02651499, -0.03785912, -0.03870318, -0.03405302,\n",
       "       -0.05667007, -0.0552146 , -0.05130442, -0.04748277, -0.05336222,\n",
       "       -0.05613664, -0.05232009, -0.04746613, -0.06756783, -0.03898155,\n",
       "       -0.03561527, -0.0473908 , -0.03496921, -0.0404765 , -0.05615664,\n",
       "       -0.01718679, -0.05092187, -0.03588997, -0.02173224, -0.02215705,\n",
       "       -0.03199453, -0.06455941, -0.02210986, -0.03155438, -0.05503812,\n",
       "       -0.05905213, -0.05132832, -0.04713924, -0.03805358, -0.02557786,\n",
       "       -0.04841888, -0.05719595, -0.01818983, -0.0498314 , -0.0209013 ,\n",
       "       -0.03692323, -0.06400968, -0.02386276, -0.05553962, -0.04690526,\n",
       "       -0.05967816, -0.03793261, -0.06566612, -0.04226568, -0.05863907,\n",
       "       -0.02795046, -0.02844971, -0.057352  , -0.06288857, -0.05441695,\n",
       "       -0.04961014, -0.06022113, -0.04454842, -0.03401044, -0.05347307,\n",
       "       -0.04392844, -0.03657043, -0.06087101, -0.02687147, -0.03070323,\n",
       "       -0.03628935, -0.03752482, -0.0206807 , -0.0699419 , -0.04965809,\n",
       "       -0.04239858, -0.04665118, -0.0265288 , -0.04897133, -0.03935608,\n",
       "       -0.0465558 , -0.03896525, -0.03813662, -0.01138912, -0.02832952,\n",
       "       -0.04887613, -0.03302198, -0.02426632, -0.0570771 , -0.05948111,\n",
       "       -0.06418282, -0.03086959, -0.04305993, -0.07007794, -0.03407481,\n",
       "       -0.03745906, -0.02574603, -0.02392936, -0.03464414, -0.03474481,\n",
       "       -0.05085656, -0.02967193, -0.05028969, -0.03524391, -0.04161733,\n",
       "       -0.0459542 , -0.04149941, -0.05929208, -0.05191437, -0.03163148,\n",
       "       -0.04498306, -0.02674959, -0.04472764, -0.03741525, -0.04863386,\n",
       "       -0.0602093 , -0.05774458, -0.06029822, -0.02555856, -0.04152172,\n",
       "       -0.0365276 , -0.03669984, -0.05646447, -0.04843775, -0.03387398,\n",
       "       -0.08605081, -0.04300026, -0.03879229, -0.04490747, -0.03850438,\n",
       "       -0.041104  , -0.05275212, -0.05205482, -0.05772792, -0.03511491,\n",
       "       -0.03266207, -0.03944147, -0.06732135, -0.02237326, -0.025097  ,\n",
       "       -0.04114966, -0.03852753, -0.06529689, -0.01628937, -0.04753424,\n",
       "       -0.05492548, -0.02584718, -0.08052223, -0.021487  , -0.0460847 ,\n",
       "       -0.04449331, -0.04986991, -0.06208561, -0.06817862, -0.01562305,\n",
       "       -0.03363646, -0.04631764, -0.03860116, -0.0353279 , -0.05414565,\n",
       "       -0.04719407, -0.04237626, -0.03840767, -0.06137394, -0.03614861])"
      ]
     },
     "execution_count": 55,
     "metadata": {},
     "output_type": "execute_result"
    }
   ],
   "source": [
    "pca.components_[0]"
   ]
  },
  {
   "cell_type": "code",
   "execution_count": 67,
   "metadata": {},
   "outputs": [
    {
     "data": {
      "image/png": "[encoded data removed]",
      "text/plain": [
       "<Figure size 432x288 with 1 Axes>"
      ]
     },
     "metadata": {
      "needs_background": "light"
     },
     "output_type": "display_data"
    }
   ],
   "source": [
    "#primer componente\n",
    "plt.plot(pca.components_[0])\n",
    "plt.plot([0.0] * pca.components_[0].shape[0])\n",
    "plt.grid()"
   ]
  },
  {
   "cell_type": "code",
   "execution_count": 66,
   "metadata": {},
   "outputs": [
    {
     "data": {
      "image/png": "[encoded data removed]",
      "text/plain": [
       "<Figure size 432x288 with 1 Axes>"
      ]
     },
     "metadata": {
      "needs_background": "light"
     },
     "output_type": "display_data"
    }
   ],
   "source": [
    "#segundo\n",
    "plt.plot(pca.components_[1])\n",
    "plt.plot([0.0] * pca.components_[1].shape[0])\n",
    "plt.grid()"
   ]
  },
  {
   "cell_type": "code",
   "execution_count": 71,
   "metadata": {},
   "outputs": [
    {
     "data": {
      "image/png": "[encoded data removed]",
      "text/plain": [
       "<Figure size 432x288 with 1 Axes>"
      ]
     },
     "metadata": {
      "needs_background": "light"
     },
     "output_type": "display_data"
    }
   ],
   "source": [
    "#Segundo componente rankeado\n",
    "\n",
    "componente2 = - pca.components_[1]\n",
    "componente2_ranked = np.sort(componente2)\n",
    "plt.plot(componente2_ranked)\n",
    "plt.plot([0.0] * pca.components_[0].shape[0])\n",
    "plt.grid()"
   ]
  },
  {
   "cell_type": "code",
   "execution_count": 75,
   "metadata": {},
   "outputs": [
    {
     "data": {
      "image/png": "[encoded data removed]",
      "text/plain": [
       "<Figure size 432x288 with 1 Axes>"
      ]
     },
     "metadata": {
      "needs_background": "light"
     },
     "output_type": "display_data"
    }
   ],
   "source": [
    "plt.plot(pca.explained_variance_)\n",
    "plt.grid()"
   ]
  },
  {
   "cell_type": "code",
   "execution_count": 78,
   "metadata": {},
   "outputs": [
    {
     "data": {
      "image/png": "[encoded data removed]",
      "text/plain": [
       "<Figure size 432x288 with 1 Axes>"
      ]
     },
     "metadata": {
      "needs_background": "light"
     },
     "output_type": "display_data"
    }
   ],
   "source": [
    "# porentaje de varianza explicada por los n primeros componentes principales\n",
    "plt.plot(pca.explained_variance_ratio_.cumsum())\n",
    "\n",
    "#threshold en 95%\n",
    "plt.plot(np.ones(460) * 0.95, 'r--')\n",
    "plt.grid()"
   ]
  },
  {
   "cell_type": "code",
   "execution_count": 82,
   "metadata": {},
   "outputs": [
    {
     "data": {
      "image/png": "[encoded data removed]",
      "text/plain": [
       "<Figure size 432x288 with 1 Axes>"
      ]
     },
     "metadata": {
      "needs_background": "light"
     },
     "output_type": "display_data"
    }
   ],
   "source": [
    "plt.plot(-pca.components_.mean(axis=1))\n",
    "plt.grid()"
   ]
  },
  {
   "cell_type": "code",
   "execution_count": 83,
   "metadata": {},
   "outputs": [
    {
     "data": {
      "text/plain": [
       "Index(['A', 'AAL', 'AAP', 'AAPL', 'ABBV', 'ABC', 'ABT', 'ACN', 'ADBE', 'ADI',\n",
       "       ...\n",
       "       'XL', 'XLNX', 'XOM', 'XRAY', 'XRX', 'XYL', 'YUM', 'ZBH', 'ZION', 'ZTS'],\n",
       "      dtype='object', name='Name', length=470)"
      ]
     },
     "execution_count": 83,
     "metadata": {},
     "output_type": "execute_result"
    }
   ],
   "source": [
    "data_final.columns"
   ]
  },
  {
   "cell_type": "code",
   "execution_count": 86,
   "metadata": {},
   "outputs": [
    {
     "data": {
      "image/png": "[encoded data removed]",
      "text/plain": [
       "<Figure size 432x288 with 1 Axes>"
      ]
     },
     "metadata": {
      "needs_background": "light"
     },
     "output_type": "display_data"
    }
   ],
   "source": [
    "#Estimar volatilidad de cartera de dos activos, apple + abc equal weighted\n",
    "plt.plot(0.5 * pca.components_[:,3] + 0.5 * pca.components_[:,5])\n",
    "plt.grid()"
   ]
  },
  {
   "cell_type": "code",
   "execution_count": 89,
   "metadata": {},
   "outputs": [
    {
     "data": {
      "text/plain": [
       "-0.0009791037267562809"
      ]
     },
     "execution_count": 89,
     "metadata": {},
     "output_type": "execute_result"
    }
   ],
   "source": [
    "component_weights = 0.5 * pca.components_[:,3] + 0.5 * pca.components_[:,5]\n",
    "#Multiplicamos la exposicion a cada componente por la varianza de cada componente\n",
    "component_weights.dot(pca.explained_variance_)"
   ]
  },
  {
   "cell_type": "code",
   "execution_count": null,
   "metadata": {},
   "outputs": [],
   "source": []
  }
 ],
 "metadata": {
  "interpreter": {
   "hash": "11804bb1f250a85d0267cdde9a53e916113451a0f88a057835fc51e3493d4141"
  },
  "kernelspec": {
   "display_name": "Python 3.8.8 ('base')",
   "language": "python",
   "name": "python3"
  },
  "language_info": {
   "codemirror_mode": {
    "name": "ipython",
    "version": 3
   },
   "file_extension": ".py",
   "mimetype": "text/x-python",
   "name": "python",
   "nbconvert_exporter": "python",
   "pygments_lexer": "ipython3",
   "version": "3.8.8"
  },
  "orig_nbformat": 4
 },
 "nbformat": 4,
 "nbformat_minor": 2
}
