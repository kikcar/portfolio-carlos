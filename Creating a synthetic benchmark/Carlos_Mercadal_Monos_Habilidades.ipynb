{
 "cells": [
  {
   "cell_type": "markdown",
   "id": "cfd0c698-c9db-4d5c-b195-32fbb2100a23",
   "metadata": {},
   "source": [
    "## **MONOS CON HABILIDADES - CARLOS MERCADAL**"
   ]
  },
  {
   "cell_type": "markdown",
   "id": "75de2e35-c797-4fca-ad7b-a7b33085f8d3",
   "metadata": {},
   "source": [
    "- Número de Simulaciones realizadas: 100M\n",
    "- Tiempo de ejecución: 22h 20 minutos"
   ]
  },
  {
   "cell_type": "markdown",
   "id": "e811ea75-bac8-42e2-94d5-1eecc207da43",
   "metadata": {},
   "source": [
    "**1) ¿Cómo resolvemos el problema de la homogeneización y limpieza de los datos?. ¿Con cuántos activos nos quedamos?**"
   ]
  },
  {
   "cell_type": "markdown",
   "id": "fa105fd2-0a41-4a04-bb82-367d9a43eb10",
   "metadata": {},
   "source": [
    "Para resolver el problema de la homogeneización de los datos he seguido el mismo enfoque que el seguido para el ejercicio de markowitz con los 70.000 fondos. He generado una función homogeneiazdora que se encarga de filtrar los datos por ISIN y Fechas, creando un único data-frame con todos los fondos y todas las fechas. Posteriormente la función va recorriendo todas las fechas y rellenando los datos para cada fondo. \n",
    "\n",
    "Una vez tenemos el data-frame con todos los datos, a esa misma función homogeneizadora le paso un filtro como parámetro para que me deje sólo aquellos fondos que tengan como mínimo el 85% de los días cotizados, y posteriormente le paso la función limpiadora que se encargará de hacer un forward y backward fill para los pocos datos que falten a los fondos. \n",
    "\n",
    "En total nos quedamos con alrededor de 17.000 fondos."
   ]
  },
  {
   "cell_type": "markdown",
   "id": "4e4100c0-5d27-4fb7-87db-cf312e0e6d69",
   "metadata": {},
   "source": [
    "**2)¿Cuántas simulaciones vamos a realizar?**"
   ]
  },
  {
   "cell_type": "markdown",
   "id": "feb499f1-37c2-4ba9-81f6-ca32fb050bc9",
   "metadata": {},
   "source": [
    "Vamos a realizar 100M de simulaciones"
   ]
  },
  {
   "cell_type": "markdown",
   "id": "8b64e72c-89ce-47b6-9cc5-6562fa947aee",
   "metadata": {},
   "source": [
    "**3) ¿Cómo generamos los números aleatorios y cuántos generamos?¿Cuántos activos seleccionamos para cada simulación?¿Cómo asignamos pesos?**"
   ]
  },
  {
   "cell_type": "markdown",
   "id": "bff0e8c4-408e-4a92-bcad-87f972d85919",
   "metadata": {},
   "source": [
    "El mecanismo para la generación de carteras tanto en Alpha de Jensen, Markowitz, Sharpe, y aleatorio, ha sido el mismo. Para cada simulación he generado carteras aleatorias de tamaño 2 a 30, de forma que evitaramos tener el famoso problema de los pesos que teníamos con runif. Una vez hemos seleccionado un tamaño aleatorio, escogemos números aleatorios entre 1 y 100 para el número de activos la cartera, y despues lo dividimos por el sumatorio de todos los números aleatorios. De esde modo, ya tenemos unos pesos aleatorios asignados. Finalmente, sólo queda seleccionar los activos que van a formar parte de la cartera. Para ello, cogemos el tamaño de la cartera (i.e 7) y sacamos 7 fondos aleatorios de nuestro maestro de valores. "
   ]
  },
  {
   "cell_type": "markdown",
   "id": "94c8d354-83ed-4d5c-ae3b-8660d44ecb10",
   "metadata": {},
   "source": [
    "**4) Enfoque de las habilidades de los monos**"
   ]
  },
  {
   "cell_type": "markdown",
   "id": "7a6a3202-1ffa-4359-b93a-a73d34e22825",
   "metadata": {},
   "source": [
    "En cuanto a las habilidades de los monos, primero he calculado el alpha de jensen y el ratio de sharpe para ventanas de 15 a 60 días de 5 en 5. De este modo, los monos que tengan asignadas las habilidades de alpha o de sharpe, no sólo van a escoger carteras aleatorias basados en los alphas o sharpes de una ventana concreta, si no que enriquecemos la simulacion dando la posibilidad de que cada mono tenga unas ventanas distintas. "
   ]
  },
  {
   "cell_type": "markdown",
   "id": "8f0e8df4-f8e5-4710-bca8-48c0042e086e",
   "metadata": {},
   "source": [
    "Para Markowitz simplemente me he limitado a seguir las indicaciones del ejercicio, escogiendo una ventana de 250 días (1 año, aproximadamente). En cuanto a las simulaciones de markowitz dentro de cada mono, he obtado por hacer únicamente 100 carteras de pesos aleatorios. La razón de hacer esa cantidad se basa en que el mero hecho de generar miles de pesos no va a conllevar un resultado muy distinto y eficientemente es más rapido. Además, no debemos olvidar que estamos haciendo millones de simulaciones de monos para una misma ventana de markowitz, por lo que realmente no estamos \"perdiendo\" aleatoriedad, si no que ésta sigue existiendo y ganamos más velocidad. "
   ]
  },
  {
   "cell_type": "markdown",
   "id": "0d825011-f877-4d78-81f4-352352b0f7f7",
   "metadata": {},
   "source": [
    "**5) Reinversión de los monos**"
   ]
  },
  {
   "cell_type": "markdown",
   "id": "3d2985c4-1773-4b5e-8179-8de501e035d0",
   "metadata": {},
   "source": [
    "La reinversión de los monos la he solventado con un bucle \"while\", indicando que para cada mono si su rentabilidad no es inferior al umbral establecido en el enunciado, pueda reinvertir hasta que se quede sin \"días\" para poder invertir. "
   ]
  },
  {
   "cell_type": "code",
   "execution_count": 2,
   "id": "a3ebae79-bc7d-4bd7-80a5-6d9b9ad4e381",
   "metadata": {},
   "outputs": [],
   "source": [
    "import numpy as np\n",
    "import pandas as pd\n",
    "import funciones_monos\n",
    "import pickle\n",
    "from tqdm import tqdm\n",
    "import itertools\n",
    "import multiprocessing as mp\n",
    "import time\n",
    "import matplotlib.pyplot as plt\n",
    "from datetime import datetime\n",
    "import random"
   ]
  },
  {
   "cell_type": "markdown",
   "id": "565e2c40-f878-4a72-a23e-b7d1037a3e2e",
   "metadata": {},
   "source": [
    "#### **Cargamos los datos proporcionados y los homogeneizamos**"
   ]
  },
  {
   "cell_type": "code",
   "execution_count": null,
   "id": "d9276fd3-13bd-4108-b21d-e0d0ddb379a6",
   "metadata": {},
   "outputs": [],
   "source": [
    "navs = pickle.load(open(r'C:\\Users\\Carlos\\Documents\\MIA-X\\Modulo 2\\Ejercicios Voluntarios\\Monos con habilidades\\navs.pickle','rb'))\n",
    "df_allfunds = pd.concat(navs)\n",
    "df_allfunds = df_allfunds.droplevel(level=0, axis=0)"
   ]
  },
  {
   "cell_type": "code",
   "execution_count": null,
   "id": "eab882e7-e951-4f4a-8f66-b67eedbefa19",
   "metadata": {},
   "outputs": [],
   "source": [
    "porcentaje_dias_cotizados = 0.85\n",
    "fondos_homogeneizados = funciones_monos.homogeneización_fondos(df_allfunds, porcentaje_dias_cotizados)"
   ]
  },
  {
   "cell_type": "code",
   "execution_count": 2,
   "id": "e7246338-0998-4ba1-bbd8-2cd1092ee046",
   "metadata": {},
   "outputs": [],
   "source": [
    "datos_fondos = pickle.load(open(r'C:\\Users\\Carlos\\Documents\\MIA-X\\Modulo 2\\Ejercicios Voluntarios\\Monos con habilidades\\fondos_homogeneizados.pkl','rb'))\n",
    "datos_fondos.columns = datos_fondos.columns.map(''.join)\n",
    "rentabilidad_fondos = np.array(np.log(pd.DataFrame(datos_fondos)).diff().dropna())"
   ]
  },
  {
   "cell_type": "code",
   "execution_count": 3,
   "id": "e4b2faa7-ed99-4506-928b-622277d1f983",
   "metadata": {},
   "outputs": [],
   "source": [
    "maestro_fondos = pd.read_csv(r\"C:\\Users\\Carlos\\Documents\\MIA-X\\Modulo 2\\Ejercicios Voluntarios\\Monos con habilidades\\maestro.csv\", encoding=\"utf-8\", parse_dates=True, index_col=0)"
   ]
  },
  {
   "cell_type": "code",
   "execution_count": 4,
   "id": "a768d418-870c-4102-bb81-e944f37e93f9",
   "metadata": {},
   "outputs": [
    {
     "data": {
      "text/plain": [
       "10512    AMUNDI INDEX MSCI WORLD \"IU\" (USD) INC\n",
       "10513    AMUNDI INDEX MSCI WORLD \"AU\" (USD) INC\n",
       "10514    AMUNDI INDEX MSCI WORLD \"RE\" (EUR) ACC\n",
       "10515    AMUNDI INDEX MSCI WORLD \"IE-EXF\" (EUR)\n",
       "10516    AMUNDI INDEX MSCI WORLD \"AE\" (EUR) ACC\n",
       "10518    AMUNDI INDEX MSCI WORLD \"AE\" (EUR) INC\n",
       "10519    AMUNDI INDEX MSCI WORLD \"IE\" (EUR) ACC\n",
       "10520    AMUNDI INDEX MSCI WORLD \"AU\" (USD) ACC\n",
       "10521    AMUNDI INDEX MSCI WORLD \"IE\" (EUR) INC\n",
       "Name: name, dtype: object"
      ]
     },
     "execution_count": 4,
     "metadata": {},
     "output_type": "execute_result"
    }
   ],
   "source": [
    "maestro_fondos.name[maestro_fondos.name.str.contains(\"AMUNDI INDEX MSCI WORLD\")] #Identificamos posibles Benchmark, y nos quedamos con el que más nos guste"
   ]
  },
  {
   "cell_type": "code",
   "execution_count": 5,
   "id": "36db1edc-35eb-4379-be29-2a4c025585d9",
   "metadata": {},
   "outputs": [],
   "source": [
    "isin_benchmark = maestro_fondos.iloc[10516][\"isin\"] #Selecciono el de la posición 10516\n",
    "msci_world = datos_fondos.loc[:,isin_benchmark] #Lo guardamos en otra variable \n",
    "datos_fondos = datos_fondos.drop(isin_benchmark, axis = 1) #se elimina del data-frame\n",
    "datos_fondos = np.array(datos_fondos)"
   ]
  },
  {
   "cell_type": "markdown",
   "id": "d7b76f84-7715-4cb2-ad69-2158c86929c1",
   "metadata": {},
   "source": [
    "**Generamos las ventanas para el Alpha Jensen**"
   ]
  },
  {
   "cell_type": "code",
   "execution_count": null,
   "id": "72ef6af7-853e-451e-b6bb-008c95c479dc",
   "metadata": {},
   "outputs": [],
   "source": [
    "start_time = time.time()\n",
    "ventana = np.arange(15,65,5)\n",
    "lista_ventana = ventana.tolist()\n",
    "lista_fondos = [datos_fondos]\n",
    "lista_indice = [msci_world]\n",
    "\n",
    "all_combinations = itertools.product(lista_fondos, lista_indice, lista_ventana)\n",
    "pool = mp.Pool(mp.cpu_count()-2)\n",
    "if __name__ == \"__main__\":\n",
    "    alphas = pool.starmap(funciones_monos.alpha_jensen, all_combinations)\n",
    "ventanas_alpha = {}\n",
    "count = 0\n",
    "for ventana in lista_ventana:\n",
    "    ventanas_alpha[ventana] = np.array(alphas[lista_ventana.index(ventana)][0])\n",
    "pickle.dump(ventanas_alpha, open(\"ventanas_alpha.pickle\", \"wb\"))\n",
    "print(\"--- %s seconds ---\" % (time.time() - start_time))"
   ]
  },
  {
   "cell_type": "code",
   "execution_count": 6,
   "id": "7972f3b3-c4e0-4b35-9aa4-429accb1339d",
   "metadata": {},
   "outputs": [],
   "source": [
    "ventanas_alpha = pickle.load(open(r'C:\\Users\\Carlos\\Documents\\MIA-X\\Modulo 2\\Ejercicios Voluntarios\\Monos con habilidades\\ventanas_alpha.pickle','rb'))"
   ]
  },
  {
   "cell_type": "markdown",
   "id": "8f347289-1883-496e-a52e-7f38d97b2f16",
   "metadata": {},
   "source": [
    "**Generamos las ventanas para el Ratio Sharpe**"
   ]
  },
  {
   "cell_type": "code",
   "execution_count": null,
   "id": "b6b0168f-a0c4-4e1d-90cd-ac3643771274",
   "metadata": {},
   "outputs": [],
   "source": [
    "ventana = np.arange(15,65,5)\n",
    "sharpe_ratio = funciones_monos.ratio_sharpe(datos_fondos, ventana)\n",
    "pickle.dump(sharpe_ratio, open(\"sharpe_ratio.pickle\", \"wb\"))"
   ]
  },
  {
   "cell_type": "code",
   "execution_count": 7,
   "id": "a59833cf-b8aa-4a99-ad73-eb99f7a39236",
   "metadata": {
    "tags": []
   },
   "outputs": [],
   "source": [
    "ventanas_sharpe = pickle.load(open(r'C:\\Users\\Carlos\\Documents\\MIA-X\\Modulo 2\\Ejercicios Voluntarios\\Monos con habilidades\\sharpe_ratio.pickle','rb'))"
   ]
  },
  {
   "cell_type": "markdown",
   "id": "3b36d1e1-ae53-4f42-b371-d5dd190fefa8",
   "metadata": {},
   "source": [
    "**GENERACIÓN DE MONOS Y ASIGNACIÓN DE HABILIDADES**"
   ]
  },
  {
   "cell_type": "markdown",
   "id": "b4897434-9e50-48e7-8627-c6f17d8a3e2f",
   "metadata": {},
   "source": [
    "Primera tanda"
   ]
  },
  {
   "cell_type": "code",
   "execution_count": 8,
   "id": "11bece44-2eea-4c9b-8825-de13de423cc0",
   "metadata": {},
   "outputs": [
    {
     "name": "stdout",
     "output_type": "stream",
     "text": [
      "ALPHA: 5978261.0\n",
      "SHARPE: 4891304.0\n",
      "MARKOWITZ: 28804348.0\n",
      "ALEATORIO: 10326087.0\n"
     ]
    }
   ],
   "source": [
    "start_time = time.time()\n",
    "n_simulaciones = 50000000\n",
    "porcentajes_habilidades = np.random.randint(1,100, size = 4)\n",
    "porcentajes_habilidades = porcentajes_habilidades/np.sum(porcentajes_habilidades)\n",
    "simulaciones_alpha = np.round(porcentajes_habilidades[0] * n_simulaciones)\n",
    "simulaciones_sharpe = np.round(porcentajes_habilidades[1] * n_simulaciones)\n",
    "simulaciones_marko = np.round(porcentajes_habilidades[2] * n_simulaciones)\n",
    "simulaciones_aleatorio = np.round(porcentajes_habilidades[3] * n_simulaciones)\n",
    "print('ALPHA:', simulaciones_alpha)\n",
    "print('SHARPE:', simulaciones_sharpe)\n",
    "print('MARKOWITZ:', simulaciones_marko)\n",
    "print('ALEATORIO:', simulaciones_aleatorio)"
   ]
  },
  {
   "cell_type": "markdown",
   "id": "af6b4f28-356e-4407-bb56-c506b416e879",
   "metadata": {},
   "source": [
    "Segunda tanda"
   ]
  },
  {
   "cell_type": "code",
   "execution_count": 13,
   "id": "4ddd77da-6749-4807-8bcb-aec68d85e996",
   "metadata": {},
   "outputs": [
    {
     "name": "stdout",
     "output_type": "stream",
     "text": [
      "ALPHA: 8739837.0\n",
      "SHARPE: 3048780.0\n",
      "MARKOWITZ: 18699187.0\n",
      "ALEATORIO: 19512195.0\n"
     ]
    }
   ],
   "source": [
    "n_simulaciones = 50000000\n",
    "porcentajes_habilidades = np.random.randint(1,100, size = 4)\n",
    "porcentajes_habilidades = porcentajes_habilidades/np.sum(porcentajes_habilidades)\n",
    "simulaciones_alpha = np.round(porcentajes_habilidades[0] * n_simulaciones)\n",
    "simulaciones_sharpe = np.round(porcentajes_habilidades[1] * n_simulaciones)\n",
    "simulaciones_marko = np.round(porcentajes_habilidades[2] * n_simulaciones)\n",
    "simulaciones_aleatorio = np.round(porcentajes_habilidades[3] * n_simulaciones)\n",
    "print('ALPHA:', simulaciones_alpha)\n",
    "print('SHARPE:', simulaciones_sharpe)\n",
    "print('MARKOWITZ:', simulaciones_marko)\n",
    "print('ALEATORIO:', simulaciones_aleatorio)"
   ]
  },
  {
   "cell_type": "markdown",
   "id": "1368e480-0698-4327-9ce2-4075b4742b93",
   "metadata": {},
   "source": [
    "**Calculamos el Alpha**"
   ]
  },
  {
   "cell_type": "code",
   "execution_count": 10,
   "id": "50391617-bf47-4e61-9d16-75cfa055baa9",
   "metadata": {},
   "outputs": [
    {
     "name": "stderr",
     "output_type": "stream",
     "text": [
      "100%|██████████| 5978261/5978261 [3:18:10<00:00, 502.76it/s]  \n"
     ]
    }
   ],
   "source": [
    "#Calculamos el Alpha\n",
    "rentabilidad_monos_alpha = []\n",
    "for repeticiones in tqdm(range(simulaciones_alpha.astype(int))):\n",
    "    ventana = np.random.choice(np.arange(15,65,5))\n",
    "    rentabilidad_alpha = funciones_monos.habilidad_alpha(ventanas_alpha, datos_fondos, ventana)\n",
    "    rentabilidad_monos_alpha.append( rentabilidad_alpha)\n",
    "pickle.dump(rentabilidad_monos_alpha, open(\"alpha_rentabilidad_monos.pkl\", \"wb\"))"
   ]
  },
  {
   "cell_type": "code",
   "execution_count": 8,
   "id": "626590e4-88ce-40de-a304-24c8bac999e3",
   "metadata": {},
   "outputs": [
    {
     "name": "stderr",
     "output_type": "stream",
     "text": [
      "100%|██████████| 8739837/8739837 [4:28:48<00:00, 541.88it/s]  \n"
     ]
    }
   ],
   "source": [
    "#Calculamos el Alpha\n",
    "rentabilidad_monos_alpha = []\n",
    "for repeticiones in  tqdm(range(int(simulaciones_alpha))):\n",
    "    ventana = np.random.choice(np.arange(15,65,5))\n",
    "    rentabilidad_alpha = funciones_monos.habilidad_alpha(ventanas_alpha, datos_fondos, ventana)\n",
    "    rentabilidad_monos_alpha.append( rentabilidad_alpha)\n",
    "pickle.dump(rentabilidad_monos_alpha, open(\"alpha_segunda_tanda.pkl\", \"wb\"))"
   ]
  },
  {
   "cell_type": "markdown",
   "id": "80a34732-516f-4e50-b329-4b9a2a8719bb",
   "metadata": {},
   "source": [
    "**Calculamos el Sharpe**"
   ]
  },
  {
   "cell_type": "code",
   "execution_count": 11,
   "id": "e91472f1-b4d9-47b1-b7f5-2c19f6d405c6",
   "metadata": {},
   "outputs": [
    {
     "name": "stderr",
     "output_type": "stream",
     "text": [
      "100%|██████████| 4891304/4891304 [2:31:57<00:00, 536.46it/s]  \n"
     ]
    }
   ],
   "source": [
    "#Calculamos Sharpe\n",
    "rentabilidad_monos_sharpe = []\n",
    "for repeticiones in tqdm(range(simulaciones_sharpe.astype(int))):\n",
    "    ventana = np.random.choice(np.arange(15,65,5))\n",
    "    rentabilidad_sharpe = funciones_monos.habilidad_sharpe(ventanas_sharpe, datos_fondos, ventana)\n",
    "    rentabilidad_monos_sharpe.append(rentabilidad_sharpe)\n",
    "pickle.dump(rentabilidad_monos_sharpe, open(\"rentabilidad_monos_sharpe.pkl\", \"wb\"))"
   ]
  },
  {
   "cell_type": "code",
   "execution_count": 19,
   "id": "96d32d5e-670c-4054-8bb7-ae8e20343921",
   "metadata": {},
   "outputs": [
    {
     "name": "stderr",
     "output_type": "stream",
     "text": [
      "100%|██████████| 3048780/3048780 [1:35:03<00:00, 534.57it/s]\n"
     ]
    }
   ],
   "source": [
    "#Calculamos Sharpe\n",
    "rentabilidad_monos_sharpe = []\n",
    "for repeticiones in tqdm(range(simulaciones_sharpe.astype(int))):\n",
    "    ventana = np.random.choice(np.arange(15,65,5))\n",
    "    rentabilidad_sharpe = funciones_monos.habilidad_sharpe(ventanas_sharpe, datos_fondos, ventana)\n",
    "    rentabilidad_monos_sharpe.append(rentabilidad_sharpe)\n",
    "pickle.dump(rentabilidad_monos_sharpe, open(\"sharpe_segunda_tanda.pkl\", \"wb\"))"
   ]
  },
  {
   "cell_type": "markdown",
   "id": "d217c935-826e-4a56-9d33-2b517eb87dca",
   "metadata": {},
   "source": [
    "**Calculamos Markowitz**"
   ]
  },
  {
   "cell_type": "code",
   "execution_count": 7,
   "id": "56f781c4-fe26-41b2-8a08-4379d6f08f48",
   "metadata": {},
   "outputs": [
    {
     "name": "stderr",
     "output_type": "stream",
     "text": [
      "100%|██████████| 4/4 [5:28:25<00:00, 4926.26s/it]  \n"
     ]
    }
   ],
   "source": [
    "#Calculamos Markowitz\n",
    "lista_datos = [datos_fondos]\n",
    "lista_rentabilidades = [rentabilidad_fondos]\n",
    "rentabilidad_monos_marko = []\n",
    "                                    \n",
    "for repeticiones in tqdm(range(4)):  \n",
    "    all_combinations = itertools.product(lista_datos, lista_rentabilidades, range(int(simulaciones_marko/4)))    \n",
    "    pool = mp.Pool(mp.cpu_count()-2)\n",
    "    if __name__ == \"__main__\":\n",
    "        rentabilidad_marko = pool.starmap(funciones_monos.habilidad_markowitz, all_combinations)\n",
    "        rentabilidad_monos_marko.append(rentabilidad_marko)\n",
    "        pickle.dump(rentabilidad_monos_marko, open(\"rentabilidad_monos_marko.pkl\", \"wb\"))"
   ]
  },
  {
   "cell_type": "code",
   "execution_count": 16,
   "id": "3139da51-6e4f-4641-8e7d-7967ab3ef90b",
   "metadata": {},
   "outputs": [
    {
     "name": "stderr",
     "output_type": "stream",
     "text": [
      "100%|██████████| 13/13 [3:32:20<00:00, 980.05s/it] \n"
     ]
    }
   ],
   "source": [
    "#Calculamos Markowitz\n",
    "lista_datos = [datos_fondos]\n",
    "lista_rentabilidades = [rentabilidad_fondos]\n",
    "rentabilidad_monos_marko = []\n",
    "                                    \n",
    "for repeticiones in tqdm(range(13)):  \n",
    "    all_combinations = itertools.product(lista_datos, lista_rentabilidades, range(int(simulaciones_marko/13)))    \n",
    "    pool = mp.Pool(mp.cpu_count()-2)\n",
    "    if __name__ == \"__main__\":\n",
    "        rentabilidad_marko = pool.starmap(funciones_monos.habilidad_markowitz, all_combinations)\n",
    "        rentabilidad_monos_marko.append(rentabilidad_marko)\n",
    "        pickle.dump(rentabilidad_monos_marko, open(\"marko_segunda_tanda.pkl\", \"wb\"))"
   ]
  },
  {
   "cell_type": "markdown",
   "id": "dd5d0ec7-ca2e-45ca-8281-aec7ad0bf075",
   "metadata": {},
   "source": [
    "**Calculamos los Aleatorios**"
   ]
  },
  {
   "cell_type": "code",
   "execution_count": 12,
   "id": "a9862fd8-ab34-4dcf-a389-bfc17fd3c01c",
   "metadata": {},
   "outputs": [
    {
     "name": "stderr",
     "output_type": "stream",
     "text": [
      "100%|██████████| 10326087/10326087 [50:18<00:00, 3420.48it/s]\n"
     ]
    }
   ],
   "source": [
    "#Calculamos Aleatorios\n",
    "rentabilidad_monos_aleatorio = []\n",
    "for repeticiones in tqdm(range(int(simulaciones_aleatorio))):\n",
    "    rentabilidad_aleatorio = funciones_monos.habilidad_aleatorio(datos_fondos)\n",
    "    rentabilidad_monos_aleatorio.append(rentabilidad_aleatorio)\n",
    "pickle.dump(rentabilidad_monos_aleatorio, open(\"rentabilidad_monos_aleatorio.pkl\", \"wb\"))\n"
   ]
  },
  {
   "cell_type": "code",
   "execution_count": 9,
   "id": "2e6ca4d8-d897-4dd3-be42-a96121a24269",
   "metadata": {},
   "outputs": [
    {
     "name": "stderr",
     "output_type": "stream",
     "text": [
      "100%|██████████| 19512195/19512195 [1:33:19<00:00, 3484.66it/s]\n"
     ]
    }
   ],
   "source": [
    "#Calculamos Aleatorios\n",
    "rentabilidad_monos_aleatorio = []\n",
    "for repeticiones in tqdm(range(int(simulaciones_aleatorio))):\n",
    "    rentabilidad_aleatorio = funciones_monos.habilidad_aleatorio(datos_fondos)\n",
    "    rentabilidad_monos_aleatorio.append(rentabilidad_aleatorio)\n",
    "pickle.dump(rentabilidad_monos_aleatorio, open(\"aleatorios_segunda_tanda.pkl\", \"wb\"))"
   ]
  },
  {
   "cell_type": "markdown",
   "id": "d6d0b6b4-345d-48f9-a4aa-e33cf7a838ef",
   "metadata": {},
   "source": [
    "**Cargamos los resultados de las simulaciones**"
   ]
  },
  {
   "cell_type": "code",
   "execution_count": 48,
   "id": "c6b022dd-2161-4a3b-95ac-47f4ad97c9ed",
   "metadata": {},
   "outputs": [],
   "source": [
    "marko_primera = pickle.load(open(r'C:\\Users\\Carlos\\Documents\\MIA-X\\Modulo 2\\Ejercicios Voluntarios\\Monos con habilidades\\rentabilidad_monos_marko.pkl','rb'))\n",
    "marko_segunda = pickle.load(open(r'C:\\Users\\Carlos\\Documents\\MIA-X\\Modulo 2\\Ejercicios Voluntarios\\Monos con habilidades\\marko_segunda_tanda.pkl','rb'))\n",
    "alpha_primera = pickle.load(open(r'C:\\Users\\Carlos\\Documents\\MIA-X\\Modulo 2\\Ejercicios Voluntarios\\Monos con habilidades\\alpha_rentabilidad_monos.pkl','rb'))\n",
    "alpha_segunda = pickle.load(open(r'C:\\Users\\Carlos\\Documents\\MIA-X\\Modulo 2\\Ejercicios Voluntarios\\Monos con habilidades\\alpha_segunda_tanda.pkl','rb'))\n",
    "sharpe_primera = pickle.load(open(r'C:\\Users\\Carlos\\Documents\\MIA-X\\Modulo 2\\Ejercicios Voluntarios\\Monos con habilidades\\rentabilidad_monos_sharpe.pkl','rb'))\n",
    "sharpe_segunda = pickle.load(open(r'C:\\Users\\Carlos\\Documents\\MIA-X\\Modulo 2\\Ejercicios Voluntarios\\Monos con habilidades\\sharpe_segunda_tanda.pkl','rb'))\n",
    "aleatorio_primera = pickle.load(open(r'C:\\Users\\Carlos\\Documents\\MIA-X\\Modulo 2\\Ejercicios Voluntarios\\Monos con habilidades\\rentabilidad_monos_aleatorio.pkl','rb'))\n",
    "aleatorios_segunda = pickle.load(open(r'C:\\Users\\Carlos\\Documents\\MIA-X\\Modulo 2\\Ejercicios Voluntarios\\Monos con habilidades\\aleatorios_segunda_tanda.pkl','rb'))"
   ]
  },
  {
   "cell_type": "code",
   "execution_count": 62,
   "id": "33fb0359-bc88-4c53-b32d-b62283514c4b",
   "metadata": {},
   "outputs": [],
   "source": [
    "resultados_markowitz = marko_primera + marko_segunda\n",
    "resultados_alpha = alpha_primera + alpha_segunda\n",
    "resultados_sharpe = sharpe_primera + sharpe_segunda\n",
    "resultados_aleatorio = aleatorio_primera + aleatorios_segunda"
   ]
  },
  {
   "cell_type": "code",
   "execution_count": 64,
   "id": "224b52f1-fea9-417a-a2ad-9f1a8b767a78",
   "metadata": {},
   "outputs": [],
   "source": [
    "resultados_markowitz = ((np.array([item for sublist in resultados_markowitz for item in sublist]))-1)*1000\n",
    "resultados_alpha = (np.array(resultados_alpha)-1)*1000\n",
    "resultados_sharpe = (np.array(resultados_sharpe)-1)*1000\n",
    "resultados_aleatorio = (np.array(resultados_aleatorio)-1)*1000"
   ]
  },
  {
   "cell_type": "markdown",
   "id": "0b94368c-1062-42df-97da-edd5c63c410f",
   "metadata": {},
   "source": [
    "**Resultados Cuantiles Markowitz**"
   ]
  },
  {
   "cell_type": "code",
   "execution_count": 82,
   "id": "b386be40-023f-46c0-964a-17162c205ad3",
   "metadata": {},
   "outputs": [
    {
     "data": {
      "text/plain": [
       "0.0       0.69\n",
       "0.1      43.98\n",
       "0.2      52.90\n",
       "0.3      59.81\n",
       "0.4      66.07\n",
       "0.5      71.98\n",
       "0.6      78.26\n",
       "0.7      85.17\n",
       "0.8      93.58\n",
       "0.9     105.92\n",
       "1.0    1888.18\n",
       "dtype: float64"
      ]
     },
     "execution_count": 82,
     "metadata": {},
     "output_type": "execute_result"
    }
   ],
   "source": [
    "(pd.Series(resultados_markowitz.round(2))).quantile([0, .1, .2, .3, 0.4, 0.5, 0.6, 0.7, 0.8, 0.9, 1])"
   ]
  },
  {
   "cell_type": "markdown",
   "id": "c53e3087-6b26-4d23-aa3b-1c3530e0483d",
   "metadata": {},
   "source": [
    "**Resultados Cuantiles Alpha**"
   ]
  },
  {
   "cell_type": "code",
   "execution_count": 83,
   "id": "f6305dd9-304c-47bc-a9b0-5869f22a3903",
   "metadata": {
    "tags": []
   },
   "outputs": [
    {
     "data": {
      "text/plain": [
       "0.0   -9.800900e+02\n",
       "0.1    2.614670e+03\n",
       "0.2    3.875180e+03\n",
       "0.3    5.149610e+03\n",
       "0.4    6.584840e+03\n",
       "0.5    8.317740e+03\n",
       "0.6    1.055978e+04\n",
       "0.7    1.371466e+04\n",
       "0.8    1.881763e+04\n",
       "0.9    2.979781e+04\n",
       "1.0    2.302360e+08\n",
       "dtype: float64"
      ]
     },
     "execution_count": 83,
     "metadata": {},
     "output_type": "execute_result"
    }
   ],
   "source": [
    "(pd.Series(resultados_alpha.round(2))).quantile([0, .1, .2, .3, 0.4, 0.5, 0.6, 0.7, 0.8, 0.9, 1])"
   ]
  },
  {
   "cell_type": "markdown",
   "id": "443bd7af-eba2-4e1a-9e80-77575ae1c4c3",
   "metadata": {},
   "source": [
    "**Resultados Cuantiles Sharpe**"
   ]
  },
  {
   "cell_type": "code",
   "execution_count": 84,
   "id": "96587982-3a60-4441-b8a2-f1d946f75387",
   "metadata": {},
   "outputs": [
    {
     "data": {
      "text/plain": [
       "0.0   -9.822600e+02\n",
       "0.1    2.708250e+03\n",
       "0.2    4.030980e+03\n",
       "0.3    5.376190e+03\n",
       "0.4    6.895500e+03\n",
       "0.5    8.738905e+03\n",
       "0.6    1.112267e+04\n",
       "0.7    1.448694e+04\n",
       "0.8    1.993983e+04\n",
       "0.9    3.168852e+04\n",
       "1.0    2.683038e+07\n",
       "dtype: float64"
      ]
     },
     "execution_count": 84,
     "metadata": {},
     "output_type": "execute_result"
    }
   ],
   "source": [
    "(pd.Series(resultados_sharpe.round(2))).quantile([0, .1, .2, .3, 0.4, 0.5, 0.6, 0.7, 0.8, 0.9, 1])"
   ]
  },
  {
   "cell_type": "markdown",
   "id": "8c176302-8641-4204-918b-42f2960eb035",
   "metadata": {},
   "source": [
    "**Resultados Cuantiles Aleatorio**"
   ]
  },
  {
   "cell_type": "code",
   "execution_count": 85,
   "id": "82a2aed4-484e-40b4-8be9-ef7eac012928",
   "metadata": {},
   "outputs": [
    {
     "data": {
      "text/plain": [
       "0.0       -973.64\n",
       "0.1        243.13\n",
       "0.2        296.40\n",
       "0.3        333.15\n",
       "0.4        364.68\n",
       "0.5        394.87\n",
       "0.6        426.32\n",
       "0.7        462.14\n",
       "0.8        508.47\n",
       "0.9        586.75\n",
       "1.0    1664526.60\n",
       "dtype: float64"
      ]
     },
     "execution_count": 85,
     "metadata": {},
     "output_type": "execute_result"
    }
   ],
   "source": [
    "(pd.Series(resultados_aleatorio.round(2))).quantile([0, .1, .2, .3, 0.4, 0.5, 0.6, 0.7, 0.8, 0.9, 1])"
   ]
  }
 ],
 "metadata": {
  "kernelspec": {
   "display_name": "Python 3",
   "language": "python",
   "name": "python3"
  },
  "language_info": {
   "codemirror_mode": {
    "name": "ipython",
    "version": 3
   },
   "file_extension": ".py",
   "mimetype": "text/x-python",
   "name": "python",
   "nbconvert_exporter": "python",
   "pygments_lexer": "ipython3",
   "version": "3.8.8"
  }
 },
 "nbformat": 4,
 "nbformat_minor": 5
}
