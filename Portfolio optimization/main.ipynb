{
 "cells": [
  {
   "cell_type": "code",
   "execution_count": 1,
   "metadata": {},
   "outputs": [
    {
     "name": "stdout",
     "output_type": "stream",
     "text": [
      "Using the Community license in this session. If you have a full Xpress license, first set the XPAUTH_PATH environment variable to the full path to your license file, xpauth.xpr, and then restart Python. If you want to use the FICO Community license and no longer want to see this message, set the XPAUTH_PATH environment variable to: C:\\Users\\Carlos\\anaconda3\\Lib\\site-packages\\xpress\\license\\community-xpauth.xpr\n",
      "NB: setting XPAUTH_PATH will also affect any other Xpress products installed on your system.\n"
     ]
    }
   ],
   "source": [
    "import pandas as pd\n",
    "import numpy as np\n",
    "from data_strategies import data_generator\n",
    "from strategies import optimizer"
   ]
  },
  {
   "cell_type": "code",
   "execution_count": 2,
   "metadata": {},
   "outputs": [],
   "source": [
    "# Cargamos los datos desde csv\n",
    "datos_cierre = pd.read_excel(\"precios_activos_unicos.xlsx\", parse_dates=True, index_col=0)\n",
    "dataset_inputs = pd.read_csv(\"dataset_inputs.csv\", delimiter=\";\", parse_dates = True, index_col=\"date\", decimal = \",\")\n",
    "filtro_sp = pd.read_csv('filtro_sp.csv', parse_dates = True, index_col = 0)"
   ]
  },
  {
   "cell_type": "code",
   "execution_count": 6,
   "metadata": {},
   "outputs": [],
   "source": [
    "#Se lo pasamos a la funcion data_generator\n",
    "generator = data_generator(datos_cierre, dataset_inputs, filtro_sp)\n",
    "datos_cierre, indices, filtro_sp = generator.data_cleaning()\n",
    "beta_value_list, beta_quality_list, beta_growth_list, beta_sp_list, min_vol_list, returns_list, beta_min_sp_list = generator.generador_estadisticos(n_activos = 50, ventana = 60)"
   ]
  },
  {
   "cell_type": "code",
   "execution_count": 7,
   "metadata": {},
   "outputs": [],
   "source": [
    "optimizador = optimizer(n_samples = 50, gamma_low = 1, gamma_high = 10)"
   ]
  },
  {
   "cell_type": "code",
   "execution_count": 10,
   "metadata": {},
   "outputs": [],
   "source": [
    "cartera_value = optimizador.maximize_target(beta_value_list[0][0], beta_value_list[0][1])\n",
    "cartera_quality = optimizador.maximize_target(beta_quality_list[0][0],beta_quality_list[0][1])\n",
    "cartera_growth = optimizador.maximize_target(beta_growth_list[0][0],beta_growth_list[0][1])\n",
    "cartera_max_beta = optimizador.maximize_target(beta_sp_list[0][0],beta_sp_list[0][1])\n",
    "cartera_momentum = optimizador.maximize_target(returns_list[0][0],returns_list[0][1])\n",
    "cartera_min_beta = optimizador.min_beta(beta_min_sp_list[0][0], beta_min_sp_list[0][1])\n",
    "cartera_minimum_variance = optimizador.minimum_variance(min_vol_list[0][1])\n"
   ]
  }
 ],
 "metadata": {
  "interpreter": {
   "hash": "11804bb1f250a85d0267cdde9a53e916113451a0f88a057835fc51e3493d4141"
  },
  "kernelspec": {
   "display_name": "Python 3.8.8 ('base')",
   "language": "python",
   "name": "python3"
  },
  "language_info": {
   "codemirror_mode": {
    "name": "ipython",
    "version": 3
   },
   "file_extension": ".py",
   "mimetype": "text/x-python",
   "name": "python",
   "nbconvert_exporter": "python",
   "pygments_lexer": "ipython3",
   "version": "3.8.8"
  },
  "orig_nbformat": 4
 },
 "nbformat": 4,
 "nbformat_minor": 2
}
