{
 "cells": [
  {
   "cell_type": "markdown",
   "metadata": {
    "id": "2wPtItcQdkPe"
   },
   "source": [
    "\n",
    "###### <font color=\"#CA3532\"><h1 align=\"left\">Inteligencia Artificial Aplicada a la Bolsa (MIAX-7)</h1></font>\n",
    "<font color=\"#5b5a59\"><h2 align=\"left\">Práctica sobre Redes Neuronales</h2></font>\n",
    "\n",
    "En esta práctica desarrollarás con Keras y TensorFlow varios modelos de redes neuronales de diferente complejidad. \n",
    "\n",
    "Todas las respuestas a los ejercicios de la práctica se deben incluir en este mismo notebook, bien completando el código en los lugares indicados, bien respondiendo a las preguntas planteadas. \n",
    "\n",
    "*Versión 1, actualizada el 07-01-2022*\n",
    "\n"
   ]
  },
  {
   "cell_type": "markdown",
   "metadata": {
    "id": "suTVxA4fRf1x"
   },
   "source": [
    "### <font color=\"#CA3532\">Instrucciones</font>\n",
    "\n",
    "- La práctica se realizará de manera individual.\n",
    "\n",
    "- Sólo debes entregar este notebook con las soluciones a los ejercicios planteados.\n",
    "\n",
    "- La entrega se realizará a través de la plataforma de Instituto BME antes de que acabe el plazo establecido.\n",
    "\n",
    "- No olvides incluir tu nombre y apellidos en el siguiente bloque de código.\n"
   ]
  },
  {
   "cell_type": "code",
   "execution_count": 1,
   "metadata": {
    "id": "WM96prtSiQb8"
   },
   "outputs": [],
   "source": [
    "# TO-DO: Incluye tu nombre y apellidos aqui:\n",
    "student_data = {'nombre': 'Carlos', 'apellidos': 'Mercadal Carretero'}"
   ]
  },
  {
   "cell_type": "markdown",
   "metadata": {
    "id": "3tShfjNQUROw"
   },
   "source": [
    "### <font color=\"#CA3532\">Acceso al material de la práctica</font>\n",
    "\n",
    "La forma más sencilla de acceder a todo el material de la práctica es clonar este repositorio de ``github``:"
   ]
  },
  {
   "cell_type": "code",
   "execution_count": null,
   "metadata": {
    "colab": {
     "base_uri": "https://localhost:8080/"
    },
    "executionInfo": {
     "elapsed": 574,
     "status": "ok",
     "timestamp": 1641566687421,
     "user": {
      "displayName": "Luis Lago",
      "photoUrl": "https://lh3.googleusercontent.com/a/default-user=s64",
      "userId": "15983579116795900663"
     },
     "user_tz": -60
    },
    "id": "JgMPzSlDjwR-",
    "outputId": "2336d4b2-a4b4-4df3-c67b-5384da1cc0af"
   },
   "outputs": [],
   "source": [
    "!git clone https://github.com/luisferuam/MIAX7"
   ]
  },
  {
   "cell_type": "markdown",
   "metadata": {
    "id": "2cpn7FKNSGkx"
   },
   "source": [
    "### <font color=\"#CA3532\">Carga de librerías</font>\n",
    "\n",
    "La siguiente celda carga todas las librerías necesarias para la práctica. Si necesitas alguna librería adicional inclúyela al final."
   ]
  },
  {
   "cell_type": "code",
   "execution_count": 2,
   "metadata": {
    "id": "n7HI06dkTdVs"
   },
   "outputs": [],
   "source": [
    "import tensorflow as tf\n",
    "from tensorflow import keras\n",
    "\n",
    "import numpy as np\n",
    "import pandas as pd\n",
    "import matplotlib.pyplot as plt\n",
    "import pickle\n",
    "from sklearn.model_selection import train_test_split\n",
    "from sklearn.preprocessing import StandardScaler\n",
    "\n",
    "import sys\n",
    "sys.path.append('MIAX7')\n",
    "import dlfbt\n",
    "\n",
    "# Incluye aquí otros imports que necesites"
   ]
  },
  {
   "cell_type": "markdown",
   "metadata": {
    "id": "9KuO4nE6U93C"
   },
   "source": [
    "### <font color=\"#CA3532\">Parte I: Modelos sencillos con Keras</font>\n",
    "\n",
    "Los primeros modelos los haremos con datos generados de manera artificial. La siguiente celda crea un problema de regresión en una dimensión y representa gráficamente ``t`` frente a ``x``:"
   ]
  },
  {
   "cell_type": "code",
   "execution_count": 3,
   "metadata": {
    "colab": {
     "base_uri": "https://localhost:8080/",
     "height": 370
    },
    "executionInfo": {
     "elapsed": 453,
     "status": "ok",
     "timestamp": 1641566690759,
     "user": {
      "displayName": "Luis Lago",
      "photoUrl": "https://lh3.googleusercontent.com/a/default-user=s64",
      "userId": "15983579116795900663"
     },
     "user_tz": -60
    },
    "id": "rhPxTUCayDrc",
    "outputId": "614568a6-f198-4024-b072-84470f6a77c4"
   },
   "outputs": [
    {
     "data": {
      "image/png": "[encoded data removed]",
      "text/plain": [
       "<Figure size 360x360 with 1 Axes>"
      ]
     },
     "metadata": {
      "needs_background": "light"
     },
     "output_type": "display_data"
    },
    {
     "name": "stdout",
     "output_type": "stream",
     "text": [
      "Forma de x: (100, 1)\n",
      "Forma de t: (100, 1)\n"
     ]
    }
   ],
   "source": [
    "dg = dlfbt.DataGeneratorLinear1D()\n",
    "dg.create_dataset(seed=21)\n",
    "dg.plot_dataset()\n",
    "\n",
    "print(\"Forma de x:\", dg.x.shape)\n",
    "print(\"Forma de t:\", dg.t.shape)"
   ]
  },
  {
   "cell_type": "markdown",
   "metadata": {
    "id": "moF1uhKfZB_9"
   },
   "source": [
    "#### <font color=\"#CA3532\">Ejercicio 1</font> [1 punto]\n",
    "\n",
    "Construye en Keras un modelo de regresión lineal para predecir la variable ``t`` a partir de la variable ``x``."
   ]
  },
  {
   "cell_type": "markdown",
   "metadata": {
    "id": "mXwnVJ-4bzCV"
   },
   "source": [
    "<font color=\"#CA3532\">[1.1]</font> Define del modelo completando el código de la celda siguiente:"
   ]
  },
  {
   "cell_type": "code",
   "execution_count": 4,
   "metadata": {
    "id": "Fif0ZXlaZzVq"
   },
   "outputs": [
    {
     "name": "stdout",
     "output_type": "stream",
     "text": [
      "Model: \"sequential\"\n",
      "_________________________________________________________________\n",
      " Layer (type)                Output Shape              Param #   \n",
      "=================================================================\n",
      " salida (Dense)              (None, 1)                 2         \n",
      "                                                                 \n",
      "=================================================================\n",
      "Total params: 2\n",
      "Trainable params: 2\n",
      "Non-trainable params: 0\n",
      "_________________________________________________________________\n"
     ]
    }
   ],
   "source": [
    "model = keras.Sequential()\n",
    "\n",
    "#-------------------------------------------------------------\n",
    "model.add(keras.layers.InputLayer(input_shape = (1,), name='entrada')) #Inicializamos una capa de entrada con una neurona, puesto que será el dato de entrada. \n",
    "model.add(keras.layers.Dense(1, activation=\"linear\", name=\"salida\")) #Establecemos una capa de salida con 1 neurona, puesto que nuestro objetivo es saber el valor de t dado el valor de entrada x.\n",
    "#-------------------------------------------------------------\n",
    "\n",
    "model.summary()"
   ]
  },
  {
   "cell_type": "markdown",
   "metadata": {
    "id": "_CQBA5auc3V1"
   },
   "source": [
    "<font color=\"#CA3532\">[1.2]</font> Compila el modelo, utilizando un optimizador SGD y la función de coste más apropiada para este problema. El learning rate lo deberás ajustar para que el entrenamiento converja:"
   ]
  },
  {
   "cell_type": "code",
   "execution_count": 5,
   "metadata": {
    "id": "kOc2r4IJZzRO"
   },
   "outputs": [],
   "source": [
    "#-------------------------------------------------------------\n",
    "model.compile(optimizer=keras.optimizers.SGD(learning_rate=0.0001),\n",
    "              loss='mse')\n",
    "#-------------------------------------------------------------"
   ]
  },
  {
   "cell_type": "markdown",
   "metadata": {
    "id": "1RLyKzMddf8r"
   },
   "source": [
    "La siguiente celda ajusta tu modelo a los datos y muestra gráficamente el resultado:"
   ]
  },
  {
   "cell_type": "code",
   "execution_count": 6,
   "metadata": {
    "colab": {
     "base_uri": "https://localhost:8080/",
     "height": 279
    },
    "executionInfo": {
     "elapsed": 3060,
     "status": "ok",
     "timestamp": 1641566693812,
     "user": {
      "displayName": "Luis Lago",
      "photoUrl": "https://lh3.googleusercontent.com/a/default-user=s64",
      "userId": "15983579116795900663"
     },
     "user_tz": -60
    },
    "id": "Y9ojYhKuZzMJ",
    "outputId": "758e8639-9de1-4349-f7e8-2a6e547c1dd8"
   },
   "outputs": [
    {
     "data": {
      "image/png": "[encoded data removed]",
      "text/plain": [
       "<Figure size 720x288 with 2 Axes>"
      ]
     },
     "metadata": {
      "needs_background": "light"
     },
     "output_type": "display_data"
    }
   ],
   "source": [
    "history = model.fit(dg.x, dg.t, epochs=1000, batch_size=dg.x.shape[0], verbose=0)\n",
    "y = model.predict(dg.x)\n",
    "\n",
    "plt.figure(figsize=(10, 4))\n",
    "\n",
    "plt.subplot(1, 2, 1)\n",
    "plt.plot(history.history['loss'])\n",
    "plt.grid(True)\n",
    "plt.xlabel('epoch')\n",
    "plt.ylabel('MSE')\n",
    "\n",
    "plt.subplot(1, 2, 2)\n",
    "plt.plot(dg.x, dg.t, '.')\n",
    "plt.plot(dg.x, y, 'r-')\n",
    "plt.grid(True)\n",
    "plt.xlabel('x')\n",
    "plt.ylabel('t')\n",
    "plt.legend(('real', 'predicted'))\n",
    "plt.show()"
   ]
  },
  {
   "cell_type": "markdown",
   "metadata": {
    "id": "IEF5KIFBzgX3"
   },
   "source": [
    "#### <font color=\"#CA3532\">Ejercicio 2</font> [1 punto] \n",
    "\n",
    "A continuación vas a resolver un problema de regresión no lineal, también en una dimensión. La siguiente celda crea el problema y representa gráficamente ``t`` frente a ``x``:"
   ]
  },
  {
   "cell_type": "code",
   "execution_count": 7,
   "metadata": {
    "colab": {
     "base_uri": "https://localhost:8080/",
     "height": 370
    },
    "executionInfo": {
     "elapsed": 21,
     "status": "ok",
     "timestamp": 1641566693812,
     "user": {
      "displayName": "Luis Lago",
      "photoUrl": "https://lh3.googleusercontent.com/a/default-user=s64",
      "userId": "15983579116795900663"
     },
     "user_tz": -60
    },
    "id": "yDOreCXezVrP",
    "outputId": "eeb3a12b-e4ce-4943-e273-13ea64404359"
   },
   "outputs": [
    {
     "data": {
      "image/png": "[encoded data removed]",
      "text/plain": [
       "<Figure size 360x360 with 1 Axes>"
      ]
     },
     "metadata": {
      "needs_background": "light"
     },
     "output_type": "display_data"
    },
    {
     "name": "stdout",
     "output_type": "stream",
     "text": [
      "Forma de x: (100, 1)\n",
      "Forma de t: (100, 1)\n"
     ]
    }
   ],
   "source": [
    "dg = dlfbt.DataGeneratorNonLinear1D(coefs=[0, 1, 0, -0.15, 0, 0.005])\n",
    "dg.create_dataset(xmin=-3.14, xmax=3.14, noise=0.1, seed=21)\n",
    "dg.plot_dataset()\n",
    "\n",
    "print(\"Forma de x:\", dg.x.shape)\n",
    "print(\"Forma de t:\", dg.t.shape)"
   ]
  },
  {
   "cell_type": "markdown",
   "metadata": {
    "id": "7UaJOpV84X_T"
   },
   "source": [
    "<font color=\"#CA3532\">[2.1]</font> Define del modelo de regresión completando el código de la celda siguiente:"
   ]
  },
  {
   "cell_type": "code",
   "execution_count": 8,
   "metadata": {
    "id": "rm13KKxn2DAq"
   },
   "outputs": [],
   "source": [
    "model = keras.Sequential()\n",
    "\n",
    "#-------------------------------------------------------------\n",
    "model.add(keras.layers.InputLayer(input_shape = (1), name='entrada')) #Inicializamos una capa de entrada con una neurona, puesto que será el dato de entrada. \n",
    "model.add(keras.layers.Dense(10, activation=\"tanh\", name=\"oculta\")) #Usamos la función de activación tanh.\n",
    "model.add(keras.layers.Dense(1, activation='linear', name='salida'))\n",
    "#-------------------------------------------------------------"
   ]
  },
  {
   "cell_type": "markdown",
   "metadata": {
    "id": "qQ9Cow2D4rSK"
   },
   "source": [
    "<font color=\"#CA3532\">[2.2]</font> Compila el modelo, utilizando un optimizador SGD y la función de coste más apropiada para este problema. El learning rate lo deberás ajustar para que el entrenamiento converja:"
   ]
  },
  {
   "cell_type": "code",
   "execution_count": 9,
   "metadata": {
    "id": "RMIEQJdp2C9t"
   },
   "outputs": [],
   "source": [
    "#-------------------------------------------------------------\n",
    "model.compile(optimizer=keras.optimizers.SGD(learning_rate=0.06),\n",
    "              loss='mse')\n",
    "#-------------------------------------------------------------"
   ]
  },
  {
   "cell_type": "markdown",
   "metadata": {
    "id": "AeQsLWq04wCd"
   },
   "source": [
    "La siguiente celda ajusta tu modelo a los datos y muestra gráficamente el resultado:"
   ]
  },
  {
   "cell_type": "code",
   "execution_count": 10,
   "metadata": {
    "colab": {
     "base_uri": "https://localhost:8080/",
     "height": 279
    },
    "executionInfo": {
     "elapsed": 3174,
     "status": "ok",
     "timestamp": 1641566696980,
     "user": {
      "displayName": "Luis Lago",
      "photoUrl": "https://lh3.googleusercontent.com/a/default-user=s64",
      "userId": "15983579116795900663"
     },
     "user_tz": -60
    },
    "id": "BmeJ_GgQ2CzU",
    "outputId": "77c409d4-0a15-4557-effa-510e96f47975"
   },
   "outputs": [
    {
     "data": {
      "image/png": "[encoded data removed]",
      "text/plain": [
       "<Figure size 720x288 with 2 Axes>"
      ]
     },
     "metadata": {
      "needs_background": "light"
     },
     "output_type": "display_data"
    }
   ],
   "source": [
    "history = model.fit(dg.x, dg.t, epochs=1000, batch_size=dg.x.shape[0], verbose=0)\n",
    "y = model.predict(dg.modelx)\n",
    "\n",
    "plt.figure(figsize=(10, 4))\n",
    "\n",
    "plt.subplot(1, 2, 1)\n",
    "plt.plot(history.history['loss'])\n",
    "plt.grid(True)\n",
    "plt.xlabel('epoch')\n",
    "plt.ylabel('MSE')\n",
    "\n",
    "plt.subplot(1, 2, 2)\n",
    "plt.plot(dg.x, dg.t, '.')\n",
    "plt.plot(dg.modelx, y, 'r-')\n",
    "plt.grid(True)\n",
    "plt.xlabel('x')\n",
    "plt.ylabel('t')\n",
    "plt.legend(('real', 'predicted'))\n",
    "plt.show()"
   ]
  },
  {
   "cell_type": "markdown",
   "metadata": {
    "id": "SxlAn5iNiwmY"
   },
   "source": [
    "#### <font color=\"#CA3532\">Ejercicio 3</font> [1 punto]\n",
    "\n",
    "Finalmente vamos a plantear un problema de regresión logística. La siguiente celda crea los datos del problema (en dos dimensiones) y representa gráficamente la distribución de ``x`` para las dos clases ``t=0`` y ``t=1``:"
   ]
  },
  {
   "cell_type": "code",
   "execution_count": 11,
   "metadata": {
    "colab": {
     "base_uri": "https://localhost:8080/",
     "height": 370
    },
    "executionInfo": {
     "elapsed": 30,
     "status": "ok",
     "timestamp": 1641566696981,
     "user": {
      "displayName": "Luis Lago",
      "photoUrl": "https://lh3.googleusercontent.com/a/default-user=s64",
      "userId": "15983579116795900663"
     },
     "user_tz": -60
    },
    "id": "E32y3vuGrMfJ",
    "outputId": "2120f40e-dfc7-49ca-f205-9642ac615eeb"
   },
   "outputs": [
    {
     "data": {
      "image/png": "[encoded data removed]",
      "text/plain": [
       "<Figure size 360x360 with 1 Axes>"
      ]
     },
     "metadata": {
      "needs_background": "light"
     },
     "output_type": "display_data"
    },
    {
     "name": "stdout",
     "output_type": "stream",
     "text": [
      "Forma de x: (500, 2)\n",
      "Forma de t: (500, 1)\n"
     ]
    }
   ],
   "source": [
    "dg = dlfbt.DataGeneratorLogistic(a=[2.0, 2.0], b=-20.0)\n",
    "dg.create_dataset(n=500, seed=17)\n",
    "\n",
    "plt.figure(figsize=(5, 5))\n",
    "ix0 = (dg.t.ravel() == 0)\n",
    "plt.plot(dg.x[ix0, 0], dg.x[ix0, 1], '.', label='t=0')\n",
    "ix1 = (dg.t.ravel() == 1)\n",
    "plt.plot(dg.x[ix1, 0], dg.x[ix1, 1], '.', label='t=1')\n",
    "plt.grid(True)\n",
    "plt.xlabel('x1')\n",
    "plt.ylabel('x2')\n",
    "plt.legend(loc='upper right')\n",
    "plt.show()\n",
    "\n",
    "print(\"Forma de x:\", dg.x.shape)\n",
    "print(\"Forma de t:\", dg.t.shape)"
   ]
  },
  {
   "cell_type": "markdown",
   "metadata": {
    "id": "klDADm0Gvyxl"
   },
   "source": [
    "<font color=\"#CA3532\">[3.1]</font> Construye en Keras un modelo de regresión logística para predecir la variable ``t`` a partir de la variable ``x``. Define del modelo completando el código de la celda siguiente:"
   ]
  },
  {
   "cell_type": "code",
   "execution_count": 12,
   "metadata": {
    "id": "ZT9nfBeOjKK1"
   },
   "outputs": [],
   "source": [
    "model = keras.Sequential()\n",
    "\n",
    "#-------------------------------------------------------------\n",
    "model.add(keras.layers.InputLayer(input_shape =(2), name='entrada'))\n",
    "model.add(keras.layers.Dense(10, activation='relu', name='oculta'))\n",
    "model.add(keras.layers.Dense(1, activation='sigmoid', name='salida'))      \n",
    "#-------------------------------------------------------------\n"
   ]
  },
  {
   "cell_type": "markdown",
   "metadata": {
    "id": "FxfPuceGwUDc"
   },
   "source": [
    "<font color=\"#CA3532\">[3.2]</font> Compila el modelo, utilizando un optimizador SGD y la función de coste más apropiada para este problema. Añade las opciones necesarias para que se genere, además del ``loss``, la métrica ``accuracy``. El learning rate lo deberás ajustar para que el entrenamiento converja:"
   ]
  },
  {
   "cell_type": "code",
   "execution_count": 13,
   "metadata": {
    "id": "ytPLIp2PwTxa"
   },
   "outputs": [],
   "source": [
    "#-------------------------------------------------------------\n",
    "model.compile(optimizer=keras.optimizers.SGD(learning_rate=0.04),\n",
    "              loss='binary_crossentropy',\n",
    "              metrics=['accuracy'])\n",
    "\n",
    "#-------------------------------------------------------------"
   ]
  },
  {
   "cell_type": "markdown",
   "metadata": {
    "id": "faNPLKXbzzqh"
   },
   "source": [
    "La siguiente celda ajusta tu modelo a los datos y muestra gráficamente el resultado:"
   ]
  },
  {
   "cell_type": "code",
   "execution_count": 14,
   "metadata": {
    "colab": {
     "base_uri": "https://localhost:8080/",
     "height": 283
    },
    "executionInfo": {
     "elapsed": 27983,
     "status": "ok",
     "timestamp": 1641566724956,
     "user": {
      "displayName": "Luis Lago",
      "photoUrl": "https://lh3.googleusercontent.com/a/default-user=s64",
      "userId": "15983579116795900663"
     },
     "user_tz": -60
    },
    "id": "6c3xTLJfjKFP",
    "outputId": "dae5574a-fa14-4716-ec68-f321b1297f74"
   },
   "outputs": [
    {
     "data": {
      "image/png": "[encoded data removed]",
      "text/plain": [
       "<Figure size 1080x288 with 3 Axes>"
      ]
     },
     "metadata": {
      "needs_background": "light"
     },
     "output_type": "display_data"
    }
   ],
   "source": [
    "history = model.fit(dg.x, dg.t, epochs=1000, batch_size=dg.x.shape[0], verbose=0)\n",
    "\n",
    "plt.figure(figsize=(15, 4))\n",
    "\n",
    "plt.subplot(1, 3, 1)\n",
    "plt.plot(history.history['loss'])\n",
    "plt.grid(True)\n",
    "plt.xlabel('epoch')\n",
    "plt.ylabel('loss')\n",
    "\n",
    "plt.subplot(1, 3, 2)\n",
    "plt.plot(history.history['accuracy'])\n",
    "plt.grid(True)\n",
    "plt.xlabel('epoch')\n",
    "plt.ylabel('accuracy')\n",
    "\n",
    "xx, yy = np.meshgrid(np.arange(0, 10, 0.01), np.arange(0, 10,0.01))\n",
    "xy = np.concatenate([xx.reshape([-1, 1]), yy.reshape([-1, 1])], axis=1)\n",
    "z = model.predict(xy)\n",
    "\n",
    "plt.subplot(1, 3, 3)\n",
    "plt.contourf(xx, yy, z.reshape(xx.shape), 100, cmap=\"gray\")\n",
    "plt.plot(dg.x[ix0, 0], dg.x[ix0, 1], '.', label='t=0')\n",
    "plt.plot(dg.x[ix1, 0], dg.x[ix1, 1], '.', label='t=1')\n",
    "plt.grid(True)\n",
    "plt.xlabel('x1')\n",
    "plt.ylabel('x2')\n",
    "plt.axis([0, 10, 0, 10])\n",
    "plt.legend(loc='upper right')\n",
    "\n",
    "plt.show()"
   ]
  },
  {
   "cell_type": "markdown",
   "metadata": {
    "id": "FtCAYd233wcm"
   },
   "source": [
    "#### <font color=\"#CA3532\">Ejercicio 4</font> [1 punto]\n",
    "\n",
    "En este ejercicio vas a construir una red neuronal un poco más compleja y la vas a probar con distintos casos de prueba. La red debe tener las siguientes características:\n",
    "\n",
    "- Una capa de entrada con 54 unidades.\n",
    "- Dos capas ocultas, con 256 y 32 unidades respectivamente, función de activación ``sigmoid`` y ``batch normalization``.\n",
    "- Una capa de salida con 7 unidades ``softmax``. \n",
    "- Se debe aplicar ``dropout`` con parámetro 0.2 en las dos capas ocultas.\n",
    "- Se debe incluir regularización L2, con parámetro 0.01, y L1, con parámetro 0.005, en los pesos de todas las capas (no debe afectar a los bias). \n",
    "- Todos los pesos de la red se deben inicializar con el método Xavier (ver transparencias [dffn.pdf](https://drive.google.com/file/d/1psQNeGuRtCanUHX8d-nJnO_HHGO49bLI/view?usp=sharing), p. 86).\n",
    "\n",
    "<font color=\"#CA3532\">[4.1]</font> Completa el código de la siguiente celda con tu solución:\n"
   ]
  },
  {
   "cell_type": "code",
   "execution_count": 15,
   "metadata": {
    "id": "jNlqpD415QVM"
   },
   "outputs": [
    {
     "name": "stdout",
     "output_type": "stream",
     "text": [
      "Model: \"sequential_3\"\n",
      "_________________________________________________________________\n",
      " Layer (type)                Output Shape              Param #   \n",
      "=================================================================\n",
      " oculta_uno (Dense)          (None, 256)               14080     \n",
      "                                                                 \n",
      " batch_normalization (BatchN  (None, 256)              1024      \n",
      " ormalization)                                                   \n",
      "                                                                 \n",
      " activation (Activation)     (None, 256)               0         \n",
      "                                                                 \n",
      " dropout (Dropout)           (None, 256)               0         \n",
      "                                                                 \n",
      " oculta_dos (Dense)          (None, 32)                8224      \n",
      "                                                                 \n",
      " batch_normalization_1 (Batc  (None, 32)               128       \n",
      " hNormalization)                                                 \n",
      "                                                                 \n",
      " activation_1 (Activation)   (None, 32)                0         \n",
      "                                                                 \n",
      " dropout_1 (Dropout)         (None, 32)                0         \n",
      "                                                                 \n",
      " salida (Dense)              (None, 7)                 231       \n",
      "                                                                 \n",
      " activation_2 (Activation)   (None, 7)                 0         \n",
      "                                                                 \n",
      "=================================================================\n",
      "Total params: 23,687\n",
      "Trainable params: 23,111\n",
      "Non-trainable params: 576\n",
      "_________________________________________________________________\n"
     ]
    }
   ],
   "source": [
    "model = keras.Sequential()\n",
    "\n",
    "#-------------------------------------------------------------\n",
    "model.add(keras.layers.InputLayer(input_shape =(54), name='entrada'))\n",
    "\n",
    "#Capa oculta 1\n",
    "\n",
    "model.add(keras.layers.Dense(256, kernel_initializer=keras.initializers.glorot_normal(), \n",
    "                             kernel_regularizer=keras.regularizers.l1_l2(l1=0.005, l2=0.01), name='oculta_uno'))\n",
    "model.add(keras.layers.BatchNormalization())\n",
    "model.add(keras.layers.Activation(tf.nn.sigmoid))\n",
    "model.add(keras.layers.Dropout(rate=0.2))\n",
    "\n",
    "#Capa oculta 2\n",
    "\n",
    "model.add(keras.layers.Dense(32, kernel_initializer=keras.initializers.glorot_normal(),\n",
    "                             kernel_regularizer=keras.regularizers.l1_l2(l1=0.005, l2=0.01), name='oculta_dos'))\n",
    "model.add(keras.layers.BatchNormalization())\n",
    "model.add(keras.layers.Activation(tf.nn.sigmoid))\n",
    "model.add(keras.layers.Dropout(rate=0.2))\n",
    "\n",
    "#capa salida\n",
    "model.add(keras.layers.Dense(7, kernel_initializer=keras.initializers.glorot_normal(),\n",
    "                             kernel_regularizer=keras.regularizers.l1_l2(l1=0.005, l2=0.01),name='salida'))   \n",
    "model.add(keras.layers.Activation(tf.nn.softmax))\n",
    "#-------------------------------------------------------------\n",
    "\n",
    "model.summary()"
   ]
  },
  {
   "cell_type": "markdown",
   "metadata": {
    "id": "N9T83Cjs87u9"
   },
   "source": [
    "<font color=\"#CA3532\">[4.2]</font> Si has hecho todo bien, tu modelo debería tener 23111 parámetros entrenables. Explica de dónde sale este número:\n",
    "\n",
    "<font color=\"#CA3532\">\n",
    "\n",
    "Los parámetros de una red neuronal vienen dadas por los resultantes de W*X + B, en las cuales W y B son elementos entrenables. Por ejemplo, en la capa oculta uno el número de parámetros es 14080, resultante de (256 * 54) + 256 = 14080 elementos entrenables. No obstante, es necesario tener en cuenta que hay situaciones en las cuales pueden existir parámetros que no sean entrenables; esto sucede en el caso del batch normalization. Debemos recordar que la función del batch normalization es normalizar el mini-batch en concreto mediante el escalado de las variables de salida de la capa, de forma que la capa posterior tenga como input unos datos de entrada normalizados. La normalización en el batch  normalization utiliza cuatro parámetros, dos de los cuales pretenden escalar nuestros pesos en en media y varianza, dos parámetros que no son entrenables. De este modo, tenemos 256x2 parámetros en la capa oculta uno y 32x2 parámetros en la capa oculta dos que no son entrenables (576).\n",
    "</font>"
   ]
  },
  {
   "cell_type": "markdown",
   "metadata": {
    "id": "9wJ8LBTGANru"
   },
   "source": [
    "#### <font color=\"#CA3532\">Ejercicio 5</font> [1 punto]\n",
    "\n",
    "A continuación vamos a hacer una serie de pruebas para verificar que tu modelo está bien construido. Para ello vamos a usar los datos del problema de clasificación Forest Covertypes. El problema consiste en predecir el tipo de cubierta vegetal de un terreno a partir de características del mismo como su elevación, su pendiente, etcétera. Los detalles del problema los puedes consultar en estos enlaces:\n",
    "\n",
    "https://scikit-learn.org/stable/datasets/real_world.html#forest-covertypes\n",
    "\n",
    "https://archive.ics.uci.edu/ml/datasets/Covertype\n",
    "\n",
    "La siguiente celda carga y prepara los datos:\n"
   ]
  },
  {
   "cell_type": "code",
   "execution_count": 16,
   "metadata": {
    "id": "bqbmAI2zJZg4"
   },
   "outputs": [],
   "source": [
    "from sklearn.datasets import fetch_covtype\n",
    "data = fetch_covtype()\n",
    "x = data.data\n",
    "t = data.target - 1"
   ]
  },
  {
   "cell_type": "markdown",
   "metadata": {
    "id": "T5yVzwT487xs"
   },
   "source": [
    "A continuación imprimimos la forma de las variables ``x`` e ``y``, así como los valores numéricos de cada una de las 7 clases del problema:"
   ]
  },
  {
   "cell_type": "code",
   "execution_count": 17,
   "metadata": {
    "colab": {
     "base_uri": "https://localhost:8080/"
    },
    "executionInfo": {
     "elapsed": 29,
     "status": "ok",
     "timestamp": 1641566804424,
     "user": {
      "displayName": "Luis Lago",
      "photoUrl": "https://lh3.googleusercontent.com/a/default-user=s64",
      "userId": "15983579116795900663"
     },
     "user_tz": -60
    },
    "id": "EslzoxuE7Aax",
    "outputId": "c3a73e38-89b4-4463-8134-d5290c202e19"
   },
   "outputs": [
    {
     "name": "stdout",
     "output_type": "stream",
     "text": [
      "(581012, 54)\n",
      "(581012,)\n",
      "[0 1 2 3 4 5 6]\n"
     ]
    }
   ],
   "source": [
    "print(x.shape)\n",
    "print(t.shape)\n",
    "print(np.unique(t))"
   ]
  },
  {
   "cell_type": "markdown",
   "metadata": {
    "id": "-GV1yjoXTZZS"
   },
   "source": [
    "<font color=\"#CA3532\">[5.1]</font> Lo primero que debes hacer es dividir los datos en conjuntos de entrenamiento y test usando la función [train_test_split](https://scikit-learn.org/stable/modules/generated/sklearn.model_selection.train_test_split.html) de ``scikit-learn``. El conjunto de test debe tener el 30% de los datos. La semilla (``random_state``) se debe fijar al valor 19 para que los resultados sean reproducibles. Utiliza los nombres de variable ``x_train``, ``x_test``, ``t_train`` y ``t_test``."
   ]
  },
  {
   "cell_type": "code",
   "execution_count": 18,
   "metadata": {
    "id": "NptS0suZTXMV"
   },
   "outputs": [],
   "source": [
    "#-------------------------------------------------------------\n",
    "x_train, x_test, t_train, t_test = train_test_split(x, t, test_size=0.3, random_state =19)\n",
    "#-------------------------------------------------------------"
   ]
  },
  {
   "cell_type": "markdown",
   "metadata": {
    "id": "fgWM7q6VV5OV"
   },
   "source": [
    "<font color=\"#CA3532\">[5.2]</font> A continuación estandariza los datos usando la clase [StandardScaler](https://scikit-learn.org/stable/modules/generated/sklearn.preprocessing.StandardScaler.html)."
   ]
  },
  {
   "cell_type": "code",
   "execution_count": 19,
   "metadata": {
    "id": "kMStPzWVWFw4"
   },
   "outputs": [],
   "source": [
    "#-------------------------------------------------------------\n",
    "scaler = StandardScaler()\n",
    "x_train = scaler.fit_transform(x_train)\n",
    "x_test = scaler.transform(x_test)\n",
    "#-------------------------------------------------------------"
   ]
  },
  {
   "cell_type": "markdown",
   "metadata": {
    "id": "FnPjZFSxDnYt"
   },
   "source": [
    "<font color=\"#CA3532\">[5.3]</font> En la celda siguiente, compila el modelo usando como optimizador ``SGD`` con un learning rate de ``0.01`` y como función de coste ``cross-entropy``. A continuación carga los pesos del fichero ``random-weights``."
   ]
  },
  {
   "cell_type": "code",
   "execution_count": 20,
   "metadata": {
    "id": "df5E4H63GbS3"
   },
   "outputs": [
    {
     "data": {
      "text/plain": [
       "<tensorflow.python.training.tracking.util.CheckpointLoadStatus at 0x1ccfe1be220>"
      ]
     },
     "execution_count": 20,
     "metadata": {},
     "output_type": "execute_result"
    }
   ],
   "source": [
    "fichero_pesos = \"MIAX7/data/covertype/random-weights\"\n",
    "\n",
    "#-------------------------------------------------------------\n",
    "model.compile(optimizer=keras.optimizers.SGD(learning_rate=0.01),\n",
    "              loss='sparse_categorical_crossentropy',\n",
    "              metrics=['acc'])\n",
    "model.load_weights(fichero_pesos)\n",
    "#-------------------------------------------------------------"
   ]
  },
  {
   "cell_type": "markdown",
   "metadata": {
    "id": "vQdpNUXcCXBm"
   },
   "source": [
    "En la celda siguiente se evalúa el modelo sobre el conjunto de datos. Como tu modelo parte de unos pesos determinados, los resultados deberían ser reproducibles. \n",
    "\n",
    "Si has hecho todo bien deberías obtener este resultado (no es demasiado bueno, pero ten en cuenta que el modelo aún no ha sido entrenado):\n",
    "\n",
    "````\n",
    "5447/5447 [==============================] - 9s 2ms/step - loss: 11.0617 - acc: 0.4868\n",
    "[11.06167984008789, 0.48682186007499695]\n",
    "````"
   ]
  },
  {
   "cell_type": "code",
   "execution_count": 21,
   "metadata": {
    "colab": {
     "base_uri": "https://localhost:8080/"
    },
    "executionInfo": {
     "elapsed": 7953,
     "status": "ok",
     "timestamp": 1641566812988,
     "user": {
      "displayName": "Luis Lago",
      "photoUrl": "https://lh3.googleusercontent.com/a/default-user=s64",
      "userId": "15983579116795900663"
     },
     "user_tz": -60
    },
    "id": "HBK_MxZtca2Z",
    "outputId": "03167dd6-9d5c-4505-f17a-d176c135d1db"
   },
   "outputs": [
    {
     "name": "stdout",
     "output_type": "stream",
     "text": [
      "5447/5447 [==============================] - 4s 605us/step - loss: 11.0617 - acc: 0.4868\n"
     ]
    },
    {
     "data": {
      "text/plain": [
       "[11.06167984008789, 0.48682186007499695]"
      ]
     },
     "execution_count": 21,
     "metadata": {},
     "output_type": "execute_result"
    }
   ],
   "source": [
    "model.evaluate(x_test, t_test)"
   ]
  },
  {
   "cell_type": "markdown",
   "metadata": {
    "id": "Zf38VnmZJIa2"
   },
   "source": [
    "Como última prueba vamos a entrenar el modelo durante 10 épocas. Antes de llamar a ``model.fit`` inicializamos las semillas del generador de números aleatorios para que, de nuevo, el resultado sea reproducible.\n",
    "\n",
    "Si has hecho todo bien, al ejecutar la celda siguiente este debería ser el resultado al final de las 10 épocas:\n",
    "\n",
    "````\n",
    "loss: 1.0760 - acc: 0.6648\n",
    "````"
   ]
  },
  {
   "cell_type": "code",
   "execution_count": 22,
   "metadata": {
    "colab": {
     "base_uri": "https://localhost:8080/"
    },
    "executionInfo": {
     "elapsed": 80276,
     "status": "ok",
     "timestamp": 1641566893235,
     "user": {
      "displayName": "Luis Lago",
      "photoUrl": "https://lh3.googleusercontent.com/a/default-user=s64",
      "userId": "15983579116795900663"
     },
     "user_tz": -60
    },
    "id": "6WnIC-toGbPQ",
    "outputId": "1c013485-644a-4805-f794-310443290572"
   },
   "outputs": [
    {
     "name": "stdout",
     "output_type": "stream",
     "text": [
      "Epoch 1/10\n",
      "795/795 [==============================] - 3s 3ms/step - loss: 7.2462 - acc: 0.5311\n",
      "Epoch 2/10\n",
      "795/795 [==============================] - 2s 3ms/step - loss: 3.1118 - acc: 0.6104\n",
      "Epoch 3/10\n",
      "795/795 [==============================] - 2s 3ms/step - loss: 1.4609 - acc: 0.6500\n",
      "Epoch 4/10\n",
      "795/795 [==============================] - 3s 3ms/step - loss: 1.1421 - acc: 0.6574\n",
      "Epoch 5/10\n",
      "795/795 [==============================] - 2s 3ms/step - loss: 1.1148 - acc: 0.6602\n",
      "Epoch 6/10\n",
      "795/795 [==============================] - 2s 3ms/step - loss: 1.1041 - acc: 0.6612\n",
      "Epoch 7/10\n",
      "795/795 [==============================] - 2s 3ms/step - loss: 1.0953 - acc: 0.6631\n",
      "Epoch 8/10\n",
      "795/795 [==============================] - 2s 3ms/step - loss: 1.0885 - acc: 0.6638\n",
      "Epoch 9/10\n",
      "795/795 [==============================] - 2s 3ms/step - loss: 1.0815 - acc: 0.6650\n",
      "Epoch 10/10\n",
      "795/795 [==============================] - 2s 3ms/step - loss: 1.0760 - acc: 0.6647\n"
     ]
    }
   ],
   "source": [
    "np.random.seed(15)\n",
    "tf.random.set_seed(53)\n",
    "_ = model.fit(x_train, t_train, epochs=10, batch_size=512, shuffle=False)"
   ]
  },
  {
   "cell_type": "markdown",
   "metadata": {
    "id": "QXi4qsWZ6-U3"
   },
   "source": [
    "Y al evaluar el modelo sobre el conjunto de test te debería salir esto:\n",
    "\n",
    "````\n",
    "5447/5447 [==============================] - 9s 2ms/step - loss: 1.0468 - acc: 0.6983\n",
    "[1.046830415725708, 0.6982570886611938]\n",
    "````"
   ]
  },
  {
   "cell_type": "code",
   "execution_count": 23,
   "metadata": {
    "colab": {
     "base_uri": "https://localhost:8080/"
    },
    "executionInfo": {
     "elapsed": 7689,
     "status": "ok",
     "timestamp": 1641566900897,
     "user": {
      "displayName": "Luis Lago",
      "photoUrl": "https://lh3.googleusercontent.com/a/default-user=s64",
      "userId": "15983579116795900663"
     },
     "user_tz": -60
    },
    "id": "IqrXm3il63bF",
    "outputId": "7becb73e-d0bf-4814-e27e-c315e07d38a0"
   },
   "outputs": [
    {
     "name": "stdout",
     "output_type": "stream",
     "text": [
      "5447/5447 [==============================] - 3s 614us/step - loss: 1.0468 - acc: 0.6983\n"
     ]
    },
    {
     "data": {
      "text/plain": [
       "[1.0468426942825317, 0.6982513070106506]"
      ]
     },
     "execution_count": 23,
     "metadata": {},
     "output_type": "execute_result"
    }
   ],
   "source": [
    "model.evaluate(x_test, t_test)"
   ]
  },
  {
   "cell_type": "markdown",
   "metadata": {
    "id": "rcExHQC873Ne"
   },
   "source": [
    "### <font color=\"#CA3532\">Parte II: TensorFlow</font>\n",
    "\n",
    "En los siguientes ejercicios trabajaremos directamente con TensorFlow, sin Keras."
   ]
  },
  {
   "cell_type": "markdown",
   "metadata": {
    "id": "QQIl9AP60Ooj"
   },
   "source": [
    "#### <font color=\"#CA3532\">Ejercicio 6</font> [1 punto] \n",
    "\n",
    "En primer lugar vamos a construir un modelo de regresión lineal. Completa el código de la clase ``LinearRegressionModel_TF`` rellenando todos los bloques marcados con un ``TO-DO``. Ten en cuenta que no es necesario calcular los gradientes explicitamente, pues pueden ser extraidos del *gradient tape*."
   ]
  },
  {
   "cell_type": "code",
   "execution_count": 24,
   "metadata": {
    "id": "7UXFb6qyxWyt"
   },
   "outputs": [],
   "source": [
    "class LinearRegressionModel_TF(object):\n",
    "\n",
    "    def __init__(self, d=2):\n",
    "        # Initialize weights and bias:\n",
    "        self.w = tf.Variable(tf.random.normal(shape=[d, 1], dtype=tf.dtypes.float64))  \n",
    "        self.b = tf.Variable(tf.random.normal(shape=[1, 1], dtype=tf.dtypes.float64)) \n",
    "        \n",
    "    def predict(self, x):\n",
    "        \n",
    "        y = x@self.w + self.b\n",
    "        \n",
    "        return y\n",
    "\n",
    "    def compute_gradients(self, x, t):\n",
    "       \n",
    "        with tf.GradientTape(persistent=True) as tape: \n",
    "            y = x@self.w + self.b\n",
    "            # Calculo de la funcion de coste:\n",
    "            loss = tf.reduce_mean(0.5*(y - t)*(y - t))\n",
    "        \n",
    "        #Sacamos los gradientes\n",
    "        dw = tape.gradient(loss, self.w)\n",
    "        db = tape.gradient(loss, self.b)\n",
    "        \n",
    "        return db, dw\n",
    "        \n",
    "    def gradient_step(self, x, t, eta):\n",
    "        db, dw = self.compute_gradients(x, t)\n",
    "        \n",
    "        #Actualizamos los pesos\n",
    "        new_w = self.w - eta*dw\n",
    "        self.w.assign(new_w)\n",
    "        \n",
    "        #Actualizamos el bias\n",
    "        new_b = self.b - eta*db\n",
    "        self.b.assign(new_b)\n",
    "        \n",
    "    def fit(self, x, t, eta, num_iters):\n",
    "        loss = np.zeros(num_iters)\n",
    "        for i in range(num_iters):\n",
    "            self.gradient_step(x, t, eta)\n",
    "            loss[i] = self.get_loss(x, t).numpy()\n",
    "        return loss\n",
    "\n",
    "    def get_loss(self, x, t):\n",
    "        y = self.predict(x)\n",
    "        loss = tf.reduce_mean(0.5*(y - t)*(y - t))\n",
    "        return loss"
   ]
  },
  {
   "cell_type": "markdown",
   "metadata": {
    "id": "_fUPKfGwCJ2X"
   },
   "source": [
    "Puedes ejecutar las siguientes pruebas para comprobar tu implementación."
   ]
  },
  {
   "cell_type": "markdown",
   "metadata": {
    "id": "hpkCLMOZCQa7"
   },
   "source": [
    "Test para el método ``predict``:"
   ]
  },
  {
   "cell_type": "code",
   "execution_count": 25,
   "metadata": {
    "colab": {
     "base_uri": "https://localhost:8080/"
    },
    "executionInfo": {
     "elapsed": 25,
     "status": "ok",
     "timestamp": 1641566900899,
     "user": {
      "displayName": "Luis Lago",
      "photoUrl": "https://lh3.googleusercontent.com/a/default-user=s64",
      "userId": "15983579116795900663"
     },
     "user_tz": -60
    },
    "id": "3apq6eF98rnT",
    "outputId": "a6284dde-98dc-4578-f45b-36f43977e5ba"
   },
   "outputs": [
    {
     "name": "stdout",
     "output_type": "stream",
     "text": [
      "(500, 1)\n",
      "1.4210854715202004e-14\n",
      "tf.Tensor(5.254208059224549e-30, shape=(), dtype=float64)\n"
     ]
    }
   ],
   "source": [
    "dg = dlfbt.DataGeneratorLinear(a=[-5.0, 2.0, -3.0, 2.0])\n",
    "dg.create_dataset(noise=0.0, n=500)\n",
    "\n",
    "linrm = LinearRegressionModel_TF()\n",
    "linrm.w = tf.Variable(dg.a)\n",
    "linrm.b = tf.Variable(dg.b)\n",
    "\n",
    "y = linrm.predict(dg.x)\n",
    "print(y.shape)                    # Should be (500, 1)\n",
    "print(np.abs(y - dg.t).max())     # Should be 0 or close to 0 \n",
    "print(linrm.get_loss(dg.x, dg.t)) # Should be 0 or close to 0 "
   ]
  },
  {
   "cell_type": "markdown",
   "metadata": {
    "id": "7CJ0hkNJCZms"
   },
   "source": [
    "Test para el método ``compute_gradients``:"
   ]
  },
  {
   "cell_type": "code",
   "execution_count": 26,
   "metadata": {
    "colab": {
     "base_uri": "https://localhost:8080/"
    },
    "executionInfo": {
     "elapsed": 1023,
     "status": "ok",
     "timestamp": 1641566901902,
     "user": {
      "displayName": "Luis Lago",
      "photoUrl": "https://lh3.googleusercontent.com/a/default-user=s64",
      "userId": "15983579116795900663"
     },
     "user_tz": -60
    },
    "id": "W_yMrXh89D1P",
    "outputId": "c84b990e-dd63-4ba7-aada-d77ecc5b6cef"
   },
   "outputs": [
    {
     "name": "stdout",
     "output_type": "stream",
     "text": [
      "(1, 1)\n",
      "tf.Tensor([[-0.00704326]], shape=(1, 1), dtype=float64)\n",
      "(4, 1)\n",
      "tf.Tensor(\n",
      "[[-0.05353578]\n",
      " [-0.03276935]\n",
      " [-0.00337341]\n",
      " [-0.03293776]], shape=(4, 1), dtype=float64)\n"
     ]
    }
   ],
   "source": [
    "dg = dlfbt.DataGeneratorLinear(a=[-5.0, 2.0, -3.0, 2.0])\n",
    "dg.create_dataset(n=50000, seed=17)\n",
    "\n",
    "linrm = LinearRegressionModel_TF()\n",
    "linrm.w = tf.Variable(dg.a)\n",
    "linrm.b = tf.Variable(dg.b)\n",
    "\n",
    "db, dw = linrm.compute_gradients(dg.x, dg.t)\n",
    "print(db.shape) # Should be (1, 1)\n",
    "print(db)       # Should be [[-0.00704326]] approx\n",
    "print(dw.shape) # Should be (4, 1)\n",
    "print(dw)       # Should be [[-0.05353578]\n",
    "                #            [-0.03276935]\n",
    "                #            [-0.00337341]\n",
    "                #            [-0.03293776]] approx"
   ]
  },
  {
   "cell_type": "markdown",
   "metadata": {
    "id": "d79dKAGvCg4g"
   },
   "source": [
    "Test para el método ``fit``:"
   ]
  },
  {
   "cell_type": "code",
   "execution_count": 27,
   "metadata": {
    "colab": {
     "base_uri": "https://localhost:8080/"
    },
    "executionInfo": {
     "elapsed": 30,
     "status": "ok",
     "timestamp": 1641566901908,
     "user": {
      "displayName": "Luis Lago",
      "photoUrl": "https://lh3.googleusercontent.com/a/default-user=s64",
      "userId": "15983579116795900663"
     },
     "user_tz": -60
    },
    "id": "LJFfMn5r-Gqz",
    "outputId": "eae29d4e-5410-4507-bf37-8b1382d5774d"
   },
   "outputs": [
    {
     "name": "stdout",
     "output_type": "stream",
     "text": [
      "2.660068435196912\n"
     ]
    }
   ],
   "source": [
    "dg = dlfbt.DataGeneratorLinear(a=[2.0, 2.0])\n",
    "dg.create_dataset(n=500, seed=17)\n",
    "\n",
    "linrm = LinearRegressionModel_TF(2)\n",
    "linrm.w = tf.Variable([[-2.0], [-2.0]], dtype=tf.dtypes.float64)\n",
    "linrm.b = tf.Variable([[-3.0]], dtype=tf.dtypes.float64)\n",
    "\n",
    "loss = linrm.fit(dg.x, dg.t, 0.01, 100)\n",
    "print(loss[-1]) # Should be 2.660068435196912 approx"
   ]
  },
  {
   "cell_type": "markdown",
   "metadata": {
    "id": "k_ZjVkVaDCsO"
   },
   "source": [
    "Gráfica de loss frente a número de iteraciones:"
   ]
  },
  {
   "cell_type": "code",
   "execution_count": 28,
   "metadata": {
    "colab": {
     "base_uri": "https://localhost:8080/",
     "height": 334
    },
    "executionInfo": {
     "elapsed": 24,
     "status": "ok",
     "timestamp": 1641566901909,
     "user": {
      "displayName": "Luis Lago",
      "photoUrl": "https://lh3.googleusercontent.com/a/default-user=s64",
      "userId": "15983579116795900663"
     },
     "user_tz": -60
    },
    "id": "oUdWqhBH8BI1",
    "outputId": "563e3b98-e9ab-4162-fcc2-832f202b7cce"
   },
   "outputs": [
    {
     "data": {
      "image/png": "[encoded data removed]",
      "text/plain": [
       "<Figure size 360x360 with 1 Axes>"
      ]
     },
     "metadata": {
      "needs_background": "light"
     },
     "output_type": "display_data"
    }
   ],
   "source": [
    "plt.figure(figsize=(5, 5))\n",
    "plt.plot(loss)\n",
    "plt.xlabel('iteration')\n",
    "plt.ylabel('loss')\n",
    "plt.grid(True)\n",
    "plt.show()"
   ]
  },
  {
   "cell_type": "markdown",
   "metadata": {
    "id": "dtNBHcIAFR2a"
   },
   "source": [
    "Gráfica de predicciones frente a objetivos (debería estar distribuída a lo largo de la recta $y=x$):"
   ]
  },
  {
   "cell_type": "code",
   "execution_count": 29,
   "metadata": {
    "colab": {
     "base_uri": "https://localhost:8080/",
     "height": 334
    },
    "executionInfo": {
     "elapsed": 20,
     "status": "ok",
     "timestamp": 1641566901910,
     "user": {
      "displayName": "Luis Lago",
      "photoUrl": "https://lh3.googleusercontent.com/a/default-user=s64",
      "userId": "15983579116795900663"
     },
     "user_tz": -60
    },
    "id": "6I74S1h-8A-m",
    "outputId": "b9143657-b023-401d-c6db-b5f03db59c02"
   },
   "outputs": [
    {
     "data": {
      "image/png": "[encoded data removed]",
      "text/plain": [
       "<Figure size 360x360 with 1 Axes>"
      ]
     },
     "metadata": {
      "needs_background": "light"
     },
     "output_type": "display_data"
    }
   ],
   "source": [
    "y = linrm.predict(dg.x)\n",
    "plt.figure(figsize=(5, 5))\n",
    "plt.plot(dg.t, y, 'o')\n",
    "plt.plot([dg.t.min(), dg.t.max()], [dg.t.min(), dg.t.max()], 'r-')\n",
    "plt.xlabel('real')\n",
    "plt.ylabel('predicted')\n",
    "plt.grid(True)\n",
    "plt.show()"
   ]
  },
  {
   "cell_type": "markdown",
   "metadata": {
    "id": "8K_dMOjjFpf9"
   },
   "source": [
    "#### <font color=\"#CA3532\">Ejercicio 7</font> [1 punto] \n",
    "\n",
    "A continuación vamos a construir una red neuronal completa. Igual que antes, debes completar el código de la clase ``NeuralNetwork_TF`` rellenando todos los bloques marcados con un ``TO-DO``. \n"
   ]
  },
  {
   "cell_type": "code",
   "execution_count": 30,
   "metadata": {
    "id": "cGrQ7ikpRP0_"
   },
   "outputs": [],
   "source": [
    "class NeuralNetwork_TF(object):\n",
    "\n",
    "    def mse_loss(y, t):\n",
    "        loss = 0.5*tf.reduce_mean(tf.pow(y-t, 2.0))\n",
    "        return loss\n",
    "\n",
    "    def cross_entropy_loss(y, t):\n",
    "        loss = -tf.reduce_mean(t*tf.math.log(y) + (1.-t)*tf.math.log(1.-y))\n",
    "        return loss\n",
    "     \n",
    "    def __init__(self, layers=[(2, None), (1, tf.sigmoid)]):\n",
    "        # Network weights and activations:\n",
    "        self.nlayers = len(layers) - 1\n",
    "        self.W = []\n",
    "        self.b = []\n",
    "        self.a = []\n",
    "        for l0, l1 in zip(layers[:-1], layers[1:]):\n",
    "            self.W.append(tf.Variable(tf.random.normal(shape=[l1[0], l0[0]], dtype=tf.dtypes.float64)))\n",
    "            self.b.append(tf.Variable(tf.random.normal(shape=[l1[0], 1], dtype=tf.dtypes.float64)))\n",
    "            self.a.append(l1[1])\n",
    "            \n",
    "    def predict(self, x):\n",
    "        \n",
    "        for layer in range(0,self.nlayers):\n",
    "            if layer == 0:\n",
    "                z = tf.matmul(self.W[layer],x) + self.b[layer]\n",
    "                a = (self.a[layer](z))\n",
    "            else:\n",
    "                z = tf.matmul(self.W[layer],a) + self.b[layer]\n",
    "                a = (self.a[layer](z))\n",
    "        y = a\n",
    "        \n",
    "        return y\n",
    "    \n",
    "    def compute_gradients(self, x, t, loss_function):\n",
    "        \n",
    "        \n",
    "        with tf.GradientTape(persistent=True) as tape:\n",
    "            for layer in range(0,self.nlayers):\n",
    "                if layer == 0:\n",
    "                    z = tf.matmul(self.W[layer],x) + self.b[layer]\n",
    "                    a = (self.a[layer](z))\n",
    "                else:\n",
    "                    z = tf.matmul(self.W[layer],a) + self.b[layer]\n",
    "                    a = (self.a[layer](z))\n",
    "            y = a\n",
    "    \n",
    "            loss = loss_function(y, t)\n",
    "        \n",
    "        db = []\n",
    "        dW = []\n",
    "        \n",
    "        for layer in range(0,self.nlayers):\n",
    "            db.append(tape.gradient(loss, self.b[layer]))\n",
    "            dW.append(tape.gradient(loss, self.W[layer]))\n",
    "        \n",
    "        return db, dW\n",
    "        \n",
    "    #---------------------------------------------------------------------------\n",
    "    # Gradient step:\n",
    "    #---------------------------------------------------------------------------\n",
    "    def gradient_step(self, x, t, eta, loss_function):\n",
    "        dB, dW = self.compute_gradients(x, t, loss_function)\n",
    "\n",
    "        for layer in range(0,self.nlayers):\n",
    "            \n",
    "            new_w = self.W[layer] - eta*dW[layer]\n",
    "            self.W[layer].assign(new_w)\n",
    "            new_b = self.b[layer] - eta*dB[layer]\n",
    "            self.b[layer].assign(new_b)\n",
    "\n",
    "    #---------------------------------------------------------------------------\n",
    "    # Fit the model parameters to the training data x, t.\n",
    "    # Return the loss at each training epoch.\n",
    "    #---------------------------------------------------------------------------\n",
    "    def fit(self, x, t, eta, num_epochs, batch_size, loss_function, verbose=False):\n",
    "        (dim, n) = x.shape\n",
    "        num_batches = (n // batch_size) + ((n % batch_size) != 0)\n",
    " \n",
    "        loss = np.zeros(num_epochs)\n",
    "        for i in range(num_epochs):\n",
    "            # Shuffle data and generate batches:\n",
    "            ix = np.random.permutation(n)\n",
    "            for j in range(num_batches):\n",
    "                imin = j*batch_size\n",
    "                imax = np.minimum((j+1)*batch_size, n)\n",
    "                \n",
    "                ibatch = ix[imin:imax]\n",
    "                batch_x = x[:, ibatch]\n",
    "                batch_t = t[:, ibatch]\n",
    "                self.gradient_step(batch_x, batch_t, eta, loss_function)\n",
    "\n",
    "            # Calculo el loss de la epoca con todos los datos:\n",
    "            loss[i] = self.get_loss(x, t, loss_function).numpy()\n",
    "            # Print:\n",
    "            if verbose:\n",
    "                print(\"Epoch %d -- loss %f\" % (i, loss[i]))\n",
    "        return loss\n",
    "\n",
    "    #---------------------------------------------------------------------------\n",
    "    # Compute loss:\n",
    "    #---------------------------------------------------------------------------\n",
    "    def get_loss(self, x, t, loss_function):\n",
    "        y = self.predict(x)\n",
    "        return loss_function(y, t)"
   ]
  },
  {
   "cell_type": "markdown",
   "metadata": {
    "id": "R4L50bK9pQxi"
   },
   "source": [
    "Puedes ejecutar las siguientes pruebas para chequear tu implementación."
   ]
  },
  {
   "cell_type": "markdown",
   "metadata": {
    "id": "Lu6oBx622I-9"
   },
   "source": [
    "Método ``predict``:"
   ]
  },
  {
   "cell_type": "code",
   "execution_count": 31,
   "metadata": {
    "colab": {
     "base_uri": "https://localhost:8080/"
    },
    "executionInfo": {
     "elapsed": 19,
     "status": "ok",
     "timestamp": 1641566903122,
     "user": {
      "displayName": "Luis Lago",
      "photoUrl": "https://lh3.googleusercontent.com/a/default-user=s64",
      "userId": "15983579116795900663"
     },
     "user_tz": -60
    },
    "id": "1sYISRu72Rk8",
    "outputId": "d07185ad-2ffc-46d1-a826-2a5565ab60ea"
   },
   "outputs": [
    {
     "name": "stdout",
     "output_type": "stream",
     "text": [
      "(1, 20)\n",
      "2.220446049250313e-16\n"
     ]
    }
   ],
   "source": [
    "np.random.seed(17)\n",
    "tf.random.set_seed(17)\n",
    "x = np.random.randn(3, 20)\n",
    "\n",
    "net = NeuralNetwork_TF([(3, None), (10, tf.sigmoid), (1, tf.sigmoid)])\n",
    "y = net.predict(x)\n",
    "\n",
    "# Tensor shape, should be (1, 20)\n",
    "print(y.shape)\n",
    "\n",
    "# Array values, should match those on the test file, so that all prints are 0 \n",
    "# or close to 0:\n",
    "with open('MIAX7/test_nn_tf_predict.pickle', 'rb') as handle:\n",
    "    yexp = pickle.load(handle)\n",
    "print(np.max(np.abs(y - yexp)))"
   ]
  },
  {
   "cell_type": "markdown",
   "metadata": {
    "id": "ACJyRIwR66TO"
   },
   "source": [
    "Método ``compute_gradients``:"
   ]
  },
  {
   "cell_type": "code",
   "execution_count": 32,
   "metadata": {
    "colab": {
     "base_uri": "https://localhost:8080/"
    },
    "executionInfo": {
     "elapsed": 16,
     "status": "ok",
     "timestamp": 1641566903123,
     "user": {
      "displayName": "Luis Lago",
      "photoUrl": "https://lh3.googleusercontent.com/a/default-user=s64",
      "userId": "15983579116795900663"
     },
     "user_tz": -60
    },
    "id": "MIRwsjNG2m9s",
    "outputId": "b7eb38ea-417e-4b05-d590-a8aefbc545f4"
   },
   "outputs": [
    {
     "name": "stdout",
     "output_type": "stream",
     "text": [
      "(10, 3)\n",
      "(10, 1)\n",
      "(1, 10)\n",
      "(1, 1)\n",
      "8.326672684688674e-17\n",
      "1.1102230246251565e-16\n",
      "2.220446049250313e-16\n",
      "0.0\n"
     ]
    }
   ],
   "source": [
    "np.random.seed(17)\n",
    "tf.random.set_seed(17)\n",
    "x = np.random.randn(3, 20)\n",
    "t = np.random.randn(1, 20)\n",
    "\n",
    "net = NeuralNetwork_TF([(3, None), (10, tf.sigmoid), (1, tf.identity)])\n",
    "db, dW = net.compute_gradients(x, t, NeuralNetwork_TF.mse_loss)\n",
    "\n",
    "# Array shapes, should be:\n",
    "# (10, 3)\n",
    "# (10, 1)\n",
    "# (1, 10)\n",
    "# (1, 1)\n",
    "for dwp, dbp in zip(dW, db):\n",
    "    print(dwp.shape)\n",
    "    print(dbp.shape)\n",
    "\n",
    "# Array values, should match those on the test file, so that all prints are 0 \n",
    "# or close to 0:\n",
    "with open('MIAX7/test_nn_tf_compute_gradients.pickle', 'rb') as handle:\n",
    "    [dWexp, dbexp] = pickle.load(handle)\n",
    "\n",
    "for dwp, dbp, dwe, dbe in zip(dW, db, dWexp, dbexp):\n",
    "    print(np.max(np.abs(dwp - dwe)))\n",
    "    print(np.max(np.abs(dbp - dbe)))"
   ]
  },
  {
   "cell_type": "markdown",
   "metadata": {
    "id": "Oee-XgdK-Fo6"
   },
   "source": [
    "Método ``fit`` (problema de regresión):"
   ]
  },
  {
   "cell_type": "code",
   "execution_count": 33,
   "metadata": {
    "colab": {
     "base_uri": "https://localhost:8080/"
    },
    "executionInfo": {
     "elapsed": 14,
     "status": "ok",
     "timestamp": 1641566903124,
     "user": {
      "displayName": "Luis Lago",
      "photoUrl": "https://lh3.googleusercontent.com/a/default-user=s64",
      "userId": "15983579116795900663"
     },
     "user_tz": -60
    },
    "id": "Ti0dAAfl-Elh",
    "outputId": "336fd998-67a0-454a-97e8-03fbbfbe7b43"
   },
   "outputs": [
    {
     "name": "stdout",
     "output_type": "stream",
     "text": [
      "(1, 1000)\n",
      "7.105427357601002e-15\n"
     ]
    }
   ],
   "source": [
    "dg = dlfbt.DataGeneratorLinear(a=[2.0, 2.0])\n",
    "dg.create_dataset(n=1000, seed=17, noise=1.0)\n",
    "x = dg.x.transpose()\n",
    "t = dg.t.transpose()\n",
    "\n",
    "np.random.seed(23)\n",
    "tf.random.set_seed(23)\n",
    "net = NeuralNetwork_TF([(2, None), (1, tf.identity)])\n",
    "loss = net.fit(x, t, 0.01, 100, 1000, NeuralNetwork_TF.mse_loss)\n",
    "y = net.predict(x)\n",
    "\n",
    "# Array shape, should be (1, 1000):\n",
    "print(y.shape)\n",
    "\n",
    "# Array values, should match those on the test file, so that all prints are 0 \n",
    "# or close to 0:\n",
    "with open('MIAX7/test_nn_tf_fit.pickle', 'rb') as handle:\n",
    "    yexp = pickle.load(handle)\n",
    "print(np.max(np.abs(y - yexp)))"
   ]
  },
  {
   "cell_type": "markdown",
   "metadata": {
    "id": "Yb-4Vrvy7Z-D"
   },
   "source": [
    "Gráfica de loss frente a número de iteraciones:"
   ]
  },
  {
   "cell_type": "code",
   "execution_count": 34,
   "metadata": {
    "colab": {
     "base_uri": "https://localhost:8080/",
     "height": 388
    },
    "executionInfo": {
     "elapsed": 10,
     "status": "ok",
     "timestamp": 1641566903124,
     "user": {
      "displayName": "Luis Lago",
      "photoUrl": "https://lh3.googleusercontent.com/a/default-user=s64",
      "userId": "15983579116795900663"
     },
     "user_tz": -60
    },
    "id": "ghXjsdAH7_Sl",
    "outputId": "a0e31389-fcee-454e-9f12-9434c9506c34"
   },
   "outputs": [
    {
     "data": {
      "image/png": "[encoded data removed]",
      "text/plain": [
       "<Figure size 432x432 with 1 Axes>"
      ]
     },
     "metadata": {
      "needs_background": "light"
     },
     "output_type": "display_data"
    }
   ],
   "source": [
    "plt.figure(figsize=(6, 6))\n",
    "plt.plot(loss)\n",
    "plt.xlabel('epoch')\n",
    "plt.ylabel('loss')\n",
    "plt.grid(True)\n",
    "plt.show()"
   ]
  },
  {
   "cell_type": "markdown",
   "metadata": {
    "id": "IKe5tlRgAkyG"
   },
   "source": [
    "Gráfica de predicciones frente a objetivos (debería estar distribuída a lo largo de la recta $y=x$):"
   ]
  },
  {
   "cell_type": "code",
   "execution_count": 35,
   "metadata": {
    "colab": {
     "base_uri": "https://localhost:8080/",
     "height": 388
    },
    "executionInfo": {
     "elapsed": 794,
     "status": "ok",
     "timestamp": 1641566903910,
     "user": {
      "displayName": "Luis Lago",
      "photoUrl": "https://lh3.googleusercontent.com/a/default-user=s64",
      "userId": "15983579116795900663"
     },
     "user_tz": -60
    },
    "id": "ADa2-5oz8DHV",
    "outputId": "f068dcaf-fe8a-4c13-a15b-7398950e026c"
   },
   "outputs": [
    {
     "data": {
      "image/png": "[encoded data removed]",
      "text/plain": [
       "<Figure size 432x432 with 1 Axes>"
      ]
     },
     "metadata": {
      "needs_background": "light"
     },
     "output_type": "display_data"
    }
   ],
   "source": [
    "y = net.predict(x).numpy().transpose()\n",
    "plt.figure(figsize=(6, 6))\n",
    "plt.plot(dg.t, y, 'o')\n",
    "plt.plot([dg.t.min(), dg.t.max()], [dg.t.min(), dg.t.max()], 'r-')\n",
    "plt.xlabel('real')\n",
    "plt.ylabel('predicted')\n",
    "plt.grid(True)\n",
    "plt.show()"
   ]
  },
  {
   "cell_type": "markdown",
   "metadata": {
    "id": "rOZSu857Pfll"
   },
   "source": [
    "### <font color=\"#CA3532\">Parte III: Optimización de hiperparámetros</font>"
   ]
  },
  {
   "cell_type": "markdown",
   "metadata": {
    "id": "n077GjMKRfft"
   },
   "source": [
    "\n",
    "En esta parte de la práctica vamos a seguir trabajando con la base de datos de Forest Covertypes. Los datos deberían estar cargados en las variables ``x_train``, ``x_test``, ``t_train`` y ``t_test``:"
   ]
  },
  {
   "cell_type": "code",
   "execution_count": 36,
   "metadata": {
    "colab": {
     "base_uri": "https://localhost:8080/"
    },
    "executionInfo": {
     "elapsed": 27,
     "status": "ok",
     "timestamp": 1641566903914,
     "user": {
      "displayName": "Luis Lago",
      "photoUrl": "https://lh3.googleusercontent.com/a/default-user=s64",
      "userId": "15983579116795900663"
     },
     "user_tz": -60
    },
    "id": "2HCnnhnwIoau",
    "outputId": "d7d79660-ad07-4b68-a59c-f10b2e00cd7a"
   },
   "outputs": [
    {
     "name": "stdout",
     "output_type": "stream",
     "text": [
      "(406708, 54)\n",
      "(174304, 54)\n",
      "(406708,)\n",
      "(174304,)\n"
     ]
    }
   ],
   "source": [
    "print(x_train.shape)\n",
    "print(x_test.shape)\n",
    "print(t_train.shape)\n",
    "print(t_test.shape)"
   ]
  },
  {
   "cell_type": "markdown",
   "metadata": {
    "id": "fFx01rn7wOa0"
   },
   "source": [
    "#### <font color=\"#CA3532\">Ejercicio 8</font> [1 punto]\n",
    "\n",
    "Construye una red neuronal para el problema Forest Covertypes, realizando una búsqueda lo más completa posible de los hiperparámetros con [Keras Tuner](https://keras-team.github.io/keras-tuner/documentation/tuners/). Debes considerar, al menos, los siguientes hiperparámetros:\n",
    "\n",
    "- Learning rate.\n",
    "- Número de capas ocultas.\n",
    "- Número de unidades en las capas ocultas.\n",
    "- Función de activación.\n",
    "- Algún parámetro de regularización. \n",
    "- Optimizador.\n",
    "\n",
    "Completa el código de las celdas siguientes en los lugares indicados, sin cambiar el nombre de la carpeta de logs.\n",
    "\n",
    "**Nota:** Ten en cuenta que este ejercicio puede requerir mucho tiempo de ejecución. "
   ]
  },
  {
   "cell_type": "code",
   "execution_count": 37,
   "metadata": {
    "colab": {
     "base_uri": "https://localhost:8080/"
    },
    "executionInfo": {
     "elapsed": 4146,
     "status": "ok",
     "timestamp": 1641566908045,
     "user": {
      "displayName": "Luis Lago",
      "photoUrl": "https://lh3.googleusercontent.com/a/default-user=s64",
      "userId": "15983579116795900663"
     },
     "user_tz": -60
    },
    "id": "yZhIPAYk4L1H",
    "outputId": "d33e1ad3-3688-4e84-d0ed-12a1d9e1e702"
   },
   "outputs": [
    {
     "name": "stderr",
     "output_type": "stream",
     "text": [
      "WARNING: Ignoring invalid distribution -illow (c:\\users\\carlos\\anaconda3\\lib\\site-packages)\n",
      "WARNING: Ignoring invalid distribution -illow (c:\\users\\carlos\\anaconda3\\lib\\site-packages)\n",
      "WARNING: Ignoring invalid distribution -illow (c:\\users\\carlos\\anaconda3\\lib\\site-packages)\n",
      "WARNING: Ignoring invalid distribution -illow (c:\\users\\carlos\\anaconda3\\lib\\site-packages)\n",
      "WARNING: Ignoring invalid distribution -illow (c:\\users\\carlos\\anaconda3\\lib\\site-packages)\n",
      "<ipython-input-37-5d7b6944a6ac>:2: DeprecationWarning: `import kerastuner` is deprecated, please use `import keras_tuner`.\n",
      "  import kerastuner as kt\n"
     ]
    }
   ],
   "source": [
    "!pip install -q -U keras-tuner\n",
    "import kerastuner as kt"
   ]
  },
  {
   "cell_type": "markdown",
   "metadata": {
    "id": "yccnCT3B61d9"
   },
   "source": [
    "<font color=\"#CA3532\">[8.1]</font> Define el hipermodelo:"
   ]
  },
  {
   "cell_type": "code",
   "execution_count": 38,
   "metadata": {
    "id": "le1k5jYB43fn"
   },
   "outputs": [],
   "source": [
    "def model_builder(hp):\n",
    "  #-------------------------------------------------------------\n",
    "  # TO-DO: Incluye aquí los hiperparámetros a optimizar y sus posibles\n",
    "  # valores. Como ejemplo se muestra el learning rate\n",
    "    hp_learning_rate = hp.Choice('learning_rate', values = [1.0, 0.1, 0.01]) #Learning rate\n",
    "    hp_lambda = hp.Choice('lambda', values = [1.0, 0.1, 0.01, 0.001, 0.0001]) #Regularización\n",
    "    hp_units = hp.Int('units', min_value = 32, max_value = 128, step = 32) #Numero neuronas\n",
    "    hp_act = hp.Choice('act', values = ['sigmoid', 'relu']) #Función de activación\n",
    "    hp_opt = hp.Choice('optimizer', values = ['adam', 'sgd']) #Optimizador\n",
    "    hp_num_layers = hp.Int('layers', min_value = 2, max_value = 6) #Numero de capas\n",
    "    \n",
    "    #-------------------------------------------------------------\n",
    "\n",
    "    model = keras.Sequential()\n",
    "    #-------------------------------------------------------------\n",
    "    # TO-DO: Completa la definición del modelo añadiendo las capas necesarias\n",
    "\n",
    "    #-------------------------------------------------------------\n",
    "    model = keras.Sequential()\n",
    "    model.add(keras.layers.InputLayer(input_shape =(54)))\n",
    "   \n",
    "    for i in range(hp_num_layers):\n",
    "        model.add(keras.layers.Dense(units = hp_units, activation = hp_act, kernel_regularizer=keras.regularizers.l2(hp_lambda)))\n",
    "        \n",
    "    model.add(keras.layers.Dense(7, activation=\"softmax\"))\n",
    "\n",
    "    #-------------------------------------------------------------\n",
    "    # TO-DO: Compila el modelo\n",
    "    if hp_opt == 'adam':\n",
    "        model.compile(optimizer=keras.optimizers.Adam(learning_rate=hp_learning_rate), \n",
    "                loss='sparse_categorical_crossentropy',\n",
    "                metrics=['acc'])   \n",
    "    if hp_opt == 'sgd':  \n",
    "        model.compile(optimizer=keras.optimizers.SGD(learning_rate=hp_learning_rate), \n",
    "                    loss='sparse_categorical_crossentropy',\n",
    "                    metrics=['acc'])   \n",
    "  #-------------------------------------------------------------\n",
    "  \n",
    "    return model"
   ]
  },
  {
   "cell_type": "markdown",
   "metadata": {
    "id": "VEuCgZ3b8O2Z"
   },
   "source": [
    "Borrado de la carpeta de logs:"
   ]
  },
  {
   "cell_type": "code",
   "execution_count": null,
   "metadata": {
    "id": "wFnAgWQ38OAj"
   },
   "outputs": [],
   "source": [
    "!rm -rf logs-proyecto/keras_tuner"
   ]
  },
  {
   "cell_type": "markdown",
   "metadata": {
    "id": "Kxn9nWN_9D_E"
   },
   "source": [
    "Creación de un ``tuner`` de tipo ``Hyperband`` que usa el hipermodelo anterior. El objetivo a optimizar es la precisión (accuracy) sobre el conjunto de validación. El máximo número de épocas es 10."
   ]
  },
  {
   "cell_type": "code",
   "execution_count": 39,
   "metadata": {
    "id": "O7axgVjE8wKE"
   },
   "outputs": [
    {
     "name": "stdout",
     "output_type": "stream",
     "text": [
      "INFO:tensorflow:Reloading Oracle from existing project logs-proyecto/keras_tuner\\kt\\oracle.json\n",
      "INFO:tensorflow:Reloading Tuner from logs-proyecto/keras_tuner\\kt\\tuner0.json\n"
     ]
    }
   ],
   "source": [
    "tuner = kt.Hyperband(model_builder,\n",
    "                     objective = 'val_acc', \n",
    "                     max_epochs = 10,\n",
    "                     factor = 3,\n",
    "                     directory = 'logs-proyecto/keras_tuner',\n",
    "                     project_name = 'kt')  "
   ]
  },
  {
   "cell_type": "markdown",
   "metadata": {
    "id": "DwpPmJfh-waF"
   },
   "source": [
    "Resumen del espacio de búsqueda. Comprueba que contiene todos los valores a considerar para cada uno de los hiperparámetros."
   ]
  },
  {
   "cell_type": "code",
   "execution_count": 40,
   "metadata": {
    "colab": {
     "base_uri": "https://localhost:8080/"
    },
    "executionInfo": {
     "elapsed": 24,
     "status": "ok",
     "timestamp": 1641566908047,
     "user": {
      "displayName": "Luis Lago",
      "photoUrl": "https://lh3.googleusercontent.com/a/default-user=s64",
      "userId": "15983579116795900663"
     },
     "user_tz": -60
    },
    "id": "vOKQZDjK8wHC",
    "outputId": "ebe3531c-0b39-4ad1-a636-3d6215a3b86d"
   },
   "outputs": [
    {
     "name": "stdout",
     "output_type": "stream",
     "text": [
      "Search space summary\n",
      "Default search space size: 6\n",
      "learning_rate (Choice)\n",
      "{'default': 1.0, 'conditions': [], 'values': [1.0, 0.1, 0.01], 'ordered': True}\n",
      "lambda (Choice)\n",
      "{'default': 1.0, 'conditions': [], 'values': [1.0, 0.1, 0.01, 0.001, 0.0001], 'ordered': True}\n",
      "units (Int)\n",
      "{'default': None, 'conditions': [], 'min_value': 32, 'max_value': 128, 'step': 32, 'sampling': None}\n",
      "act (Choice)\n",
      "{'default': 'sigmoid', 'conditions': [], 'values': ['sigmoid', 'relu'], 'ordered': False}\n",
      "optimizer (Choice)\n",
      "{'default': 'adam', 'conditions': [], 'values': ['adam', 'sgd'], 'ordered': False}\n",
      "layers (Int)\n",
      "{'default': None, 'conditions': [], 'min_value': 2, 'max_value': 6, 'step': 1, 'sampling': None}\n"
     ]
    }
   ],
   "source": [
    "tuner.search_space_summary()"
   ]
  },
  {
   "cell_type": "markdown",
   "metadata": {
    "id": "CDs2_CX2L_h1"
   },
   "source": [
    "<font color=\"#CA3532\">[8.2]</font> Divide el conjunto de entrenamiento, de manera aleatoria, en dos subconjuntos. El primero, ``(tr_data, tr_labels)`` contendrá el 70% de los datos y lo usaremos para entrenar los hipermodelos. El segundo, ``(val_data, val_labels)`` contendrá el 30% de los datos y lo usaremos para validar los hipermodelos. Puedes usar [train_test_split](https://scikit-learn.org/stable/modules/generated/sklearn.model_selection.train_test_split.html) de ``sklearn.model_selection``."
   ]
  },
  {
   "cell_type": "code",
   "execution_count": 41,
   "metadata": {
    "id": "wXmM4FEhMGXF"
   },
   "outputs": [],
   "source": [
    "#-------------------------------------------------------------\n",
    "# TO-DO: Genera los subconjuntos de datos (tr_data, tr_labels) y \n",
    "# (val_data, val_labels)\n",
    "tr_data, val_data, tr_labels, val_lables = train_test_split(x_train, t_train, test_size=0.7, random_state =19)\n",
    "#-------------------------------------------------------------"
   ]
  },
  {
   "cell_type": "markdown",
   "metadata": {
    "id": "We4hKqIgAold"
   },
   "source": [
    "<font color=\"#CA3532\">[8.3]</font> Realiza la búsqueda de los hiperparámetros llamando a ``tuner.search`` usando los datos ``tr_data``, ``tr_labels`` como conjunto de entrenamiento y los datos ``val_data``, ``val_labels`` como conjunto de validación: "
   ]
  },
  {
   "cell_type": "code",
   "execution_count": 42,
   "metadata": {
    "colab": {
     "base_uri": "https://localhost:8080/"
    },
    "executionInfo": {
     "elapsed": 124700,
     "status": "ok",
     "timestamp": 1641567032728,
     "user": {
      "displayName": "Luis Lago",
      "photoUrl": "https://lh3.googleusercontent.com/a/default-user=s64",
      "userId": "15983579116795900663"
     },
     "user_tz": -60
    },
    "id": "yI6AdJEX8wEK",
    "outputId": "fd6b4150-7283-4f61-e9f6-92940a46cd9f"
   },
   "outputs": [
    {
     "name": "stdout",
     "output_type": "stream",
     "text": [
      "INFO:tensorflow:Oracle triggered exit\n"
     ]
    }
   ],
   "source": [
    "#-------------------------------------------------------------\n",
    "# TO-DO: Realiza la búsqueda de los hiperparámetros\n",
    "tuner.search(tr_data, tr_labels,\n",
    "             epochs=10,\n",
    "             validation_data=(val_data, val_lables))\n",
    "#-------------------------------------------------------------"
   ]
  },
  {
   "cell_type": "markdown",
   "metadata": {
    "id": "FxhzHBQnDUHl"
   },
   "source": [
    "<font color=\"#CA3532\">[8.4]</font> Selecciona los mejores hiperparámetros, vuelve a entrenar el modelo con todos los datos de entrenamiento y aplícalo al conjunto de test."
   ]
  },
  {
   "cell_type": "code",
   "execution_count": 43,
   "metadata": {
    "colab": {
     "base_uri": "https://localhost:8080/"
    },
    "executionInfo": {
     "elapsed": 256073,
     "status": "ok",
     "timestamp": 1641567288759,
     "user": {
      "displayName": "Luis Lago",
      "photoUrl": "https://lh3.googleusercontent.com/a/default-user=s64",
      "userId": "15983579116795900663"
     },
     "user_tz": -60
    },
    "id": "ld-Q8rKVDgCm",
    "outputId": "7765b655-afed-43b9-eaaa-26290bc52f9f"
   },
   "outputs": [
    {
     "data": {
      "text/plain": [
       "{'learning_rate': 0.1,\n",
       " 'lambda': 0.001,\n",
       " 'units': 32,\n",
       " 'act': 'relu',\n",
       " 'optimizer': 'sgd',\n",
       " 'layers': 6,\n",
       " 'tuner/epochs': 10,\n",
       " 'tuner/initial_epoch': 4,\n",
       " 'tuner/bracket': 2,\n",
       " 'tuner/round': 2,\n",
       " 'tuner/trial_id': '567a58108234cb1242f67b97b5c46633'}"
      ]
     },
     "execution_count": 43,
     "metadata": {},
     "output_type": "execute_result"
    }
   ],
   "source": [
    "#-------------------------------------------------------------\n",
    "# TO-DO: Selecciona los mejores hiperparámetros, reentrena el modelo con todos\n",
    "# los datos y aplícalo al conjunto de test\n",
    "best_hps = tuner.get_best_hyperparameters()[0]\n",
    "best_hps.values\n",
    "#-------------------------------------------------------------"
   ]
  },
  {
   "cell_type": "code",
   "execution_count": 44,
   "metadata": {},
   "outputs": [
    {
     "name": "stdout",
     "output_type": "stream",
     "text": [
      "Epoch 1/10\n",
      "12710/12710 [==============================] - 11s 867us/step - loss: 0.7232 - acc: 0.7378 - val_loss: 0.6505 - val_acc: 0.7554\n",
      "Epoch 2/10\n",
      "12710/12710 [==============================] - 11s 883us/step - loss: 0.6390 - acc: 0.7647 - val_loss: 0.6316 - val_acc: 0.7680\n",
      "Epoch 3/10\n",
      "12710/12710 [==============================] - 11s 897us/step - loss: 0.6309 - acc: 0.7713 - val_loss: 0.6804 - val_acc: 0.7531\n",
      "Epoch 4/10\n",
      "12710/12710 [==============================] - 11s 853us/step - loss: 0.6260 - acc: 0.7734 - val_loss: 0.6376 - val_acc: 0.7724\n",
      "Epoch 5/10\n",
      "12710/12710 [==============================] - 11s 868us/step - loss: 0.6277 - acc: 0.7749 - val_loss: 0.6458 - val_acc: 0.7718\n",
      "Epoch 6/10\n",
      "12710/12710 [==============================] - 11s 847us/step - loss: 0.6242 - acc: 0.7754 - val_loss: 0.6069 - val_acc: 0.7853\n",
      "Epoch 7/10\n",
      "12710/12710 [==============================] - 11s 843us/step - loss: 0.6259 - acc: 0.7764 - val_loss: 0.7476 - val_acc: 0.7282\n",
      "Epoch 8/10\n",
      "12710/12710 [==============================] - 12s 927us/step - loss: 0.6213 - acc: 0.7780 - val_loss: 0.6229 - val_acc: 0.7777\n",
      "Epoch 9/10\n",
      "12710/12710 [==============================] - 11s 869us/step - loss: 0.6206 - acc: 0.7791 - val_loss: 0.6278 - val_acc: 0.7788\n",
      "Epoch 10/10\n",
      "12710/12710 [==============================] - 11s 858us/step - loss: 0.6202 - acc: 0.7794 - val_loss: 0.6128 - val_acc: 0.7809\n"
     ]
    },
    {
     "data": {
      "text/plain": [
       "<keras.callbacks.History at 0x1cc842c45b0>"
      ]
     },
     "execution_count": 44,
     "metadata": {},
     "output_type": "execute_result"
    }
   ],
   "source": [
    "model = tuner.hypermodel.build(best_hps)\n",
    "model.fit(x_train, t_train, epochs = 10, validation_data = (x_test, t_test))"
   ]
  },
  {
   "cell_type": "markdown",
   "metadata": {
    "id": "OVvprGNGwccu"
   },
   "source": [
    "#### <font color=\"#CA3532\">Ejercicio 9</font> [1 punto]\n",
    "\n",
    "Construye una red neuronal para el problema Forest Covertypes, realizando una búsqueda lo más completa posible de los hiperparámetros con el \n",
    "[HParams Dashboard](https://www.tensorflow.org/tensorboard/hyperparameter_tuning_with_hparams) de ``tensorboard`` y usando una validación cruzada de 5 *folds*. Debes considerar, al menos, los siguientes hiperparámetros:\n",
    "\n",
    "- Learning rate.\n",
    "- Número de capas ocultas.\n",
    "- Número de unidades en las capas ocultas.\n",
    "- Función de activación.\n",
    "- Algún parámetro de regularización. \n",
    "- Optimizador.\n",
    "\n",
    "Completa el código de las celdas siguientes en los lugares indicados."
   ]
  },
  {
   "cell_type": "code",
   "execution_count": 45,
   "metadata": {
    "id": "CesN0Q05qv5i"
   },
   "outputs": [],
   "source": [
    "from tensorboard.plugins.hparams import api as hp\n",
    "from sklearn.model_selection import StratifiedKFold"
   ]
  },
  {
   "cell_type": "markdown",
   "metadata": {
    "id": "AyNivWa2GmlD"
   },
   "source": [
    "<font color=\"#CA3532\">[9.1]</font> Define el hipermodelo. Recuerda que debes hacer validación cruzada de ``5-folds`` y que la métrica ``accuracy`` se debe calcular como un promedio sobre las 5 particiones de validación.  "
   ]
  },
  {
   "cell_type": "code",
   "execution_count": 46,
   "metadata": {
    "id": "_abAcOlnGu9v"
   },
   "outputs": [],
   "source": [
    "def train_test_model(hparams):\n",
    "\n",
    "  # Validación cruzada de 5-folds\n",
    "  kfold = StratifiedKFold(n_splits=5, shuffle=True, random_state=13)\n",
    "\n",
    "  # Bucle en folds:\n",
    "  mean_accuracy = 0.0\n",
    "  for itrain, itest in kfold.split(x_train, t_train):\n",
    "    model = keras.Sequential()\n",
    "    #-------------------------------------------------------------\n",
    "    # TO-DO: Completa la definición del modelo añadiendo las capas necesarias\n",
    "        \n",
    "    model.add(keras.layers.InputLayer(input_shape =(54)))\n",
    "   \n",
    "    for i in range(hparams['num_layers']):\n",
    "        model.add(keras.layers.Dense(units = hparams['num_units'], activation = hparams['activation'], kernel_regularizer=keras.regularizers.l2(hparams['lambda'])))\n",
    "        \n",
    "    model.add(keras.layers.Dense(7, activation=\"softmax\"))\n",
    "\n",
    "    #-------------------------------------------------------------\n",
    "  \n",
    "    #-------------------------------------------------------------\n",
    "    # TO-DO: Compila el modelo\n",
    "    \n",
    "    #-------------------------------------------------------------\n",
    "    if hparams['optimizer'] == 'adam':\n",
    "        model.compile(optimizer=keras.optimizers.Adam(learning_rate=hparams['learning_rate']), \n",
    "                loss='sparse_categorical_crossentropy',\n",
    "                metrics=['acc'])   \n",
    "    if hparams['optimizer'] == 'sgd':  \n",
    "        model.compile(optimizer=keras.optimizers.SGD(learning_rate=hparams['learning_rate']), \n",
    "                    loss='sparse_categorical_crossentropy',\n",
    "                    metrics=['acc'])   \n",
    "    #-------------------------------------------------------------\n",
    "    # TO-DO: Entrena el modelo usando los índices itrain\n",
    "    \n",
    "    #-------------------------------------------------------------\n",
    "    model.fit(x_train[itrain], t_train[itrain], epochs=1) \n",
    "    \n",
    "    #-------------------------------------------------------------\n",
    "    # TO-DO: Evalúa el modelo usando los índices itest y calcula el accuracy\n",
    "    _, acc = model.evaluate(x_train[itest], t_train[itest])\n",
    "    #-------------------------------------------------------------\n",
    "    \n",
    "    # Acumulamos el accuracy:\n",
    "    mean_accuracy += acc\n",
    "  \n",
    "  return mean_accuracy/5.0"
   ]
  },
  {
   "cell_type": "markdown",
   "metadata": {
    "id": "gvHOGnkxVC6g"
   },
   "source": [
    "Función para ejecutar las pruebas con un hipermodelo:"
   ]
  },
  {
   "cell_type": "code",
   "execution_count": 47,
   "metadata": {
    "id": "C-JpcdrYHbkI"
   },
   "outputs": [],
   "source": [
    "def run(run_dir, hparams):\n",
    "  with tf.summary.create_file_writer(run_dir).as_default():\n",
    "    hp.hparams(hparams) \n",
    "    accuracy = train_test_model(hparams)\n",
    "    tf.summary.scalar('accuracy', accuracy, step=1)"
   ]
  },
  {
   "cell_type": "markdown",
   "metadata": {
    "id": "UiVehQe7ZalQ"
   },
   "source": [
    "Borrado de la carpeta de logs:"
   ]
  },
  {
   "cell_type": "code",
   "execution_count": null,
   "metadata": {
    "id": "KK6eLpj7ZZq0"
   },
   "outputs": [],
   "source": [
    "!rm -rf logs-proyecto/hparam"
   ]
  },
  {
   "cell_type": "markdown",
   "metadata": {
    "id": "V8VrqQG-VQzm"
   },
   "source": [
    "<font color=\"#CA3532\">[9.2]</font> Ejecuta los hipermodelos en bucle:"
   ]
  },
  {
   "cell_type": "code",
   "execution_count": null,
   "metadata": {
    "colab": {
     "base_uri": "https://localhost:8080/"
    },
    "executionInfo": {
     "elapsed": 87261,
     "status": "ok",
     "timestamp": 1641567376006,
     "user": {
      "displayName": "Luis Lago",
      "photoUrl": "https://lh3.googleusercontent.com/a/default-user=s64",
      "userId": "15983579116795900663"
     },
     "user_tz": -60
    },
    "id": "viYpu23CHbhl",
    "outputId": "e345fdfe-2cec-4c89-fdbe-e09ceb939f48"
   },
   "outputs": [],
   "source": [
    "session_num = 0\n",
    "\n",
    "#-------------------------------------------------------------\n",
    "# TO-DO: Crea el bucle que genera y evalúa los hipermodelos. A modo de \n",
    "# ejemplo se incluye un bucle para num_units\n",
    "\n",
    "    \n",
    "for num_units in [32, 64]:\n",
    "    for num_layers in [2,4]:\n",
    "        for learning_rate in [0.1, 0.01]:\n",
    "            for activation in ['sigmoid', 'relu']:\n",
    "                for optimizer in ['adam', 'sgd']:\n",
    "                    for _lambda in [0.001, 0.0001]:                  \n",
    "                          hparams = {\n",
    "                              'num_units': num_units,\n",
    "                              'num_layers': num_layers,\n",
    "                              'learning_rate': learning_rate,\n",
    "                              'activation': activation,\n",
    "                              'optimizer': optimizer,\n",
    "                              'lambda': _lambda\n",
    "                          }\n",
    "                          run_name = \"run-%d\" % session_num\n",
    "                          print('--- Test: %s' % run_name)\n",
    "                          print(hparams)\n",
    "                          run('logs-proyecto/hparam/' + run_name, hparams)\n",
    "                          session_num += 1\n",
    "#-------------------------------------------------------------\n"
   ]
  },
  {
   "cell_type": "markdown",
   "metadata": {
    "id": "XR1kmm8H0_0U"
   },
   "source": [
    "Usa [tensorboard dev](https://tensorboard.dev/) para subir los logs generados a la nube (tendrás que autorizar a google para que publique los datos en tu cuenta). "
   ]
  },
  {
   "cell_type": "code",
   "execution_count": null,
   "metadata": {
    "id": "V2kgWVzg0zai"
   },
   "outputs": [],
   "source": [
    "!tensorboard dev upload --logdir logs-proyecto/hparam --name \"MIAX-7 Ejercicio 9\" \\\n",
    "    --description \"Comparación de hiperparámetros\" --one_shot"
   ]
  },
  {
   "cell_type": "markdown",
   "metadata": {
    "id": "YkUNBfHH3YRC"
   },
   "source": [
    "Tras ejecutar la celda anterior obtendrás un enlace para acceder al tensorboard con los resultados de tus pruebas. Copia el enlace a continuación para que pueda revisar las pruebas que has realizado."
   ]
  },
  {
   "cell_type": "code",
   "execution_count": 48,
   "metadata": {
    "id": "Pb_k-n2i3x7S"
   },
   "outputs": [
    {
     "name": "stdout",
     "output_type": "stream",
     "text": [
      "Enlace TensorBoard:\n",
      "https://tensorboard.dev/experiment/DBlnTp5mQq2X88dr3KIl6g/\n"
     ]
    }
   ],
   "source": [
    "#-------------------------------------------------------------\n",
    "# TO-DO: Copia el enlace a tu TensorBoard, por ejemplo\n",
    "print('''Enlace TensorBoard:\n",
    "https://tensorboard.dev/experiment/DBlnTp5mQq2X88dr3KIl6g/''')\n",
    "#-------------------------------------------------------------"
   ]
  },
  {
   "cell_type": "markdown",
   "metadata": {
    "id": "cXWMlgklaF_Y"
   },
   "source": [
    "<font color=\"#CA3532\">[9.3]</font> Selecciona los mejores hiperparámetros, vuelve a entrenar el modelo con todos los datos de entrenamiento y aplícalo al conjunto de test."
   ]
  },
  {
   "cell_type": "code",
   "execution_count": 49,
   "metadata": {
    "id": "uVTopZxAZ_zB"
   },
   "outputs": [
    {
     "name": "stdout",
     "output_type": "stream",
     "text": [
      "12710/12710 [==============================] - 9s 663us/step - loss: 0.5777 - acc: 0.7682\n"
     ]
    }
   ],
   "source": [
    "#-------------------------------------------------------------\n",
    "# TO-DO: Selecciona los mejores hiperparámetros, reentrena el modelo con todos\n",
    "# los datos y aplícalo al conjunto de test\n",
    "hparams = {\n",
    "          'num_units': 64,\n",
    "          'num_layers': 4,\n",
    "          'learning_rate': 0.1,\n",
    "          'activation': 'relu',\n",
    "          'optimizer': 'sgd',\n",
    "          'lambda': 0.0001\n",
    "      }\n",
    "\n",
    "hp.hparams(hparams) \n",
    "\n",
    "def model_training_best_params(hparams):\n",
    "    \n",
    "        model = keras.Sequential()\n",
    "        #-------------------------------------------------------------\n",
    "        # TO-DO: Completa la definición del modelo añadiendo las capas necesarias\n",
    "\n",
    "        model.add(keras.layers.InputLayer(input_shape =(54)))\n",
    "\n",
    "        for i in range(hparams['num_layers']):\n",
    "            model.add(keras.layers.Dense(units = hparams['num_units'], activation = hparams['activation'], kernel_regularizer=keras.regularizers.l2(hparams['lambda'])))\n",
    "\n",
    "        model.add(keras.layers.Dense(7, activation=\"softmax\"))\n",
    "\n",
    "        #-------------------------------------------------------------\n",
    "\n",
    "        #-------------------------------------------------------------\n",
    "        # TO-DO: Compila el modelo\n",
    "\n",
    "        #-------------------------------------------------------------\n",
    "        if hparams['optimizer'] == 'adam':\n",
    "            model.compile(optimizer=keras.optimizers.Adam(learning_rate=hparams['learning_rate']), \n",
    "                    loss='sparse_categorical_crossentropy',\n",
    "                    metrics=['acc'])   \n",
    "        if hparams['optimizer'] == 'sgd':  \n",
    "            model.compile(optimizer=keras.optimizers.SGD(learning_rate=hparams['learning_rate']), \n",
    "                        loss='sparse_categorical_crossentropy',\n",
    "                        metrics=['acc'])   \n",
    "        #-------------------------------------------------------------\n",
    "        # TO-DO: Entrena el modelo usando los índices itrain\n",
    "\n",
    "        #-------------------------------------------------------------\n",
    "        model.fit(x_train, t_train, epochs=1) \n",
    "    #-------------------------------------------------------------\n",
    "        return model\n",
    "model = model_training_best_params(hparams)"
   ]
  },
  {
   "cell_type": "code",
   "execution_count": 50,
   "metadata": {},
   "outputs": [
    {
     "name": "stdout",
     "output_type": "stream",
     "text": [
      "5447/5447 [==============================] - 3s 551us/step - loss: 0.5184 - acc: 0.7956\n"
     ]
    },
    {
     "data": {
      "text/plain": [
       "[0.5183706879615784, 0.7955812811851501]"
      ]
     },
     "execution_count": 50,
     "metadata": {},
     "output_type": "execute_result"
    }
   ],
   "source": [
    "#Aplicamos al conjunto de test\n",
    "model.evaluate(x_test, t_test)"
   ]
  },
  {
   "cell_type": "markdown",
   "metadata": {
    "id": "KSxX2bU_Poo_"
   },
   "source": [
    "### <font color=\"#CA3532\">Parte IV: Redes neuronales aplicadas a un problema real</font>\n",
    "\n",
    "El objetivo de esta parte de la práctica es obtener el mejor modelo posible para el problema [Tabular Playground Series - Jan 2022](https://www.kaggle.com/c/tabular-playground-series-jan-2022/overview)."
   ]
  },
  {
   "cell_type": "markdown",
   "metadata": {
    "id": "MFKxbrt7djOj"
   },
   "source": [
    "#### <font color=\"#CA3532\">Ejercicio 10</font> [1 punto]\n",
    "\n",
    "Entrena una red neuronal para resolver el problema [Tabular Playground Series - Jan 2022](https://www.kaggle.com/c/tabular-playground-series-jan-2022/overview) de [kaggle](https://www.kaggle.com/). El modelo se debe entrenar y validar usando sólo los datos del fichero ``train.csv``, y posteriormente se debe aplicar a los datos del conjunto de test, ``test.csv``. Se valorarán, entre otras cosas, los siguientes puntos:\n",
    "\n",
    "- El análisis inicial del problema y el tratamiento inicial de los datos. \n",
    "\n",
    "- La correcta selección de los hiperparámetros del modelo y la validación de los resultados.\n",
    "\n",
    "- Los resultados obtenidos sobre el conjunto de test, evaluados a través de la web de [kaggle](https://www.kaggle.com/), y el ranking obtenido en el [public leaderboard](https://www.kaggle.com/c/tabular-playground-series-jan-2022/leaderboard).\n",
    "\n",
    "- Las conclusiones finales."
   ]
  },
  {
   "cell_type": "markdown",
   "metadata": {
    "id": "6fJhsW_09Q1n"
   },
   "source": [
    "Como ayuda, se facilitan a continuación los ficheros de datos y se muestra cómo cargarlos como [DataFrames](https://pandas.pydata.org/docs/reference/api/pandas.DataFrame.html) de [pandas](https://pandas.pydata.org/)."
   ]
  },
  {
   "cell_type": "code",
   "execution_count": 33,
   "metadata": {
    "id": "IY3cP5eH8CJq"
   },
   "outputs": [],
   "source": [
    "train = pd.read_csv('MIAX7/data/kaggle/train.csv').set_index(\"row_id\")\n",
    "test = pd.read_csv('MIAX7/data/kaggle/test.csv').set_index(\"row_id\")\n",
    "sample_submission = pd.read_csv(\"MIAX7/data/kaggle/sample_submission.csv\")"
   ]
  },
  {
   "cell_type": "markdown",
   "metadata": {},
   "source": [
    "- En primer lugar importo las librerías que voy a necesitar"
   ]
  },
  {
   "cell_type": "code",
   "execution_count": 3,
   "metadata": {},
   "outputs": [],
   "source": [
    "from sklearn import preprocessing\n",
    "import keras_tuner as kt"
   ]
  },
  {
   "cell_type": "markdown",
   "metadata": {},
   "source": [
    "- Realizo un análisis exploratorio de los datos:"
   ]
  },
  {
   "cell_type": "code",
   "execution_count": 34,
   "metadata": {
    "colab": {
     "base_uri": "https://localhost:8080/",
     "height": 454
    },
    "executionInfo": {
     "elapsed": 24,
     "status": "ok",
     "timestamp": 1641567376010,
     "user": {
      "displayName": "Luis Lago",
      "photoUrl": "https://lh3.googleusercontent.com/a/default-user=s64",
      "userId": "15983579116795900663"
     },
     "user_tz": -60
    },
    "id": "kC1H341q-CMm",
    "outputId": "76ef3718-8332-4cf6-e566-b809c64964be"
   },
   "outputs": [
    {
     "name": "stdout",
     "output_type": "stream",
     "text": [
      "<class 'pandas.core.frame.DataFrame'>\n",
      "Int64Index: 26298 entries, 0 to 26297\n",
      "Data columns (total 5 columns):\n",
      " #   Column    Non-Null Count  Dtype \n",
      "---  ------    --------------  ----- \n",
      " 0   date      26298 non-null  object\n",
      " 1   country   26298 non-null  object\n",
      " 2   store     26298 non-null  object\n",
      " 3   product   26298 non-null  object\n",
      " 4   num_sold  26298 non-null  int64 \n",
      "dtypes: int64(1), object(4)\n",
      "memory usage: 1.2+ MB\n"
     ]
    }
   ],
   "source": [
    "train.info() #Analizo la tipología de datos que voy a tratar"
   ]
  },
  {
   "cell_type": "code",
   "execution_count": 35,
   "metadata": {},
   "outputs": [
    {
     "data": {
      "image/png": "[encoded data removed]",
      "text/plain": [
       "<Figure size 432x288 with 1 Axes>"
      ]
     },
     "metadata": {
      "needs_background": "light"
     },
     "output_type": "display_data"
    }
   ],
   "source": [
    "plt.plot(train.date, train.num_sold)\n",
    "plt.show()"
   ]
  },
  {
   "cell_type": "markdown",
   "metadata": {},
   "source": [
    "- Se puede observar que existe estacionalidad en los datos, lo que supone que en determinadas fechas a lo largo de los años se produce un mayor número de ventas. Mi objetivo es que la red neuronal sea capaz de detectar en qué momentos se producen esos picos de ventas para intentar predecirlas. "
   ]
  },
  {
   "cell_type": "code",
   "execution_count": 36,
   "metadata": {},
   "outputs": [
    {
     "data": {
      "text/html": [
       "<div>\n",
       "<style scoped>\n",
       "    .dataframe tbody tr th:only-of-type {\n",
       "        vertical-align: middle;\n",
       "    }\n",
       "\n",
       "    .dataframe tbody tr th {\n",
       "        vertical-align: top;\n",
       "    }\n",
       "\n",
       "    .dataframe thead th {\n",
       "        text-align: right;\n",
       "    }\n",
       "</style>\n",
       "<table border=\"1\" class=\"dataframe\">\n",
       "  <thead>\n",
       "    <tr style=\"text-align: right;\">\n",
       "      <th></th>\n",
       "      <th>date</th>\n",
       "      <th>country</th>\n",
       "      <th>store</th>\n",
       "      <th>product</th>\n",
       "      <th>num_sold</th>\n",
       "    </tr>\n",
       "    <tr>\n",
       "      <th>row_id</th>\n",
       "      <th></th>\n",
       "      <th></th>\n",
       "      <th></th>\n",
       "      <th></th>\n",
       "      <th></th>\n",
       "    </tr>\n",
       "  </thead>\n",
       "  <tbody>\n",
       "    <tr>\n",
       "      <th>0</th>\n",
       "      <td>2015-01-01</td>\n",
       "      <td>Finland</td>\n",
       "      <td>KaggleMart</td>\n",
       "      <td>Kaggle Mug</td>\n",
       "      <td>329</td>\n",
       "    </tr>\n",
       "    <tr>\n",
       "      <th>1</th>\n",
       "      <td>2015-01-01</td>\n",
       "      <td>Finland</td>\n",
       "      <td>KaggleMart</td>\n",
       "      <td>Kaggle Hat</td>\n",
       "      <td>520</td>\n",
       "    </tr>\n",
       "    <tr>\n",
       "      <th>2</th>\n",
       "      <td>2015-01-01</td>\n",
       "      <td>Finland</td>\n",
       "      <td>KaggleMart</td>\n",
       "      <td>Kaggle Sticker</td>\n",
       "      <td>146</td>\n",
       "    </tr>\n",
       "    <tr>\n",
       "      <th>3</th>\n",
       "      <td>2015-01-01</td>\n",
       "      <td>Finland</td>\n",
       "      <td>KaggleRama</td>\n",
       "      <td>Kaggle Mug</td>\n",
       "      <td>572</td>\n",
       "    </tr>\n",
       "    <tr>\n",
       "      <th>4</th>\n",
       "      <td>2015-01-01</td>\n",
       "      <td>Finland</td>\n",
       "      <td>KaggleRama</td>\n",
       "      <td>Kaggle Hat</td>\n",
       "      <td>911</td>\n",
       "    </tr>\n",
       "  </tbody>\n",
       "</table>\n",
       "</div>"
      ],
      "text/plain": [
       "              date  country       store         product  num_sold\n",
       "row_id                                                           \n",
       "0       2015-01-01  Finland  KaggleMart      Kaggle Mug       329\n",
       "1       2015-01-01  Finland  KaggleMart      Kaggle Hat       520\n",
       "2       2015-01-01  Finland  KaggleMart  Kaggle Sticker       146\n",
       "3       2015-01-01  Finland  KaggleRama      Kaggle Mug       572\n",
       "4       2015-01-01  Finland  KaggleRama      Kaggle Hat       911"
      ]
     },
     "execution_count": 36,
     "metadata": {},
     "output_type": "execute_result"
    }
   ],
   "source": [
    "train.head()"
   ]
  },
  {
   "cell_type": "markdown",
   "metadata": {},
   "source": [
    "En cuanto a los datos que nos proporcionan, comentar que nos dan una columna de fechas en formato string, el país, las tiendas, los productos, y el número de productos vendidos. Viendo estos datos, y teniendo en cuenta la estacionalidad detectada anteriormente, parece interesante centrarse en las fechas para generar nuestras características. Para ello vamos a desarrollar una función que se va a encargar de genererar nuestras características. "
   ]
  },
  {
   "cell_type": "markdown",
   "metadata": {},
   "source": [
    "La función *feature_engineering* se va a encargar de generar nuestras características:\n",
    "\n",
    "- En primer lugar, vamos a convertir la columna date (formato string) a un vector de fechas en formato datetime de pandas, lo cual nos va a permitir desengranar las fechas usando pandas datetime (dt). Este método permite detectar en qué mes, año, día, o semana está cada una de las fechas. Por ello, vamos a generarnos un dataframe de características en el que vamos a tener como columnas: El año en el que estamos, el mes, la semana, el día del mes, el día de la semana, si estamos en fin de semana o no, el día en términos anuales, y el trimestre en el que nos encontramos. \n",
    "\n",
    "Considero que éstas características deberían ser suficientes para que nuestra red neuronal pueda detectar patrones estacionales. \n",
    "\n",
    "- En segundo lugar, vamos a convertir las columnas de país, tienda, producto, y año en variables dummy; ya que de poco le va a servir a la red tener unas variables string que definan un país. Creo que es mejor convertirlo a variables númericas. Para conseguir el resultado deseado, vamos a utilizar la funcion preprocessing de sklearn y su método LabelEncoder(). \n",
    "\n",
    "La idea es al final obtener un dataframe con todas las variables númericas. Además, esta misma función nos devuelve un dataframe con las features y otro dataframe con el target (productos vendidos).\n"
   ]
  },
  {
   "cell_type": "code",
   "execution_count": 37,
   "metadata": {},
   "outputs": [],
   "source": [
    "def feature_engineering(df, fase):\n",
    "    \n",
    "    #Convierto los date-strings en datetime\n",
    "    dates = pd.to_datetime(df.date)\n",
    "    \n",
    "    #Aprovechamos las funciones dt de pandas para desgranar las fechas\n",
    "    df['año'] = dates.dt.year.astype(float)\n",
    "    df['mes'] = dates.dt.month.astype(float)\n",
    "    df['semana'] = dates.dt.isocalendar().week.astype(float)\n",
    "    df['dia'] = dates.dt.day.astype(float)\n",
    "    df['dia_semana'] = dates.dt.weekday.astype(float)\n",
    "    df['fin_de_semana'] = (dates.dt.weekday>4).astype(float)\n",
    "    df['dia_anual'] = dates.dt.dayofyear.astype(float)\n",
    "    df['trimestre'] = dates.dt.quarter.astype(float)\n",
    "    \n",
    "    \n",
    "    #Preprocesamos los datos string en variables dummy\n",
    "    encoder = preprocessing.LabelEncoder()\n",
    "    for column in ['country', 'store', 'product', 'año']:\n",
    "        df[column] = encoder.fit_transform(df[column]).astype(float)\n",
    "    \n",
    "    #Elimino la columna date-string y el target\n",
    "    if fase == 'train':\n",
    "        target = df['num_sold']\n",
    "        df = df.drop(['date', 'num_sold'], axis = 1)\n",
    "        return df, target\n",
    "    if fase == 'test':\n",
    "        df = df.drop(['date'], axis = 1)\n",
    "        return df\n",
    "    "
   ]
  },
  {
   "cell_type": "code",
   "execution_count": 39,
   "metadata": {},
   "outputs": [],
   "source": [
    "features, target = feature_engineering(train, 'train')"
   ]
  },
  {
   "cell_type": "markdown",
   "metadata": {},
   "source": [
    "- Vemos el resultado obtenido:"
   ]
  },
  {
   "cell_type": "code",
   "execution_count": 40,
   "metadata": {},
   "outputs": [
    {
     "data": {
      "text/html": [
       "<div>\n",
       "<style scoped>\n",
       "    .dataframe tbody tr th:only-of-type {\n",
       "        vertical-align: middle;\n",
       "    }\n",
       "\n",
       "    .dataframe tbody tr th {\n",
       "        vertical-align: top;\n",
       "    }\n",
       "\n",
       "    .dataframe thead th {\n",
       "        text-align: right;\n",
       "    }\n",
       "</style>\n",
       "<table border=\"1\" class=\"dataframe\">\n",
       "  <thead>\n",
       "    <tr style=\"text-align: right;\">\n",
       "      <th></th>\n",
       "      <th>country</th>\n",
       "      <th>store</th>\n",
       "      <th>product</th>\n",
       "      <th>año</th>\n",
       "      <th>mes</th>\n",
       "      <th>semana</th>\n",
       "      <th>dia</th>\n",
       "      <th>dia_semana</th>\n",
       "      <th>fin_de_semana</th>\n",
       "      <th>dia_anual</th>\n",
       "      <th>trimestre</th>\n",
       "    </tr>\n",
       "    <tr>\n",
       "      <th>row_id</th>\n",
       "      <th></th>\n",
       "      <th></th>\n",
       "      <th></th>\n",
       "      <th></th>\n",
       "      <th></th>\n",
       "      <th></th>\n",
       "      <th></th>\n",
       "      <th></th>\n",
       "      <th></th>\n",
       "      <th></th>\n",
       "      <th></th>\n",
       "    </tr>\n",
       "  </thead>\n",
       "  <tbody>\n",
       "    <tr>\n",
       "      <th>0</th>\n",
       "      <td>0.0</td>\n",
       "      <td>0.0</td>\n",
       "      <td>1.0</td>\n",
       "      <td>0.0</td>\n",
       "      <td>1.0</td>\n",
       "      <td>1.0</td>\n",
       "      <td>1.0</td>\n",
       "      <td>3.0</td>\n",
       "      <td>0.0</td>\n",
       "      <td>1.0</td>\n",
       "      <td>1.0</td>\n",
       "    </tr>\n",
       "    <tr>\n",
       "      <th>1</th>\n",
       "      <td>0.0</td>\n",
       "      <td>0.0</td>\n",
       "      <td>0.0</td>\n",
       "      <td>0.0</td>\n",
       "      <td>1.0</td>\n",
       "      <td>1.0</td>\n",
       "      <td>1.0</td>\n",
       "      <td>3.0</td>\n",
       "      <td>0.0</td>\n",
       "      <td>1.0</td>\n",
       "      <td>1.0</td>\n",
       "    </tr>\n",
       "    <tr>\n",
       "      <th>2</th>\n",
       "      <td>0.0</td>\n",
       "      <td>0.0</td>\n",
       "      <td>2.0</td>\n",
       "      <td>0.0</td>\n",
       "      <td>1.0</td>\n",
       "      <td>1.0</td>\n",
       "      <td>1.0</td>\n",
       "      <td>3.0</td>\n",
       "      <td>0.0</td>\n",
       "      <td>1.0</td>\n",
       "      <td>1.0</td>\n",
       "    </tr>\n",
       "    <tr>\n",
       "      <th>3</th>\n",
       "      <td>0.0</td>\n",
       "      <td>1.0</td>\n",
       "      <td>1.0</td>\n",
       "      <td>0.0</td>\n",
       "      <td>1.0</td>\n",
       "      <td>1.0</td>\n",
       "      <td>1.0</td>\n",
       "      <td>3.0</td>\n",
       "      <td>0.0</td>\n",
       "      <td>1.0</td>\n",
       "      <td>1.0</td>\n",
       "    </tr>\n",
       "    <tr>\n",
       "      <th>4</th>\n",
       "      <td>0.0</td>\n",
       "      <td>1.0</td>\n",
       "      <td>0.0</td>\n",
       "      <td>0.0</td>\n",
       "      <td>1.0</td>\n",
       "      <td>1.0</td>\n",
       "      <td>1.0</td>\n",
       "      <td>3.0</td>\n",
       "      <td>0.0</td>\n",
       "      <td>1.0</td>\n",
       "      <td>1.0</td>\n",
       "    </tr>\n",
       "  </tbody>\n",
       "</table>\n",
       "</div>"
      ],
      "text/plain": [
       "        country  store  product  año  mes  semana  dia  dia_semana  \\\n",
       "row_id                                                               \n",
       "0           0.0    0.0      1.0  0.0  1.0     1.0  1.0         3.0   \n",
       "1           0.0    0.0      0.0  0.0  1.0     1.0  1.0         3.0   \n",
       "2           0.0    0.0      2.0  0.0  1.0     1.0  1.0         3.0   \n",
       "3           0.0    1.0      1.0  0.0  1.0     1.0  1.0         3.0   \n",
       "4           0.0    1.0      0.0  0.0  1.0     1.0  1.0         3.0   \n",
       "\n",
       "        fin_de_semana  dia_anual  trimestre  \n",
       "row_id                                       \n",
       "0                 0.0        1.0        1.0  \n",
       "1                 0.0        1.0        1.0  \n",
       "2                 0.0        1.0        1.0  \n",
       "3                 0.0        1.0        1.0  \n",
       "4                 0.0        1.0        1.0  "
      ]
     },
     "execution_count": 40,
     "metadata": {},
     "output_type": "execute_result"
    }
   ],
   "source": [
    "features.head()"
   ]
  },
  {
   "cell_type": "markdown",
   "metadata": {},
   "source": [
    "- Separo mis datos en train y test:"
   ]
  },
  {
   "cell_type": "code",
   "execution_count": 8,
   "metadata": {},
   "outputs": [],
   "source": [
    "x_train, x_test, y_train, y_test = train_test_split(features, target, test_size = 0.3)"
   ]
  },
  {
   "cell_type": "markdown",
   "metadata": {},
   "source": [
    "- Leyendo la descripción del problema en Kaggle, me he dado cuenta de que nuestros resultados se van a analizar midiendo las diferencias entre nuestros resultados y los verdaderos usando la función de coste SMAPE. Como no se encuentra definida dentro de keras, he buscado por internet la función para calcularla:"
   ]
  },
  {
   "cell_type": "code",
   "execution_count": 43,
   "metadata": {},
   "outputs": [
    {
     "data": {
      "image/jpeg": "[encoded data removed]",
      "text/plain": [
       "<IPython.core.display.Image object>"
      ]
     },
     "execution_count": 43,
     "metadata": {},
     "output_type": "execute_result"
    }
   ],
   "source": [
    "from IPython.display import Image\n",
    "Image(filename='funcion_coste_kaggle.jpeg') "
   ]
  },
  {
   "cell_type": "code",
   "execution_count": 44,
   "metadata": {},
   "outputs": [],
   "source": [
    "def smape(y_true, y_pred):\n",
    "   y_true = tf.cast(y_true, tf.float32)\n",
    "   y_pred = tf.cast(y_pred, tf.float32)\n",
    "   num = tf.math.abs(tf.math.subtract(y_true, y_pred))\n",
    "   denom = tf.math.add(tf.math.abs(y_true), tf.math.abs(y_pred))\n",
    "   denom = tf.math.divide(denom,200.0)\n",
    "\n",
    "   val = tf.math.divide(num,denom)\n",
    "   val = tf.where(denom == 0.0, 0.0, val)\n",
    "        \n",
    "   return tf.reduce_mean(val)"
   ]
  },
  {
   "cell_type": "markdown",
   "metadata": {},
   "source": [
    "- El modelo que vamos a generar va a ser una red neuronal densa que va a tener como hiperparámetros a optimizar: Learning rate, lambda, unidades por capa, funciones de activación, optimizadores, número de capas, y dropout. Además, para cada capa vamos a instertar la inicialización de xavier, batch normalization, y dropout (optimizable). "
   ]
  },
  {
   "cell_type": "code",
   "execution_count": 9,
   "metadata": {
    "tags": []
   },
   "outputs": [],
   "source": [
    "def model_builder(hp):\n",
    "  \n",
    "    hp_learning_rate = hp.Choice('learning_rate', values = [0.1, 0.01, 0.001, 0.0001]) #Learning rate\n",
    "    hp_lambda = hp.Choice('lambda', values = [0.01, 0.001, 0.0001]) #Regularización\n",
    "    hp_units = hp.Int('units', min_value = 32, max_value = 500, step = 32) #Numero neuronas\n",
    "    hp_act = hp.Choice('act', values = ['sigmoid', 'relu']) #Función de activación\n",
    "    hp_opt = hp.Choice('optimizer', values = ['adam', 'sgd']) #Optimizador\n",
    "    hp_num_layers = hp.Int('layers', min_value = 2, max_value = 10) #Numero de capas\n",
    "    hp_dropout = hp.Choice('dropout', values = [0.2, 0.3, 0.4, 0.5]) #Probabilidad dropout\n",
    "    \n",
    "    #-------------------------------------------------------------\n",
    "    \n",
    "    model = keras.Sequential()\n",
    "    \n",
    "    model = keras.Sequential()\n",
    "    model.add(keras.layers.InputLayer(input_shape =(11)))\n",
    "   \n",
    "    for i in range(hp_num_layers):\n",
    "        model.add(keras.layers.Dense(units = hp_units, kernel_initializer=keras.initializers.glorot_normal(),\n",
    "                                     kernel_regularizer=keras.regularizers.l2(hp_lambda)))\n",
    "        model.add(keras.layers.BatchNormalization())\n",
    "        model.add(keras.layers.Activation(hp_act))\n",
    "        model.add(keras.layers.Dropout(rate= hp_dropout))\n",
    "        \n",
    "        \n",
    "    model.add(keras.layers.Dense(1, kernel_initializer=keras.initializers.glorot_normal(),\n",
    "                                     kernel_regularizer=keras.regularizers.l2(hp_lambda), \n",
    "                                      activation=\"linear\"))\n",
    "\n",
    "   \n",
    "    if hp_opt == 'adam':\n",
    "        model.compile(optimizer=keras.optimizers.Adam(learning_rate=hp_learning_rate), \n",
    "                loss=smape)   \n",
    "    if hp_opt == 'sgd':  \n",
    "        model.compile(optimizer=keras.optimizers.SGD(learning_rate=hp_learning_rate), \n",
    "                    loss=smape)   \n",
    "  #-------------------------------------------------------------\n",
    "  \n",
    "    return model"
   ]
  },
  {
   "cell_type": "markdown",
   "metadata": {},
   "source": [
    "- Vamos a optimizar nuestro modelo utilizando keras tuner y el loss en validación como objetivo. "
   ]
  },
  {
   "cell_type": "code",
   "execution_count": 11,
   "metadata": {},
   "outputs": [],
   "source": [
    "tuner = kt.Hyperband(model_builder,\n",
    "                     objective = 'val_loss', \n",
    "                     max_epochs = 50,\n",
    "                     factor = 5,\n",
    "                    directory = 'd')  "
   ]
  },
  {
   "cell_type": "markdown",
   "metadata": {},
   "source": [
    "- Partimos nuestros datos de entrenamiento en train y validación. "
   ]
  },
  {
   "cell_type": "code",
   "execution_count": 12,
   "metadata": {},
   "outputs": [],
   "source": [
    "tr_data, val_data, tr_labels, val_lables = train_test_split(x_train, y_train, test_size=0.7)"
   ]
  },
  {
   "cell_type": "markdown",
   "metadata": {},
   "source": [
    "- Defino un early stop para la optimización de nuestros datos, ya que hemos puesto 50 épocas y en determinadas ocasiones no será necesario avanzar tanto. De este modo ganamos tiempo a la hora de entrenar nuestro modelo. "
   ]
  },
  {
   "cell_type": "code",
   "execution_count": 13,
   "metadata": {},
   "outputs": [],
   "source": [
    "stop_early = tf.keras.callbacks.EarlyStopping(monitor='val_loss', patience=5)"
   ]
  },
  {
   "cell_type": "code",
   "execution_count": 14,
   "metadata": {},
   "outputs": [
    {
     "name": "stdout",
     "output_type": "stream",
     "text": [
      "Trial 59 Complete [00h 00m 50s]\n",
      "val_loss: 83.7784423828125\n",
      "\n",
      "Best val_loss So Far: 24.606101989746094\n",
      "Total elapsed time: 00h 09m 29s\n",
      "INFO:tensorflow:Oracle triggered exit\n"
     ]
    }
   ],
   "source": [
    "tuner.search(tr_data, tr_labels,\n",
    "             epochs=50,\n",
    "             validation_data=(val_data, val_lables), \n",
    "            callbacks=[stop_early])"
   ]
  },
  {
   "cell_type": "markdown",
   "metadata": {},
   "source": [
    "- Obtenemos los mejores hiperparámetros:"
   ]
  },
  {
   "cell_type": "code",
   "execution_count": 15,
   "metadata": {},
   "outputs": [
    {
     "data": {
      "text/plain": [
       "{'learning_rate': 0.01,\n",
       " 'lambda': 0.0001,\n",
       " 'units': 480,\n",
       " 'act': 'relu',\n",
       " 'optimizer': 'adam',\n",
       " 'layers': 4,\n",
       " 'dropout': 0.2,\n",
       " 'tuner/epochs': 50,\n",
       " 'tuner/initial_epoch': 10,\n",
       " 'tuner/bracket': 1,\n",
       " 'tuner/round': 1,\n",
       " 'tuner/trial_id': 'f7159a042dc1de0178f641adedcf29ed'}"
      ]
     },
     "execution_count": 15,
     "metadata": {},
     "output_type": "execute_result"
    }
   ],
   "source": [
    "best_hps = tuner.get_best_hyperparameters()[0]\n",
    "best_hps.values"
   ]
  },
  {
   "cell_type": "markdown",
   "metadata": {},
   "source": [
    "- Reentrenamos nuestro modelo con todos los datos de entrenamiento. Una vez más utilizamos early stopping porque vamos a usar 100 épocas y es muy probable que con menos sean suficientes. "
   ]
  },
  {
   "cell_type": "code",
   "execution_count": 16,
   "metadata": {},
   "outputs": [
    {
     "name": "stdout",
     "output_type": "stream",
     "text": [
      "Epoch 1/100\n",
      "576/576 [==============================] - 4s 6ms/step - loss: 40.1023\n",
      "Epoch 2/100\n",
      "576/576 [==============================] - 3s 6ms/step - loss: 27.4784\n",
      "Epoch 3/100\n",
      "576/576 [==============================] - 3s 6ms/step - loss: 26.1008\n",
      "Epoch 4/100\n",
      "576/576 [==============================] - 3s 6ms/step - loss: 24.2595\n",
      "Epoch 5/100\n",
      "576/576 [==============================] - 3s 6ms/step - loss: 22.3279\n",
      "Epoch 6/100\n",
      "576/576 [==============================] - 3s 6ms/step - loss: 22.2419\n",
      "Epoch 7/100\n",
      "576/576 [==============================] - 3s 6ms/step - loss: 21.8547\n",
      "Epoch 8/100\n",
      "576/576 [==============================] - 3s 6ms/step - loss: 20.9697\n",
      "Epoch 9/100\n",
      "576/576 [==============================] - 3s 6ms/step - loss: 19.7969\n",
      "Epoch 10/100\n",
      "576/576 [==============================] - 3s 6ms/step - loss: 19.5569\n",
      "Epoch 11/100\n",
      "576/576 [==============================] - 3s 6ms/step - loss: 19.1834\n",
      "Epoch 12/100\n",
      "576/576 [==============================] - 3s 6ms/step - loss: 18.4338\n",
      "Epoch 13/100\n",
      "576/576 [==============================] - 3s 6ms/step - loss: 18.2700\n",
      "Epoch 14/100\n",
      "576/576 [==============================] - 3s 6ms/step - loss: 17.9389\n",
      "Epoch 15/100\n",
      "576/576 [==============================] - 4s 6ms/step - loss: 17.5730\n",
      "Epoch 16/100\n",
      "576/576 [==============================] - 3s 6ms/step - loss: 17.6586\n",
      "Epoch 17/100\n",
      "576/576 [==============================] - 3s 6ms/step - loss: 17.0883\n",
      "Epoch 18/100\n",
      "576/576 [==============================] - 3s 6ms/step - loss: 16.8930\n",
      "Epoch 19/100\n",
      "576/576 [==============================] - 3s 6ms/step - loss: 16.7354\n",
      "Epoch 20/100\n",
      "576/576 [==============================] - 3s 6ms/step - loss: 17.0125\n",
      "Epoch 21/100\n",
      "576/576 [==============================] - 3s 6ms/step - loss: 16.6186\n",
      "Epoch 22/100\n",
      "576/576 [==============================] - 3s 6ms/step - loss: 16.5817\n",
      "Epoch 23/100\n",
      "576/576 [==============================] - 3s 6ms/step - loss: 16.3962\n",
      "Epoch 24/100\n",
      "576/576 [==============================] - 3s 6ms/step - loss: 16.1264\n",
      "Epoch 25/100\n",
      "576/576 [==============================] - 3s 6ms/step - loss: 16.2352\n",
      "Epoch 26/100\n",
      "576/576 [==============================] - 3s 6ms/step - loss: 16.3511\n",
      "Epoch 27/100\n",
      "576/576 [==============================] - 3s 6ms/step - loss: 16.3388\n",
      "Epoch 28/100\n",
      "576/576 [==============================] - 3s 6ms/step - loss: 16.5178\n",
      "Epoch 29/100\n",
      "576/576 [==============================] - 4s 6ms/step - loss: 16.5181\n"
     ]
    }
   ],
   "source": [
    "model = tuner.hypermodel.build(best_hps)\n",
    "stop_early = tf.keras.callbacks.EarlyStopping(monitor='loss', patience=5)\n",
    "history = model.fit(x_train, y_train, epochs = 100, callbacks = [stop_early])"
   ]
  },
  {
   "cell_type": "markdown",
   "metadata": {},
   "source": [
    "- Probamos nuestro modelo con los datos de test generados a partir de nuestros datos de entrenamiento:"
   ]
  },
  {
   "cell_type": "code",
   "execution_count": 17,
   "metadata": {},
   "outputs": [],
   "source": [
    "y = model.predict(x_test)"
   ]
  },
  {
   "cell_type": "code",
   "execution_count": 18,
   "metadata": {},
   "outputs": [
    {
     "data": {
      "image/png": "[encoded data removed]",
      "text/plain": [
       "<Figure size 720x288 with 2 Axes>"
      ]
     },
     "metadata": {
      "needs_background": "light"
     },
     "output_type": "display_data"
    }
   ],
   "source": [
    "plt.figure(figsize=(10, 4))\n",
    "\n",
    "plt.subplot(1, 2, 1)\n",
    "plt.plot(history.history['loss'])\n",
    "plt.grid(True)\n",
    "plt.xlabel('epoch')\n",
    "plt.ylabel('SMAPE')\n",
    "\n",
    "\n",
    "plt.subplot(1,2,2)\n",
    "plt.plot(y_test, y, 'o')\n",
    "plt.plot([y_test.min(), y_test.max()], [y_test.min(), y_test.max()], 'r-')\n",
    "plt.grid(True)\n",
    "plt.xlabel('real')\n",
    "plt.ylabel('predicted')\n",
    "plt.show()"
   ]
  },
  {
   "cell_type": "markdown",
   "metadata": {},
   "source": [
    "- Viendo los resultados obtenidos, nos hemos acercado a los datos reales pero tenemos mucho margen de mejora. Al final del código expondré mi razonamiento de cómo se podría intentar mejorar este modelo.\n",
    "\n",
    "Generamos las características para nuestros datos de test y realizamos las predicciones. Posteriormente adaptamos los resultados al formato que se nos exige:"
   ]
  },
  {
   "cell_type": "code",
   "execution_count": 20,
   "metadata": {},
   "outputs": [],
   "source": [
    "x = feature_engineering(test, 'test')"
   ]
  },
  {
   "cell_type": "code",
   "execution_count": 21,
   "metadata": {},
   "outputs": [],
   "source": [
    "results = model.predict(x)"
   ]
  },
  {
   "cell_type": "code",
   "execution_count": 22,
   "metadata": {},
   "outputs": [],
   "source": [
    "result_format = pd.DataFrame()\n",
    "result_format['row_id'] = x.index.values\n",
    "result_format['num_sold'] = results[:,0]\n",
    "result_format.to_csv('results.csv',index=False)"
   ]
  },
  {
   "cell_type": "code",
   "execution_count": 50,
   "metadata": {},
   "outputs": [
    {
     "data": {
      "text/html": [
       "<div>\n",
       "<style scoped>\n",
       "    .dataframe tbody tr th:only-of-type {\n",
       "        vertical-align: middle;\n",
       "    }\n",
       "\n",
       "    .dataframe tbody tr th {\n",
       "        vertical-align: top;\n",
       "    }\n",
       "\n",
       "    .dataframe thead th {\n",
       "        text-align: right;\n",
       "    }\n",
       "</style>\n",
       "<table border=\"1\" class=\"dataframe\">\n",
       "  <thead>\n",
       "    <tr style=\"text-align: right;\">\n",
       "      <th></th>\n",
       "      <th>row_id</th>\n",
       "      <th>num_sold</th>\n",
       "    </tr>\n",
       "  </thead>\n",
       "  <tbody>\n",
       "    <tr>\n",
       "      <th>0</th>\n",
       "      <td>26298</td>\n",
       "      <td>183.407730</td>\n",
       "    </tr>\n",
       "    <tr>\n",
       "      <th>1</th>\n",
       "      <td>26299</td>\n",
       "      <td>358.217712</td>\n",
       "    </tr>\n",
       "    <tr>\n",
       "      <th>2</th>\n",
       "      <td>26300</td>\n",
       "      <td>95.391251</td>\n",
       "    </tr>\n",
       "    <tr>\n",
       "      <th>3</th>\n",
       "      <td>26301</td>\n",
       "      <td>349.695312</td>\n",
       "    </tr>\n",
       "    <tr>\n",
       "      <th>4</th>\n",
       "      <td>26302</td>\n",
       "      <td>624.716064</td>\n",
       "    </tr>\n",
       "  </tbody>\n",
       "</table>\n",
       "</div>"
      ],
      "text/plain": [
       "   row_id    num_sold\n",
       "0   26298  183.407730\n",
       "1   26299  358.217712\n",
       "2   26300   95.391251\n",
       "3   26301  349.695312\n",
       "4   26302  624.716064"
      ]
     },
     "execution_count": 50,
     "metadata": {},
     "output_type": "execute_result"
    }
   ],
   "source": [
    "result_format.head()"
   ]
  },
  {
   "cell_type": "markdown",
   "metadata": {},
   "source": [
    "- Mis resultados en kaggle basados en dos intentos; siendo el primero el mejor de ellos. "
   ]
  },
  {
   "cell_type": "code",
   "execution_count": 31,
   "metadata": {},
   "outputs": [
    {
     "data": {
      "image/jpeg": "[encoded data removed]",
      "text/plain": [
       "<IPython.core.display.Image object>"
      ]
     },
     "execution_count": 31,
     "metadata": {},
     "output_type": "execute_result"
    }
   ],
   "source": [
    "Image(filename='Captura.jpg') "
   ]
  },
  {
   "cell_type": "markdown",
   "metadata": {},
   "source": [
    "- Como conclusión al ejercicio realizado, me gustaría remarcar aglunas observaciones que creo que se deberían tener en cuenta:\n",
    "\n",
    "1) Si analizamos los resultados obtenidos, vemos como el accuracy obtenido es realmente bajo o inexistente, ya que es imposible poder predecir el número de ventas en el futuro. En cualquier caso, se debería atacar el problema pensando en una estimación de las ventas. Además, creo que con los datos proporcionados es imposible ni siquiera llegar a hacer una estimación. Al final, la red lo que acaba aprendiendo es que existe una estacionalidad en las ventas, e intentará replicar las bajadas y las subidas en base a los días del año en que se encuentre. No obstante, para poder realizar una aproximación a las ventas, sería necesario trabajar con datos adicionales como las finanzas de la empresa e indicadores macroeconómicos de cada país. \n",
    "\n",
    "2) Respecto al tratamiento de los datos como una serie temporal, asumo que realizar el train_split de sklearn no es la opción más deseable. Al final, train_split te devuelve el % de datos para entrenamiento pero generados aleatoriamente; de modo que se estaría violando la secuencialidad de las series temporales. Creo que sería más interesante atacar el problema usando una partición por grupos con un time_step para que la red tenga en cuenta datos anteriores secuenciales a la hora de predecir la etiqueta final. "
   ]
  }
 ],
 "metadata": {
  "colab": {
   "authorship_tag": "ABX9TyPYaZp7wNZF5YK1+XWSCOfk",
   "collapsed_sections": [],
   "name": "practica_MIAX7_diciembre_2021.ipynb",
   "provenance": []
  },
  "kernelspec": {
   "display_name": "Python 3",
   "language": "python",
   "name": "python3"
  },
  "language_info": {
   "codemirror_mode": {
    "name": "ipython",
    "version": 3
   },
   "file_extension": ".py",
   "mimetype": "text/x-python",
   "name": "python",
   "nbconvert_exporter": "python",
   "pygments_lexer": "ipython3",
   "version": "3.8.8"
  }
 },
 "nbformat": 4,
 "nbformat_minor": 4
}
