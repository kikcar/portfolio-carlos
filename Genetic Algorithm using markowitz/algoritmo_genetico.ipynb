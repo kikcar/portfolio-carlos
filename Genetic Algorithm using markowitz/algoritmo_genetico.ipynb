{
 "cells": [
  {
   "cell_type": "markdown",
   "id": "3c10ebd2-5a95-4674-80e6-72fc342b86ac",
   "metadata": {},
   "source": [
    "## **ALGORITMO GENÉTICO - CARLOS MERCADAL**"
   ]
  },
  {
   "cell_type": "markdown",
   "id": "598c9e48-347b-49d4-aa2a-56f8dbf04e43",
   "metadata": {},
   "source": [
    "El objetivo del algoritmo es obtener la cartera óptima para los 70.000 fondos de inversión disponibles. Para ello vamos a utilizar el set de datos ya limpios y homogenizados que utilizamos para el algoritmo de los monos."
   ]
  },
  {
   "cell_type": "markdown",
   "id": "474bbc2a-7765-43c6-b266-dac78c8af72d",
   "metadata": {},
   "source": [
    "**1. Los inversores (cromosomas) deben poder generar carteras con un número variable de activos. Estableceremos el mínimo en 1 activo y 20 en el máximo. El número de activos debe poder modificarse entre generaciones, sin caer en extremos (que siempre salgan carteras de 1 activo o de 20). Debemos pensar un sistema coherente, para resolver este punto.**"
   ]
  },
  {
   "cell_type": "markdown",
   "id": "67f888e9-df4b-450f-9319-fcf365f3e512",
   "metadata": {},
   "source": [
    "En primer lugar es necesario determinar el número de individuos que van a formar parte de la \"primera generación\", y determinar qué numero de generaciones posteriores queremos utilizar. En este caso hemos realizado 50 individuos y 50 generaciones. La primera generación va a generarse de forma aleatoria escogiendo activos aleatorios. Las carteras van a estar compuesta por un número aleatorio de activos dentro del rango mínimo y máximo, de forma que acabemos teniendo 50 carteras de tamaños distintos y activos distintos. Para cada individuo, posteriormente haremos un markowitz de 100 carteras con pesos distintos y seleccionaremos aquella cartera que nos de un mayor sharpe. De este modo, favorecemos la exploración. "
   ]
  },
  {
   "cell_type": "markdown",
   "id": "1fc8e2f1-6e74-446f-8630-aa5145305c80",
   "metadata": {},
   "source": [
    "**2. El método de selección de padres no parece, a priori, problemático, pero el cruce y la mutación sí. ¿Cómo va a heredar el hijo la información genética de los padres? Aquí tenemos un triple problema a resolver:**"
   ]
  },
  {
   "cell_type": "markdown",
   "id": "00f42d21-ddc2-413b-9659-580ab2b20e8e",
   "metadata": {},
   "source": [
    "**2.1 ¿Cual es el número de activos que hereda un hijo de dos padres? Si un padre tiene 5 activos y el otro 7 (distintos entre sí), ¿cuantos activos tendrá el hijo? Debemos pensar en el punto primero. El hijo no puede tener un número de activos creciente en cada generación. El sistema tiene que ser dinámico, creciente y decreciente, respetando los límites de 1 y 20.**"
   ]
  },
  {
   "cell_type": "markdown",
   "id": "445ba71e-e184-4ce8-8314-7f98e7f47774",
   "metadata": {},
   "source": [
    "Para la herencia de los padres a los hijos, lo vamos a solucionar de distintas formas. En primer lugar, vamos a eliminar los activos duplicados y luego vamos a generar una matriz de correlaciones. Dentro de la matriz de correlaciones calcularemos la correlación media de todos los activos, y luego para cada activo estableceremos un umbral. Si supera ese umbral, diremos que el activo está correlacionado con el resto, mientras que si no supera ese umbral diremos que el activo está descorrelacionado. Los activos descorrelacionados los va a heredar el hijo, mientras que de los activos más correlacionados simplemente nos quedaremos con aquél que tenga el mejor sharpe. Existirán casos en los que todos los activos aparezcan descorrelados y otros en los que aparezcan todos correlacionados. \n",
    "\n",
    "En el caso de que todos sean descorrelacionados, si están dentro del rango de 20 activos, los heredará todos; mientras que si supera los 20 activos, entonces los ordenaremos de mayor a menor sharpe, y haremos que seleccione en ese mismo orden, entre 10 y 20 activos (el número de activos será aleatorio). En el caso de que estén todos correlacionados, simplemente nos quedaremos con uno, aquél que tenga el mayor sharpe. Para que esto tenga sentido, estableceremos un método de mutación, explicado más adelante. "
   ]
  },
  {
   "cell_type": "markdown",
   "id": "81555d48-10cd-4cd2-ab51-37e67c46d7b4",
   "metadata": {},
   "source": [
    "**2.2 ¿Qué porcentaje de inversión hereda cada activo para que sume 100%? Debemos permitir la construcción de carteras donde unos pocos activos (1 o 2) se lleven un porcentaje muy elevado del capital disponible, para explorar todas las soluciones. Reescalar los pesos no es una solución aceptable.**"
   ]
  },
  {
   "cell_type": "markdown",
   "id": "6fe3edcb-75c3-44d6-b5e0-db3c0a0b123e",
   "metadata": {},
   "source": [
    "Los hijos no heredarán ningún peso, simplemenete heredarán activos. Para cada hijo le pasaremos una función encargada de realizar un markowitz con 100 carteras con pesos distintos, y seleccionaremos aquellos pesos que nos den un mayor sharpe. De este modo favorecemos la exploración e intentamos que la generación mejore la anterior. "
   ]
  },
  {
   "cell_type": "markdown",
   "id": "35e0b2b4-a0f6-4507-914b-bf5aab76a661",
   "metadata": {},
   "source": [
    "**2.3 La evolución, en este problema no puede limitarse a selección y cruzamiento o caeremos rápidamente en un mínimo local. Debemos encontrar un sistema que equilibre la selección con la exploración, si queremos encontrar la cartera óptima.** "
   ]
  },
  {
   "cell_type": "markdown",
   "id": "e8dcdd14-c23b-4361-93ed-d616dd8d8e88",
   "metadata": {},
   "source": [
    "Para favorecer la exploración, vamos a realizar un random entre 1 y 4 activos que se van a añadir a la cartera heredada por cada hijo, de forma que siempre se favorezca la exploración y no caigamos en un mínimo local."
   ]
  },
  {
   "cell_type": "code",
   "execution_count": 1,
   "id": "935ad32c-b4bc-4e47-9007-2b830491dab1",
   "metadata": {},
   "outputs": [],
   "source": [
    "import pandas as pd\n",
    "import numpy as np\n",
    "import random\n",
    "import time\n",
    "import pickle\n",
    "from time import time\n",
    "from timeit import timeit"
   ]
  },
  {
   "cell_type": "code",
   "execution_count": 2,
   "id": "feebb35c-760a-42ce-adfd-52aef10dc4d5",
   "metadata": {},
   "outputs": [],
   "source": [
    "with open('fondos_limpios.pickle', 'rb') as handle:\n",
    "    fondos_limpios = pickle.load(handle)\n",
    "returns = np.log(fondos_limpios).diff().dropna()\n",
    "if any(returns.sum() <= 0):\n",
    "    fondos_limpios = fondos_limpios.drop(fondos_limpios.columns[np.where(returns.sum() <= 0)], axis = 1)"
   ]
  },
  {
   "cell_type": "code",
   "execution_count": 3,
   "id": "c34201c1-81aa-49b9-a11e-fbba38299b7e",
   "metadata": {},
   "outputs": [],
   "source": [
    "class generaciones:\n",
    "    \n",
    "    def __init__(self, numero_individuos, n_generaciones, fondos_limpios):\n",
    "        self.numero_individuos = numero_individuos\n",
    "        self.n_generaciones = n_generaciones\n",
    "        self.fondos_limpios = fondos_limpios\n",
    "    \n",
    "    def selector_activos(self):\n",
    "        activos_seleccionados = [np.random.randint(0, self.fondos_limpios.shape[1], size = np.random.randint(2,20)) for n in range(0,self.numero_individuos)]\n",
    "        return(activos_seleccionados)\n",
    "          \n",
    "    def calculo_eficiencia(self, activos_seleccionados):\n",
    "        \n",
    "        eficiencia = []\n",
    "        weights = []\n",
    "        for seleccion in activos_seleccionados:         \n",
    "            returns = np.log(self.fondos_limpios.iloc[:,seleccion]).diff().dropna()\n",
    "            pesos= np.random.uniform(0,100,(100,len(seleccion)))\n",
    "            pesos = pd.DataFrame(pesos)\n",
    "            pesos = pesos.div(np.sum(pesos, axis=1), axis=0)\n",
    "            pesos = np.array(pesos.transpose())\n",
    "            matriz_covarianzas = returns.cov()\n",
    "            rentabilidad_diaria = np.mean(returns, axis=0).values\n",
    "            rentabilidad_cartera = np.dot(pesos.T,rentabilidad_diaria)\n",
    "            riesgo_carteras = np.dot(pesos.T,np.sum(np.dot(matriz_covarianzas,pesos), axis = 1))\n",
    "            if any(riesgo_carteras <= 0):\n",
    "                eliminar = np.where(riesgo_carteras <= 0)\n",
    "                riesgo_carteras = np.delete(riesgo_carteras,eliminar)\n",
    "                rentabilidad_cartera = np.delete(rentabilidad_cartera,eliminar)\n",
    "            riesgo_carteras = np.sqrt(riesgo_carteras)\n",
    "            eficiencia_carteras = rentabilidad_cartera/riesgo_carteras\n",
    "            eficiencia.append(eficiencia_carteras[np.argmax(eficiencia_carteras)]) \n",
    "            weights.append(pesos[:,np.argmax(eficiencia_carteras)])\n",
    "        return(eficiencia, weights)       \n",
    "    \n",
    "    def selector_padres(self, eficiencia):\n",
    "        \n",
    "        maximo = np.max(eficiencia)\n",
    "        minimo = np.min(eficiencia)\n",
    "        valores_fitness = [(valor-minimo)/(maximo-minimo) for valor in eficiencia]\n",
    "        seleccionados = 0\n",
    "        padres = []\n",
    "        while seleccionados < ((self.numero_individuos-1)*2):\n",
    "            candidato_papa = random.randint(0,(self.numero_individuos-1))\n",
    "            umbral = random.uniform(0,1)\n",
    "            if valores_fitness[candidato_papa] < umbral:\n",
    "                if len(padres) == 0:\n",
    "                    padres.append(candidato_papa)\n",
    "                    seleccionados = seleccionados + 1 \n",
    "                else:\n",
    "                    if candidato_papa != padres[-1]:\n",
    "                        padres.append(candidato_papa)\n",
    "                        seleccionados = seleccionados + 1                \n",
    "            else:\n",
    "                continue \n",
    "                \n",
    "        padres_madres = []\n",
    "        for i in range(0,(((self.numero_individuos-1)*2)+1),2):\n",
    "            if i == 0:\n",
    "                anterior = i\n",
    "            else:\n",
    "                tupla = tuple(padres[anterior:i])\n",
    "                anterior = i \n",
    "                padres_madres.append(tupla)\n",
    "\n",
    "        return(padres_madres)\n",
    "    \n",
    "    def nuevas_generaciones(self, padres, activos_seleccionados, eficiencia):\n",
    "    \n",
    "        nueva_generacion = []\n",
    "\n",
    "        #Metemos al mejor padre\n",
    "        nueva_generacion.append(list(activos_seleccionados[np.argmax(eficiencia)]))\n",
    "\n",
    "        for familia in padres:\n",
    "\n",
    "            papa = activos_seleccionados[familia[0]]\n",
    "            mama = activos_seleccionados[familia[1]]\n",
    "            #juntamos la herencia de papa y mama, y eliminamos los activos duplicados\n",
    "            herencia = list(set(np.concatenate((papa,mama)))) \n",
    "\n",
    "            #calculamos sharpe de los activos y clusterizamos por correlacion\n",
    "            rentabilidad = (np.log(self.fondos_limpios.iloc[:,herencia]).diff().dropna())\n",
    "            sharpe = rentabilidad.mean()/rentabilidad.var()\n",
    "            sharpe.index = herencia\n",
    "            matriz_corr = rentabilidad.corr()\n",
    "            corr_media = np.mean(matriz_corr.sum()/matriz_corr.shape[0])\n",
    "            umbral_rechazo = matriz_corr.shape[0] * 0.6\n",
    "            activos_correlados = []\n",
    "            activos_descorrelados = []\n",
    "            for activo in range(matriz_corr.shape[0]):\n",
    "                corr_encima_media = (matriz_corr.iloc[0] >= corr_media).value_counts()[True]\n",
    "                if corr_encima_media >= umbral_rechazo:\n",
    "                    activos_correlados.append(activo)\n",
    "                else:\n",
    "                    activos_descorrelados.append(activo)\n",
    "        \n",
    "            if len(activos_correlados) > 1: \n",
    "                \n",
    "                mejor_sharpe = np.argmax(sharpe.iloc[activos_correlados])\n",
    "                if len(activos_descorrelados) == 0:\n",
    "                    genes_heredados = [herencia[mejor_sharpe]]\n",
    "                else:\n",
    "                    genes_heredados = list(np.array(herencia)[list(np.append(activos_descorrelados, mejor_sharpe))])\n",
    "\n",
    "            else:    \n",
    "                genes_heredados = list(np.array(herencia)[activos_descorrelados])\n",
    "            \n",
    "            if len(genes_heredados) > 20:\n",
    "                genes_heredados = list(sharpe.iloc[activos_descorrelados].sort_values(ascending = False)[:np.random.randint(10,20)].index)\n",
    "            \n",
    "            n_activos_heredar = len(genes_heredados)\n",
    "            \n",
    "            if n_activos_heredar < 16:\n",
    "                mutacion = n_activos_heredar + np.random.randint(1,5)\n",
    "                exploracion = mutacion - n_activos_heredar\n",
    "                genes_mutados = [np.random.randint(0, fondos_limpios.shape[1]) for n in range(exploracion)]\n",
    "                genes_hijo = list(set(np.concatenate((genes_heredados, genes_mutados))))\n",
    "                if mutacion != len(genes_hijo):\n",
    "                    while mutacion != len(genes_hijo):\n",
    "                        genes_mutados = [np.random.randint(0, fondos_limpios.shape[1]) for n in range(exploracion)]\n",
    "                        genes_hijo = list(set(np.concatenate((genes_heredados, genes_mutados))))\n",
    "                nueva_generacion.append(genes_hijo)\n",
    "            else:\n",
    "                nueva_generacion.append(genes_heredados)\n",
    "\n",
    "        return(nueva_generacion)\n",
    "    \n",
    "    def funcion_definitiva(self):\n",
    "        \n",
    "        eficiencia_generacional = []\n",
    "        activos_seleccionados = self.selector_activos()\n",
    "        eficiencia, pesos = self.calculo_eficiencia(activos_seleccionados) \n",
    "        \n",
    "        padres = self.selector_padres(eficiencia)\n",
    "        \n",
    "        \n",
    "        mejor_sharpe = eficiencia[np.argmax(eficiencia)]\n",
    "        cartera_optima = {'Sharpe': mejor_sharpe, 'activos': list(fondos_limpios.columns[activos_seleccionados[np.argmax(eficiencia)]]), 'pesos': pesos[np.argmax(eficiencia)]}\n",
    "        \n",
    "        eficiencia_generacional.append(mejor_sharpe)\n",
    "        \n",
    "        for generaciones in range(self.n_generaciones):\n",
    "            nueva_generacion = self.nuevas_generaciones(padres, activos_seleccionados, eficiencia)\n",
    "            eficiencia, pesos = self.calculo_eficiencia(nueva_generacion)\n",
    "            eficiencia[0] = mejor_sharpe #no dejamos que el cálculo de eficiencia nos cambie los pesos al mejor padre de la generación anterior\n",
    "            \n",
    "            padres = self.selector_padres(eficiencia)\n",
    "            mejor_sharpe = eficiencia[np.argmax(eficiencia)]\n",
    "            cartera_optima = {'Sharpe': mejor_sharpe, 'activos': list(fondos_limpios.columns[activos_seleccionados[np.argmax(eficiencia)]]), 'pesos': pesos[np.argmax(eficiencia)]}\n",
    "            activos_seleccionados = [np.array(nueva_generacion[item]) for item in range(len(nueva_generacion))]\n",
    "            eficiencia_generacional.append(mejor_sharpe)\n",
    "            \n",
    "                \n",
    "        resultado = eficiencia_generacional\n",
    "                \n",
    "        return(resultado, cartera_optima)\n",
    "        "
   ]
  },
  {
   "cell_type": "code",
   "execution_count": 6,
   "id": "0090e60e-0f79-470b-a8bc-14106f83ae6d",
   "metadata": {
    "tags": []
   },
   "outputs": [
    {
     "name": "stdout",
     "output_type": "stream",
     "text": [
      "El tiempo de ejecucion fue: 37.81190752983093\n",
      "{'Sharpe': 0.14827761067324943, 'activos': ['LU0568621618', 'IE0004807107', 'GB0031953234', 'LU0350842315', 'LU0933169087', 'LU1873130071', 'LU0284585170', 'LU1624421126', 'IE00B3L10240', 'IE00BPT2BJ75', 'IE00B45H7020', 'IE00B3L10687'], 'pesos': array([0.07083155, 0.04625315, 0.01930084, 0.02578767, 0.16989489,\n",
      "       0.0205318 , 0.04504189, 0.17940914, 0.0805752 , 0.0053477 ,\n",
      "       0.15597182, 0.18105434])}\n"
     ]
    }
   ],
   "source": [
    "tiempo_inicial = time()\n",
    "\n",
    "numero_individuos = 50\n",
    "n_generaciones = 50\n",
    "resultado, cartera_optima = generaciones(numero_individuos, n_generaciones, fondos_limpios).funcion_definitiva()\n",
    "tiempo_final = time() \n",
    "tiempo_ejecucion = tiempo_final - tiempo_inicial\n",
    "print ('El tiempo de ejecucion fue:',tiempo_ejecucion )    \n",
    "print(cartera_optima)"
   ]
  },
  {
   "cell_type": "code",
   "execution_count": 7,
   "id": "0f3b5d08-9635-4179-8b46-74bc7c8d5085",
   "metadata": {},
   "outputs": [
    {
     "data": {
      "text/plain": [
       "[0.020197827629495485,\n",
       " 0.020197827629495485,\n",
       " 0.020197827629495485,\n",
       " 0.020197827629495485,\n",
       " 0.07175737732641499,\n",
       " 0.07175737732641499,\n",
       " 0.07175737732641499,\n",
       " 0.07175737732641499,\n",
       " 0.07175737732641499,\n",
       " 0.07175737732641499,\n",
       " 0.07175737732641499,\n",
       " 0.07175737732641499,\n",
       " 0.07175737732641499,\n",
       " 0.08548155987259182,\n",
       " 0.08548155987259182,\n",
       " 0.08548155987259182,\n",
       " 0.08548155987259182,\n",
       " 0.08548155987259182,\n",
       " 0.08548155987259182,\n",
       " 0.08548155987259182,\n",
       " 0.08548155987259182,\n",
       " 0.08548155987259182,\n",
       " 0.08548155987259182,\n",
       " 0.08548155987259182,\n",
       " 0.08548155987259182,\n",
       " 0.08548155987259182,\n",
       " 0.09919946144497266,\n",
       " 0.09919946144497266,\n",
       " 0.12517983663510102,\n",
       " 0.13651236173322098,\n",
       " 0.13651236173322098,\n",
       " 0.13651236173322098,\n",
       " 0.13651236173322098,\n",
       " 0.13651236173322098,\n",
       " 0.13651236173322098,\n",
       " 0.13651236173322098,\n",
       " 0.13651236173322098,\n",
       " 0.13651236173322098,\n",
       " 0.13651236173322098,\n",
       " 0.14827761067324943,\n",
       " 0.14827761067324943,\n",
       " 0.14827761067324943,\n",
       " 0.14827761067324943,\n",
       " 0.14827761067324943,\n",
       " 0.14827761067324943,\n",
       " 0.14827761067324943,\n",
       " 0.14827761067324943,\n",
       " 0.14827761067324943,\n",
       " 0.14827761067324943,\n",
       " 0.14827761067324943,\n",
       " 0.14827761067324943]"
      ]
     },
     "execution_count": 7,
     "metadata": {},
     "output_type": "execute_result"
    }
   ],
   "source": [
    "resultado"
   ]
  }
 ],
 "metadata": {
  "kernelspec": {
   "display_name": "Python 3",
   "language": "python",
   "name": "python3"
  },
  "language_info": {
   "codemirror_mode": {
    "name": "ipython",
    "version": 3
   },
   "file_extension": ".py",
   "mimetype": "text/x-python",
   "name": "python",
   "nbconvert_exporter": "python",
   "pygments_lexer": "ipython3",
   "version": "3.8.8"
  }
 },
 "nbformat": 4,
 "nbformat_minor": 5
}
