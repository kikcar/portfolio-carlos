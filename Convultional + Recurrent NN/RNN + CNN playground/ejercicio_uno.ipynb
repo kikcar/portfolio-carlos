{
 "cells": [
  {
   "cell_type": "code",
   "execution_count": 1,
   "id": "0ae1d22c-571a-4d48-a730-e83ad1476fc7",
   "metadata": {},
   "outputs": [],
   "source": [
    "from keras.models import Sequential\n",
    "from keras.layers import Dense, Conv2D, Flatten, Dropout, LSTM, GRU, Conv1D\n",
    "from tensorflow import keras"
   ]
  },
  {
   "cell_type": "markdown",
   "id": "64c8ce75-9c78-4107-a47c-37c849ec9915",
   "metadata": {},
   "source": [
    "#### **1.- Escribe un trozo de código que sirva para definir un modelo en Keras para solucionar cada uno de los siguientes problemas (solo tenéis que definir el modelo pero tiene que poder compilarse la celda, i.e. que no de error). Muestra el resumen del modelo por pantalla.**"
   ]
  },
  {
   "cell_type": "markdown",
   "id": "a5329774-61ae-41a8-80e4-f8dc8c63ab41",
   "metadata": {},
   "source": [
    "*A) Tenemos un problema de clasificación de objetos donde tenemos 5000 imágenes de 28x28 en color. Para cada objeto tenemos una etiqueta numérica con valores de [0-19] (20 clases de objetos distintas). Propon un modelo teniendo en cuenta lo que has aprendido en clase.*\n"
   ]
  },
  {
   "cell_type": "markdown",
   "id": "e7055ba4-b1c5-42d7-9ed5-f4e7e80ce720",
   "metadata": {},
   "source": [
    "Puesto que vamos a trabajar con imágenes, para solucionar el problema de clasificación propondremos usar un modelo de red neuronal convulcional. Para ello utilizaremos dos capas convulcionales, un dropout de 0.5, una capa flatten, y una capa densa. En cuanto a las funciones de activación usaremos una ReLu para las capas convulcionales y una softmax para la capa densa, puesto que necesitamos 20 neuronas de salida con una probabilidad asignada para cada clase. Por último, compilaremos el modelo utilizando un optimizador SGD y una función de coste categorical_crossentropy. "
   ]
  },
  {
   "cell_type": "code",
   "execution_count": 2,
   "id": "bd6fe211-0b2d-48ac-b45b-06af26a64512",
   "metadata": {},
   "outputs": [
    {
     "name": "stdout",
     "output_type": "stream",
     "text": [
      "Model: \"sequential\"\n",
      "_________________________________________________________________\n",
      " Layer (type)                Output Shape              Param #   \n",
      "=================================================================\n",
      " conv2d (Conv2D)             (None, 26, 26, 30)        300       \n",
      "                                                                 \n",
      " dropout (Dropout)           (None, 26, 26, 30)        0         \n",
      "                                                                 \n",
      " conv2d_1 (Conv2D)           (None, 24, 24, 30)        8130      \n",
      "                                                                 \n",
      " flatten (Flatten)           (None, 17280)             0         \n",
      "                                                                 \n",
      " dense (Dense)               (None, 20)                345620    \n",
      "                                                                 \n",
      "=================================================================\n",
      "Total params: 354,050\n",
      "Trainable params: 354,050\n",
      "Non-trainable params: 0\n",
      "_________________________________________________________________\n"
     ]
    }
   ],
   "source": [
    "model = Sequential()\n",
    "\n",
    "# Primera capa convulcional 2D \n",
    "# El tamaño del kernel será de 3X3 y utilizaremos padding VALID. \n",
    "model.add(Conv2D(30, kernel_size=3, activation='relu', input_shape=(28,28,1), padding='valid')) \n",
    "\n",
    "# Establecemos un dropout de 0.5 \n",
    "model.add(Dropout(0.5))\n",
    "\n",
    "# Segunda capa convulcional 2D\n",
    "# El tamaño del kernel será de 3X3\n",
    "model.add(Conv2D(30, kernel_size=3, activation='relu', padding='valid'))\n",
    "\n",
    "# Establecemos la capa Flatten\n",
    "model.add(Flatten())\n",
    "\n",
    "# Establecemos la capa densa\n",
    "model.add(Dense(20, activation='softmax'))\n",
    "\n",
    "model.compile(optimizer=keras.optimizers.SGD(learning_rate = 0.0001), loss='categorical_crossentropy', metrics=['accuracy'])\n",
    "\n",
    "model.summary()"
   ]
  },
  {
   "cell_type": "markdown",
   "id": "82314fca-5a9e-4726-a780-dc8c84addbc9",
   "metadata": {},
   "source": [
    "*B) Tenemos 50000 datos de series temporales de un activo financiero, cada dato tiene una longitud de 11. Las salidas son las predicciones para el instante temporal siguiente. Escribe un trozo de código que sirva para definir un modelo en Keras que tenga al menos dos capas LSTM, una capa GRU y una densa.*\n"
   ]
  },
  {
   "cell_type": "code",
   "execution_count": 3,
   "id": "e639fe7a-2123-4bf2-a445-2f915c57df09",
   "metadata": {},
   "outputs": [
    {
     "name": "stdout",
     "output_type": "stream",
     "text": [
      "Model: \"sequential_1\"\n",
      "_________________________________________________________________\n",
      " Layer (type)                Output Shape              Param #   \n",
      "=================================================================\n",
      " lstm (LSTM)                 (None, 50000, 50)         12400     \n",
      "                                                                 \n",
      " lstm_1 (LSTM)               (None, 50000, 50)         20200     \n",
      "                                                                 \n",
      " gru (GRU)                   (None, 50)                15300     \n",
      "                                                                 \n",
      " dense_1 (Dense)             (None, 50000)             2550000   \n",
      "                                                                 \n",
      "=================================================================\n",
      "Total params: 2,597,900\n",
      "Trainable params: 2,597,900\n",
      "Non-trainable params: 0\n",
      "_________________________________________________________________\n"
     ]
    }
   ],
   "source": [
    "model = Sequential()\n",
    "\n",
    "model.add(LSTM(50, activation='relu', return_sequences = True, input_shape=(50000, 11)))\n",
    "model.add(LSTM(50, activation = 'relu', return_sequences = True))\n",
    "model.add(GRU(50, activation = 'relu', return_sequences = False))\n",
    "model.add(Dense(50000, activation = 'linear'))\n",
    "\n",
    "model.compile(optimizer=keras.optimizers.SGD(learning_rate = 0.0001), loss='mse', metrics=['accuracy'])\n",
    "\n",
    "model.summary()"
   ]
  },
  {
   "cell_type": "markdown",
   "id": "0025f6eb-d0b4-49e0-8d8e-84332317152a",
   "metadata": {},
   "source": [
    "*C) Tenemos 50000 datos de series temporales de 10 activos financieros de longitud 7, i.e. (50000, 7, 10). Las salidas son las predicciones para el instante temporal siguiente, i.e.(50000, 1). Escribe un trozo de código que sirva para definir un modelo en Keras que combine al menos una capa LSTM, dos convolucionales y una densa.*"
   ]
  },
  {
   "cell_type": "code",
   "execution_count": 4,
   "id": "59381eb2-aab5-41ec-9ae9-dafb5dfecf29",
   "metadata": {},
   "outputs": [
    {
     "name": "stdout",
     "output_type": "stream",
     "text": [
      "Model: \"sequential_2\"\n",
      "_________________________________________________________________\n",
      " Layer (type)                Output Shape              Param #   \n",
      "=================================================================\n",
      " lstm_2 (LSTM)               (None, 7, 50)             12200     \n",
      "                                                                 \n",
      " conv1d (Conv1D)             (None, 7, 50)             7550      \n",
      "                                                                 \n",
      " conv1d_1 (Conv1D)           (None, 7, 40)             6040      \n",
      "                                                                 \n",
      " flatten_1 (Flatten)         (None, 280)               0         \n",
      "                                                                 \n",
      " dense_2 (Dense)             (None, 50000)             14050000  \n",
      "                                                                 \n",
      "=================================================================\n",
      "Total params: 14,075,790\n",
      "Trainable params: 14,075,790\n",
      "Non-trainable params: 0\n",
      "_________________________________________________________________\n"
     ]
    }
   ],
   "source": [
    "model = Sequential()\n",
    "\n",
    "model.add(LSTM(50, activation = 'relu', input_shape = (7,10), return_sequences = True))\n",
    "model.add(Conv1D(50, kernel_size=3, activation='relu', padding='same'))\n",
    "model.add(Conv1D(40, kernel_size=3, activation='relu', padding='same'))\n",
    "model.add(Flatten())\n",
    "model.add(Dense((1), activation = 'linear'))\n",
    "\n",
    "model.compile(optimizer=keras.optimizers.SGD(learning_rate = 0.0001), loss='mse', metrics=['accuracy'])\n",
    "\n",
    "model.build(input_shape=(7,10))\n",
    "model.summary()\n"
   ]
  }
 ],
 "metadata": {
  "kernelspec": {
   "display_name": "Python 3",
   "language": "python",
   "name": "python3"
  },
  "language_info": {
   "codemirror_mode": {
    "name": "ipython",
    "version": 3
   },
   "file_extension": ".py",
   "mimetype": "text/x-python",
   "name": "python",
   "nbconvert_exporter": "python",
   "pygments_lexer": "ipython3",
   "version": "3.8.8"
  }
 },
 "nbformat": 4,
 "nbformat_minor": 5
}
