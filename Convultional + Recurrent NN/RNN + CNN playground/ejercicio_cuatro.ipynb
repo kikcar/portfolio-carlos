{
 "cells": [
  {
   "cell_type": "markdown",
   "id": "060d13f4-dada-417d-a5c3-972e37d01ba4",
   "metadata": {},
   "source": [
    "**7.- Diseña un modelo en Keras que utilice capas densas, LSTM, GRU, y convolucionales para predecir los valores de cierre Apple utilizando como entrada los valores de apertura de los datos Amazon, Microsoft, Meta (facebook), Apple y Google de los 4 días anteriores. Compáralo con un modelo con una capa lineal.**\n"
   ]
  },
  {
   "cell_type": "code",
   "execution_count": 2,
   "id": "89d2ed7a-cc11-4068-8496-90197241ddc2",
   "metadata": {},
   "outputs": [],
   "source": [
    "import pandas as pd\n",
    "import numpy as np\n",
    "from keras.models import Sequential\n",
    "from keras.layers import Layer, Dense, GRU, Conv1D, Flatten, Dropout, BatchNormalization, MaxPooling2D, LSTM\n",
    "from tensorflow.keras.utils import to_categorical\n",
    "from keras.callbacks import EarlyStopping\n",
    "from tensorflow.keras import regularizers\n",
    "from tensorflow import keras\n",
    "import matplotlib.pyplot as plt\n",
    "import tensorflow as tf"
   ]
  },
  {
   "cell_type": "code",
   "execution_count": 7,
   "id": "eb684c4d-3e90-49e7-9b4a-db58999ddadd",
   "metadata": {},
   "outputs": [],
   "source": [
    "#Leemos los datos de apple\n",
    "apple = pd.read_csv(r\"C:\\Users\\Carlos\\Documents\\MIA-X\\Modulo 4\\Machine Learning\\Redes Convulcionales\\CNN + RNN\\practica_rnn_cnn\\Stocks\\aa.us.txt\", delimiter=\",\")\n",
    "amazon = pd.read_csv(r\"C:\\Users\\Carlos\\Documents\\MIA-X\\Modulo 4\\Machine Learning\\Redes Convulcionales\\CNN + RNN\\practica_rnn_cnn\\Stocks\\amzn.us.txt\", delimiter=\",\")\n",
    "microsoft = pd.read_csv(r\"C:\\Users\\Carlos\\Documents\\MIA-X\\Modulo 4\\Machine Learning\\Redes Convulcionales\\CNN + RNN\\practica_rnn_cnn\\Stocks\\msft.us.txt\", delimiter=\",\")\n",
    "facebook = pd.read_csv(r\"C:\\Users\\Carlos\\Documents\\MIA-X\\Modulo 4\\Machine Learning\\Redes Convulcionales\\CNN + RNN\\practica_rnn_cnn\\Stocks\\fb.us.txt\", delimiter=\",\")\n",
    "google = pd.read_csv(r\"C:\\Users\\Carlos\\Documents\\MIA-X\\Modulo 4\\Machine Learning\\Redes Convulcionales\\CNN + RNN\\practica_rnn_cnn\\Stocks\\googl.us.txt\", delimiter=\",\")\n",
    "#Me quedo con los datos de apertura\n"
   ]
  },
  {
   "cell_type": "code",
   "execution_count": 8,
   "id": "d83c500c-3626-4bae-8561-b0ccc8222206",
   "metadata": {},
   "outputs": [],
   "source": [
    "#Convertimos la columna Date como indice\n",
    "for asset in [apple, amazon, microsoft, google, facebook]:\n",
    "    asset.index = pd.to_datetime(asset.Date)"
   ]
  },
  {
   "cell_type": "code",
   "execution_count": 9,
   "id": "419ad47d-6315-4d98-8968-38c4417f0653",
   "metadata": {},
   "outputs": [],
   "source": [
    "#Filtramos por el indice para homogeneizar los datos\n",
    "data_close = apple[facebook.index[0]:].Close\n",
    "apple = apple[facebook.index[0]:].Open\n",
    "amazon = amazon[facebook.index[0]:].Open\n",
    "microsoft = microsoft[facebook.index[0]:].Open\n",
    "google = google[facebook.index[0]:].Open\n",
    "facebook = facebook.Open\n"
   ]
  },
  {
   "cell_type": "code",
   "execution_count": 10,
   "id": "c87d9b1f-a9d1-4ffe-aff1-2996beb8235c",
   "metadata": {},
   "outputs": [],
   "source": [
    "#Me genero una matriz de ceros con las dimensiones que quiero, n_ejemplos x 5 datos. \n",
    "LAG = 5\n",
    "data = np.zeros((apple.shape[0]- LAG, LAG, 5))\n",
    "close = np.zeros((data_close.shape[0]- LAG, LAG, 5))"
   ]
  },
  {
   "cell_type": "code",
   "execution_count": 11,
   "id": "efc3a0f1-f777-419e-bba8-bd983d39cb0e",
   "metadata": {},
   "outputs": [],
   "source": [
    "#Unimos los datos en un único dataframe\n",
    "for i in range(0,(apple.shape[0] - LAG)):\n",
    "    data[i,:,0] = apple.iloc[i:i+LAG]\n",
    "    data[i,:,1] = amazon.iloc[i:i+LAG]\n",
    "    data[i,:,2] = microsoft.iloc[i:i+LAG]\n",
    "    data[i,:,3] = google.iloc[i:i+LAG]\n",
    "    data[i,:,4] = facebook.iloc[i:i+LAG]"
   ]
  },
  {
   "cell_type": "code",
   "execution_count": 12,
   "id": "8d672eb8",
   "metadata": {},
   "outputs": [
    {
     "data": {
      "text/plain": [
       "(1376, 5, 5)"
      ]
     },
     "execution_count": 12,
     "metadata": {},
     "output_type": "execute_result"
    }
   ],
   "source": [
    "data.shape"
   ]
  },
  {
   "cell_type": "code",
   "execution_count": 13,
   "id": "712a762e",
   "metadata": {},
   "outputs": [],
   "source": [
    "x_train = data[:round(data.shape[0]*0.7),:-1,:]\n",
    "x_test = data[round(data.shape[0]*0.7):,:-1,:]\n",
    "y_train = close[:round(data.shape[0]*0.7),-1,0]\n",
    "y_test = close[round(data.shape[0]*0.7):,-1,0]"
   ]
  },
  {
   "cell_type": "code",
   "execution_count": 14,
   "id": "21b2f0c6-dcf0-464a-9efd-3810d1b3ca07",
   "metadata": {},
   "outputs": [],
   "source": [
    "model = Sequential()\n",
    "model.add(LSTM(50, activation = 'relu', input_shape = (4,5), return_sequences = True))\n",
    "model.add(GRU(40, activation = 'relu',  return_sequences = True))\n",
    "model.add(Conv1D(30, kernel_size = 3, activation = 'relu',  \n",
    "                 kernel_regularizer=regularizers.l2(0.01),padding='same'))\n",
    "model.add(BatchNormalization())\n",
    "model.add(LSTM(50, activation = 'relu', return_sequences = True))\n",
    "model.add(GRU(20, activation = 'relu', return_sequences = True))\n",
    "model.add(Conv1D(10, kernel_size = 3, activation = 'relu', \n",
    "                 kernel_regularizer=regularizers.l2(0.01),padding='same'))\n",
    "model.add(BatchNormalization())\n",
    "model.add(Flatten())\n",
    "model.add(Dense(1, activation = 'linear'))"
   ]
  },
  {
   "cell_type": "code",
   "execution_count": 15,
   "id": "5f199638",
   "metadata": {},
   "outputs": [
    {
     "name": "stdout",
     "output_type": "stream",
     "text": [
      "Model: \"sequential\"\n",
      "_________________________________________________________________\n",
      " Layer (type)                Output Shape              Param #   \n",
      "=================================================================\n",
      " lstm (LSTM)                 (None, 4, 50)             11200     \n",
      "                                                                 \n",
      " gru (GRU)                   (None, 4, 40)             11040     \n",
      "                                                                 \n",
      " conv1d (Conv1D)             (None, 4, 30)             3630      \n",
      "                                                                 \n",
      " batch_normalization (BatchN  (None, 4, 30)            120       \n",
      " ormalization)                                                   \n",
      "                                                                 \n",
      " lstm_1 (LSTM)               (None, 4, 50)             16200     \n",
      "                                                                 \n",
      " gru_1 (GRU)                 (None, 4, 20)             4320      \n",
      "                                                                 \n",
      " conv1d_1 (Conv1D)           (None, 4, 10)             610       \n",
      "                                                                 \n",
      " batch_normalization_1 (Batc  (None, 4, 10)            40        \n",
      " hNormalization)                                                 \n",
      "                                                                 \n",
      " flatten (Flatten)           (None, 40)                0         \n",
      "                                                                 \n",
      " dense (Dense)               (None, 1)                 41        \n",
      "                                                                 \n",
      "=================================================================\n",
      "Total params: 47,201\n",
      "Trainable params: 47,121\n",
      "Non-trainable params: 80\n",
      "_________________________________________________________________\n"
     ]
    }
   ],
   "source": [
    "model.summary()"
   ]
  },
  {
   "cell_type": "code",
   "execution_count": 16,
   "id": "2dfe7bcd",
   "metadata": {},
   "outputs": [],
   "source": [
    "model.compile(optimizer='adam',loss='mae')"
   ]
  },
  {
   "cell_type": "code",
   "execution_count": 18,
   "id": "45a0919a",
   "metadata": {},
   "outputs": [
    {
     "name": "stdout",
     "output_type": "stream",
     "text": [
      "Epoch 1/50\n",
      "31/31 [==============================] - 0s 5ms/step - loss: 0.0509\n",
      "Epoch 2/50\n",
      "31/31 [==============================] - 0s 5ms/step - loss: 0.0550\n",
      "Epoch 3/50\n",
      "31/31 [==============================] - 0s 5ms/step - loss: 0.0560\n",
      "Epoch 4/50\n",
      "31/31 [==============================] - 0s 5ms/step - loss: 0.0515\n",
      "Epoch 5/50\n",
      "31/31 [==============================] - 0s 5ms/step - loss: 0.0481\n",
      "Epoch 6/50\n",
      "31/31 [==============================] - 0s 5ms/step - loss: 0.0465\n",
      "Epoch 7/50\n",
      "31/31 [==============================] - 0s 5ms/step - loss: 0.0508\n",
      "Epoch 8/50\n",
      "31/31 [==============================] - 0s 5ms/step - loss: 0.0505\n",
      "Epoch 9/50\n",
      "31/31 [==============================] - 0s 5ms/step - loss: 0.0586\n",
      "Epoch 10/50\n",
      "31/31 [==============================] - 0s 5ms/step - loss: 0.0430\n",
      "Epoch 11/50\n",
      "31/31 [==============================] - 0s 5ms/step - loss: 0.0445\n",
      "Epoch 12/50\n",
      "31/31 [==============================] - 0s 5ms/step - loss: 0.0428\n",
      "Epoch 13/50\n",
      "31/31 [==============================] - 0s 5ms/step - loss: 0.0420\n",
      "Epoch 14/50\n",
      "31/31 [==============================] - 0s 5ms/step - loss: 0.0385\n",
      "Epoch 15/50\n",
      "31/31 [==============================] - 0s 5ms/step - loss: 0.0501\n",
      "Epoch 16/50\n",
      "31/31 [==============================] - 0s 6ms/step - loss: 0.0455\n",
      "Epoch 17/50\n",
      "31/31 [==============================] - 0s 5ms/step - loss: 0.0411\n",
      "Epoch 18/50\n",
      "31/31 [==============================] - 0s 5ms/step - loss: 0.0427\n",
      "Epoch 19/50\n",
      "31/31 [==============================] - 0s 5ms/step - loss: 0.0426\n",
      "Epoch 20/50\n",
      "31/31 [==============================] - 0s 5ms/step - loss: 0.0457\n",
      "Epoch 21/50\n",
      "31/31 [==============================] - 0s 5ms/step - loss: 0.0357\n",
      "Epoch 22/50\n",
      "31/31 [==============================] - 0s 5ms/step - loss: 0.0412\n",
      "Epoch 23/50\n",
      "31/31 [==============================] - 0s 5ms/step - loss: 0.0375\n",
      "Epoch 24/50\n",
      "31/31 [==============================] - 0s 5ms/step - loss: 0.0370\n",
      "Epoch 25/50\n",
      "31/31 [==============================] - 0s 5ms/step - loss: 0.0347\n",
      "Epoch 26/50\n",
      "31/31 [==============================] - 0s 5ms/step - loss: 0.0342\n",
      "Epoch 27/50\n",
      "31/31 [==============================] - 0s 5ms/step - loss: 0.0375\n",
      "Epoch 28/50\n",
      "31/31 [==============================] - 0s 5ms/step - loss: 0.0324\n",
      "Epoch 29/50\n",
      "31/31 [==============================] - 0s 5ms/step - loss: 0.0324\n",
      "Epoch 30/50\n",
      "31/31 [==============================] - 0s 5ms/step - loss: 0.0325\n",
      "Epoch 31/50\n",
      "31/31 [==============================] - 0s 5ms/step - loss: 0.0326\n",
      "Epoch 32/50\n",
      "31/31 [==============================] - 0s 5ms/step - loss: 0.0323\n",
      "Epoch 33/50\n",
      "31/31 [==============================] - 0s 5ms/step - loss: 0.0324\n",
      "Epoch 34/50\n",
      "31/31 [==============================] - 0s 5ms/step - loss: 0.0342\n",
      "Epoch 35/50\n",
      "31/31 [==============================] - 0s 5ms/step - loss: 0.0383\n",
      "Epoch 36/50\n",
      "31/31 [==============================] - 0s 5ms/step - loss: 0.0313\n",
      "Epoch 37/50\n",
      "31/31 [==============================] - 0s 5ms/step - loss: 0.0281\n",
      "Epoch 38/50\n",
      "31/31 [==============================] - 0s 5ms/step - loss: 0.0298\n",
      "Epoch 39/50\n",
      "31/31 [==============================] - 0s 5ms/step - loss: 0.0271\n",
      "Epoch 40/50\n",
      "31/31 [==============================] - 0s 5ms/step - loss: 0.0270\n",
      "Epoch 41/50\n",
      "31/31 [==============================] - 0s 5ms/step - loss: 0.0274\n",
      "Epoch 42/50\n",
      "31/31 [==============================] - 0s 5ms/step - loss: 0.0259\n",
      "Epoch 43/50\n",
      "31/31 [==============================] - 0s 5ms/step - loss: 0.0271\n",
      "Epoch 44/50\n",
      "31/31 [==============================] - 0s 5ms/step - loss: 0.0317\n",
      "Epoch 45/50\n",
      "31/31 [==============================] - 0s 5ms/step - loss: 0.0307\n",
      "Epoch 46/50\n",
      "31/31 [==============================] - 0s 5ms/step - loss: 0.0348\n",
      "Epoch 47/50\n",
      "31/31 [==============================] - 0s 5ms/step - loss: 0.0303\n",
      "Epoch 48/50\n",
      "31/31 [==============================] - 0s 5ms/step - loss: 0.0256\n",
      "Epoch 49/50\n",
      "31/31 [==============================] - 0s 5ms/step - loss: 0.0234\n",
      "Epoch 50/50\n",
      "31/31 [==============================] - 0s 5ms/step - loss: 0.0256\n"
     ]
    }
   ],
   "source": [
    "history_convulcional = model.fit(x_train, y_train,  epochs=50)"
   ]
  },
  {
   "cell_type": "code",
   "execution_count": 19,
   "id": "5bc57a90",
   "metadata": {},
   "outputs": [
    {
     "name": "stdout",
     "output_type": "stream",
     "text": [
      "13/13 [==============================] - 0s 2ms/step - loss: 0.1908\n"
     ]
    },
    {
     "data": {
      "text/plain": [
       "0.19078843295574188"
      ]
     },
     "execution_count": 19,
     "metadata": {},
     "output_type": "execute_result"
    }
   ],
   "source": [
    "model.evaluate(x_test, y_test)"
   ]
  },
  {
   "cell_type": "code",
   "execution_count": 27,
   "id": "92147c43-bbd3-48fb-85a9-7c9054327a74",
   "metadata": {},
   "outputs": [
    {
     "data": {
      "text/plain": [
       "(413, 4, 5)"
      ]
     },
     "execution_count": 27,
     "metadata": {},
     "output_type": "execute_result"
    }
   ],
   "source": [
    "x_test.shape"
   ]
  },
  {
   "cell_type": "markdown",
   "id": "8d384c86-7cdb-4b4b-b015-56fb3d5dbf4e",
   "metadata": {},
   "source": [
    "Para compararlo con un modelo lineal es necesario aplanar los datos de entrada, puesto que tendrán una dimensión de n,4,5"
   ]
  },
  {
   "cell_type": "code",
   "execution_count": 39,
   "id": "1565a60d",
   "metadata": {},
   "outputs": [],
   "source": [
    "model = Sequential()\n",
    "\n",
    "model.add(Flatten(input_shape=(4,5)))\n",
    "model.add(Dense(5))\n",
    "model.add(Dense(1, activation = 'linear'))\n"
   ]
  },
  {
   "cell_type": "code",
   "execution_count": 40,
   "id": "2d195328",
   "metadata": {},
   "outputs": [
    {
     "name": "stdout",
     "output_type": "stream",
     "text": [
      "Model: \"sequential_6\"\n",
      "_________________________________________________________________\n",
      " Layer (type)                Output Shape              Param #   \n",
      "=================================================================\n",
      " flatten_6 (Flatten)         (None, 20)                0         \n",
      "                                                                 \n",
      " dense_6 (Dense)             (None, 5)                 105       \n",
      "                                                                 \n",
      " dense_7 (Dense)             (None, 1)                 6         \n",
      "                                                                 \n",
      "=================================================================\n",
      "Total params: 111\n",
      "Trainable params: 111\n",
      "Non-trainable params: 0\n",
      "_________________________________________________________________\n"
     ]
    }
   ],
   "source": [
    "model.summary()"
   ]
  },
  {
   "cell_type": "code",
   "execution_count": 41,
   "id": "88ecb5dc",
   "metadata": {},
   "outputs": [],
   "source": [
    "model.compile(optimizer='adam',loss='mae')"
   ]
  },
  {
   "cell_type": "code",
   "execution_count": 42,
   "id": "951bced1",
   "metadata": {},
   "outputs": [
    {
     "name": "stdout",
     "output_type": "stream",
     "text": [
      "Epoch 1/50\n",
      "31/31 [==============================] - 0s 667us/step - loss: 221.0817\n",
      "Epoch 2/50\n",
      "31/31 [==============================] - 0s 600us/step - loss: 33.2552\n",
      "Epoch 3/50\n",
      "31/31 [==============================] - 0s 600us/step - loss: 26.1608\n",
      "Epoch 4/50\n",
      "31/31 [==============================] - 0s 600us/step - loss: 23.8328\n",
      "Epoch 5/50\n",
      "31/31 [==============================] - 0s 600us/step - loss: 21.5821\n",
      "Epoch 6/50\n",
      "31/31 [==============================] - 0s 600us/step - loss: 19.3641\n",
      "Epoch 7/50\n",
      "31/31 [==============================] - 0s 600us/step - loss: 17.0421\n",
      "Epoch 8/50\n",
      "31/31 [==============================] - 0s 600us/step - loss: 14.5433\n",
      "Epoch 9/50\n",
      "31/31 [==============================] - 0s 600us/step - loss: 12.3126\n",
      "Epoch 10/50\n",
      "31/31 [==============================] - 0s 633us/step - loss: 9.8589\n",
      "Epoch 11/50\n",
      "31/31 [==============================] - 0s 633us/step - loss: 8.0272\n",
      "Epoch 12/50\n",
      "31/31 [==============================] - 0s 600us/step - loss: 6.7949\n",
      "Epoch 13/50\n",
      "31/31 [==============================] - 0s 600us/step - loss: 6.1943\n",
      "Epoch 14/50\n",
      "31/31 [==============================] - 0s 633us/step - loss: 5.7477\n",
      "Epoch 15/50\n",
      "31/31 [==============================] - 0s 633us/step - loss: 5.4602\n",
      "Epoch 16/50\n",
      "31/31 [==============================] - 0s 867us/step - loss: 5.6674\n",
      "Epoch 17/50\n",
      "31/31 [==============================] - 0s 633us/step - loss: 5.3657\n",
      "Epoch 18/50\n",
      "31/31 [==============================] - 0s 600us/step - loss: 5.0644\n",
      "Epoch 19/50\n",
      "31/31 [==============================] - 0s 600us/step - loss: 5.0125\n",
      "Epoch 20/50\n",
      "31/31 [==============================] - 0s 633us/step - loss: 4.9074\n",
      "Epoch 21/50\n",
      "31/31 [==============================] - 0s 633us/step - loss: 4.7102\n",
      "Epoch 22/50\n",
      "31/31 [==============================] - 0s 600us/step - loss: 4.9009\n",
      "Epoch 23/50\n",
      "31/31 [==============================] - 0s 600us/step - loss: 4.7498\n",
      "Epoch 24/50\n",
      "31/31 [==============================] - 0s 633us/step - loss: 4.5662\n",
      "Epoch 25/50\n",
      "31/31 [==============================] - 0s 633us/step - loss: 4.6734\n",
      "Epoch 26/50\n",
      "31/31 [==============================] - 0s 633us/step - loss: 4.4975\n",
      "Epoch 27/50\n",
      "31/31 [==============================] - 0s 600us/step - loss: 4.9310\n",
      "Epoch 28/50\n",
      "31/31 [==============================] - 0s 633us/step - loss: 4.3680\n",
      "Epoch 29/50\n",
      "31/31 [==============================] - 0s 667us/step - loss: 4.2413\n",
      "Epoch 30/50\n",
      "31/31 [==============================] - 0s 600us/step - loss: 4.2872\n",
      "Epoch 31/50\n",
      "31/31 [==============================] - 0s 633us/step - loss: 4.9608\n",
      "Epoch 32/50\n",
      "31/31 [==============================] - 0s 667us/step - loss: 4.4019\n",
      "Epoch 33/50\n",
      "31/31 [==============================] - 0s 633us/step - loss: 4.2100\n",
      "Epoch 34/50\n",
      "31/31 [==============================] - 0s 600us/step - loss: 4.3286\n",
      "Epoch 35/50\n",
      "31/31 [==============================] - 0s 600us/step - loss: 4.0994\n",
      "Epoch 36/50\n",
      "31/31 [==============================] - 0s 633us/step - loss: 4.1471\n",
      "Epoch 37/50\n",
      "31/31 [==============================] - 0s 600us/step - loss: 4.5566\n",
      "Epoch 38/50\n",
      "31/31 [==============================] - 0s 633us/step - loss: 4.4313\n",
      "Epoch 39/50\n",
      "31/31 [==============================] - 0s 633us/step - loss: 3.9956\n",
      "Epoch 40/50\n",
      "31/31 [==============================] - 0s 633us/step - loss: 4.2970\n",
      "Epoch 41/50\n",
      "31/31 [==============================] - 0s 667us/step - loss: 4.2273\n",
      "Epoch 42/50\n",
      "31/31 [==============================] - 0s 667us/step - loss: 3.8997\n",
      "Epoch 43/50\n",
      "31/31 [==============================] - 0s 667us/step - loss: 3.8393\n",
      "Epoch 44/50\n",
      "31/31 [==============================] - 0s 600us/step - loss: 4.0698\n",
      "Epoch 45/50\n",
      "31/31 [==============================] - 0s 633us/step - loss: 3.8093\n",
      "Epoch 46/50\n",
      "31/31 [==============================] - 0s 720us/step - loss: 3.9332\n",
      "Epoch 47/50\n",
      "31/31 [==============================] - 0s 667us/step - loss: 3.8410\n",
      "Epoch 48/50\n",
      "31/31 [==============================] - 0s 667us/step - loss: 3.7804\n",
      "Epoch 49/50\n",
      "31/31 [==============================] - 0s 700us/step - loss: 3.8183\n",
      "Epoch 50/50\n",
      "31/31 [==============================] - 0s 633us/step - loss: 3.9560\n"
     ]
    }
   ],
   "source": [
    "history_convulcional = model.fit(x_train, y_train,  epochs=50)"
   ]
  },
  {
   "cell_type": "code",
   "execution_count": 43,
   "id": "6a813d3f",
   "metadata": {},
   "outputs": [
    {
     "name": "stdout",
     "output_type": "stream",
     "text": [
      "13/13 [==============================] - 0s 750us/step - loss: 4.5155\n"
     ]
    },
    {
     "data": {
      "text/plain": [
       "4.515481472015381"
      ]
     },
     "execution_count": 43,
     "metadata": {},
     "output_type": "execute_result"
    }
   ],
   "source": [
    "model.evaluate(x_test, y_test)"
   ]
  },
  {
   "cell_type": "markdown",
   "id": "427f55d2-45c2-48af-9aa5-f592b607e49a",
   "metadata": {},
   "source": [
    "Vemos que con las capas densas obtenemos un resultado mucho peor que con las capas LSTM, GRU, y convulcionales"
   ]
  }
 ],
 "metadata": {
  "kernelspec": {
   "display_name": "Python 3",
   "language": "python",
   "name": "python3"
  },
  "language_info": {
   "codemirror_mode": {
    "name": "ipython",
    "version": 3
   },
   "file_extension": ".py",
   "mimetype": "text/x-python",
   "name": "python",
   "nbconvert_exporter": "python",
   "pygments_lexer": "ipython3",
   "version": "3.8.8"
  }
 },
 "nbformat": 4,
 "nbformat_minor": 5
}
