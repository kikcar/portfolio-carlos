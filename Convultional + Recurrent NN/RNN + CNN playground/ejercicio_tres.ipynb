{
 "cells": [
  {
   "cell_type": "markdown",
   "id": "ca7f48a9-5f1b-44f7-a61a-9d5c2295ef85",
   "metadata": {},
   "source": [
    "**6.- Entrena un modelo en Keras que combine capas GRU y convolucionales para predecir los valores de cierre de Apple utilizando como entrada únicamente los valores de apertura de los datos Apple de los 4 días anteriores y que obtenga unos resultados en test mejores que los del apartado anterior.**\n"
   ]
  },
  {
   "cell_type": "code",
   "execution_count": 1,
   "id": "b5aa74b6-6395-4094-a622-ad1305b5a5af",
   "metadata": {},
   "outputs": [],
   "source": [
    "import pandas as pd\n",
    "import numpy as np\n",
    "from keras.models import Sequential\n",
    "from keras.layers import Layer, Dense, GRU, Conv1D, Flatten, Dropout, BatchNormalization, MaxPooling2D\n",
    "from tensorflow.keras.utils import to_categorical\n",
    "from keras.callbacks import EarlyStopping\n",
    "from tensorflow.keras import regularizers\n",
    "from tensorflow import keras\n",
    "import matplotlib.pyplot as plt\n",
    "import tensorflow as tf"
   ]
  },
  {
   "cell_type": "code",
   "execution_count": 2,
   "id": "e617e36b-c192-4416-9d52-bda0816378a1",
   "metadata": {},
   "outputs": [],
   "source": [
    "#Leemos los datos de apple\n",
    "apple = pd.read_csv(r\"C:\\Users\\Carlos\\Documents\\MIA-X\\Modulo 4\\Machine Learning\\Redes Convulcionales\\CNN + RNN\\practica_rnn_cnn\\Stocks\\aa.us.txt\", delimiter=\",\")\n",
    "#Me quedo con los datos de apertura\n",
    "open_data = apple['Open'].values\n",
    "close_data = apple['Close'].values"
   ]
  },
  {
   "cell_type": "code",
   "execution_count": 3,
   "id": "59e19c80-e934-4bdf-9c03-6114c545f86d",
   "metadata": {},
   "outputs": [],
   "source": [
    "#Me genero una matriz de ceros con las dimensiones que quiero, n_ejemplos x 5 datos. \n",
    "LAG = 5\n",
    "data = np.zeros((open_data.shape[0]- LAG, LAG))\n",
    "close = np.zeros((close_data.shape[0]- LAG, LAG))"
   ]
  },
  {
   "cell_type": "code",
   "execution_count": 4,
   "id": "42fceac7-e796-460d-ba0c-da3947cf8dcb",
   "metadata": {},
   "outputs": [],
   "source": [
    "#Inserto en la matriz de ceros los datos que necesitamos con el LAG de 5\n",
    "for i in range(0,(open_data.shape[0] - LAG)):\n",
    "    data[i,:] = open_data[i:i+LAG]\n",
    "    close[i,:] = close_data[i:i+LAG]"
   ]
  },
  {
   "cell_type": "code",
   "execution_count": 5,
   "id": "d0e41fd7-ae86-40ef-aac4-fbcb17b160d8",
   "metadata": {},
   "outputs": [
    {
     "data": {
      "text/plain": [
       "12069"
      ]
     },
     "execution_count": 5,
     "metadata": {},
     "output_type": "execute_result"
    }
   ],
   "source": [
    "data.shape[0]"
   ]
  },
  {
   "cell_type": "code",
   "execution_count": 6,
   "id": "857f8e3b-77cd-4130-ace1-267ce08b892a",
   "metadata": {},
   "outputs": [],
   "source": [
    "#Dividimos los datos en x_train, y_train, x_test, y_test, la columna 5 será nuestro label. \n",
    "n_data = data.shape[0]\n",
    "x_train = data[:round(n_data*0.7), :-1]\n",
    "y_train = data[:round(n_data*0.7), -1]\n",
    "x_test = close[round(n_data*0.7):, :-1]\n",
    "y_test = close[round(n_data*0.7):, -1]"
   ]
  },
  {
   "cell_type": "code",
   "execution_count": 7,
   "id": "7bdbec14-fbfe-41cc-9a91-278e076fcf05",
   "metadata": {},
   "outputs": [],
   "source": [
    "#Definimos nuestro modelo\n",
    "#Usaremos return_sequences true para que las dimensiones encajen con las capas convulcionales\n",
    "model = Sequential()\n",
    "\n",
    "model.add(GRU(20, activation = 'relu', input_shape = (4,1), return_sequences = True))\n",
    "model.add(Conv1D(10, kernel_size = 3, activation = 'relu',  \n",
    "                 kernel_regularizer=regularizers.l2(0.01),padding='same'))\n",
    "\n",
    "model.add(Flatten())\n",
    "model.add(Dense(1, activation = 'linear'))"
   ]
  },
  {
   "cell_type": "code",
   "execution_count": 8,
   "id": "d5fca040-5702-48d8-9262-c8db0585982b",
   "metadata": {},
   "outputs": [
    {
     "name": "stdout",
     "output_type": "stream",
     "text": [
      "Model: \"sequential\"\n",
      "_________________________________________________________________\n",
      " Layer (type)                Output Shape              Param #   \n",
      "=================================================================\n",
      " gru (GRU)                   (None, 4, 20)             1380      \n",
      "                                                                 \n",
      " conv1d (Conv1D)             (None, 4, 10)             610       \n",
      "                                                                 \n",
      " flatten (Flatten)           (None, 40)                0         \n",
      "                                                                 \n",
      " dense (Dense)               (None, 1)                 41        \n",
      "                                                                 \n",
      "=================================================================\n",
      "Total params: 2,031\n",
      "Trainable params: 2,031\n",
      "Non-trainable params: 0\n",
      "_________________________________________________________________\n"
     ]
    }
   ],
   "source": [
    "model.summary()"
   ]
  },
  {
   "cell_type": "code",
   "execution_count": 9,
   "id": "f1b803dc-5466-4708-95f0-bd27cb61cf28",
   "metadata": {},
   "outputs": [],
   "source": [
    "model.compile(optimizer='adam',loss='mae')"
   ]
  },
  {
   "cell_type": "code",
   "execution_count": 10,
   "id": "348eb092-3b8f-48d6-bc87-abadaf4c7115",
   "metadata": {},
   "outputs": [
    {
     "name": "stdout",
     "output_type": "stream",
     "text": [
      "Epoch 1/50\n",
      "264/264 [==============================] - 1s 1ms/step - loss: 3.2626\n",
      "Epoch 2/50\n",
      "264/264 [==============================] - 0s 1ms/step - loss: 0.4861\n",
      "Epoch 3/50\n",
      "264/264 [==============================] - 0s 1ms/step - loss: 0.4787\n",
      "Epoch 4/50\n",
      "264/264 [==============================] - 0s 1ms/step - loss: 0.4583\n",
      "Epoch 5/50\n",
      "264/264 [==============================] - 0s 1ms/step - loss: 0.4378\n",
      "Epoch 6/50\n",
      "264/264 [==============================] - 0s 1ms/step - loss: 0.4372\n",
      "Epoch 7/50\n",
      "264/264 [==============================] - 0s 1ms/step - loss: 0.4187\n",
      "Epoch 8/50\n",
      "264/264 [==============================] - 0s 1ms/step - loss: 0.4230\n",
      "Epoch 9/50\n",
      "264/264 [==============================] - 0s 1ms/step - loss: 0.4097\n",
      "Epoch 10/50\n",
      "264/264 [==============================] - 0s 1ms/step - loss: 0.4059\n",
      "Epoch 11/50\n",
      "264/264 [==============================] - 0s 1ms/step - loss: 0.3963\n",
      "Epoch 12/50\n",
      "264/264 [==============================] - 0s 1ms/step - loss: 0.3908\n",
      "Epoch 13/50\n",
      "264/264 [==============================] - 0s 1ms/step - loss: 0.3877\n",
      "Epoch 14/50\n",
      "264/264 [==============================] - 0s 1ms/step - loss: 0.3724\n",
      "Epoch 15/50\n",
      "264/264 [==============================] - 0s 1ms/step - loss: 0.3748\n",
      "Epoch 16/50\n",
      "264/264 [==============================] - 0s 1ms/step - loss: 0.3807\n",
      "Epoch 17/50\n",
      "264/264 [==============================] - 0s 1ms/step - loss: 0.3680\n",
      "Epoch 18/50\n",
      "264/264 [==============================] - 0s 1ms/step - loss: 0.3864\n",
      "Epoch 19/50\n",
      "264/264 [==============================] - 0s 1ms/step - loss: 0.3584\n",
      "Epoch 20/50\n",
      "264/264 [==============================] - 0s 1ms/step - loss: 0.3726\n",
      "Epoch 21/50\n",
      "264/264 [==============================] - 0s 1ms/step - loss: 0.3604\n",
      "Epoch 22/50\n",
      "264/264 [==============================] - 0s 1ms/step - loss: 0.3691\n",
      "Epoch 23/50\n",
      "264/264 [==============================] - 0s 1ms/step - loss: 0.3605\n",
      "Epoch 24/50\n",
      "264/264 [==============================] - 0s 1ms/step - loss: 0.3564\n",
      "Epoch 25/50\n",
      "264/264 [==============================] - 0s 1ms/step - loss: 0.3683\n",
      "Epoch 26/50\n",
      "264/264 [==============================] - 0s 1ms/step - loss: 0.3519\n",
      "Epoch 27/50\n",
      "264/264 [==============================] - 0s 1ms/step - loss: 0.3687\n",
      "Epoch 28/50\n",
      "264/264 [==============================] - 0s 1ms/step - loss: 0.3573\n",
      "Epoch 29/50\n",
      "264/264 [==============================] - 0s 1ms/step - loss: 0.3595\n",
      "Epoch 30/50\n",
      "264/264 [==============================] - 0s 1ms/step - loss: 0.3705\n",
      "Epoch 31/50\n",
      "264/264 [==============================] - 0s 1ms/step - loss: 0.3513\n",
      "Epoch 32/50\n",
      "264/264 [==============================] - 0s 1ms/step - loss: 0.3497\n",
      "Epoch 33/50\n",
      "264/264 [==============================] - 0s 1ms/step - loss: 0.3416\n",
      "Epoch 34/50\n",
      "264/264 [==============================] - 0s 1ms/step - loss: 0.3497\n",
      "Epoch 35/50\n",
      "264/264 [==============================] - 0s 1ms/step - loss: 0.3454\n",
      "Epoch 36/50\n",
      "264/264 [==============================] - 0s 1ms/step - loss: 0.3522\n",
      "Epoch 37/50\n",
      "264/264 [==============================] - 0s 1ms/step - loss: 0.3468\n",
      "Epoch 38/50\n",
      "264/264 [==============================] - 0s 1ms/step - loss: 0.3450\n",
      "Epoch 39/50\n",
      "264/264 [==============================] - 0s 1ms/step - loss: 0.3394\n",
      "Epoch 40/50\n",
      "264/264 [==============================] - 0s 1ms/step - loss: 0.3473\n",
      "Epoch 41/50\n",
      "264/264 [==============================] - 0s 1ms/step - loss: 0.3464\n",
      "Epoch 42/50\n",
      "264/264 [==============================] - 0s 1ms/step - loss: 0.3513\n",
      "Epoch 43/50\n",
      "264/264 [==============================] - 0s 1ms/step - loss: 0.3458\n",
      "Epoch 44/50\n",
      "264/264 [==============================] - 0s 1ms/step - loss: 0.3480\n",
      "Epoch 45/50\n",
      "264/264 [==============================] - 0s 1ms/step - loss: 0.3511\n",
      "Epoch 46/50\n",
      "264/264 [==============================] - 0s 1ms/step - loss: 0.3379\n",
      "Epoch 47/50\n",
      "264/264 [==============================] - 0s 1ms/step - loss: 0.3439\n",
      "Epoch 48/50\n",
      "264/264 [==============================] - 0s 1ms/step - loss: 0.3413\n",
      "Epoch 49/50\n",
      "264/264 [==============================] - 0s 1ms/step - loss: 0.3368\n",
      "Epoch 50/50\n",
      "264/264 [==============================] - 0s 1ms/step - loss: 0.3389\n"
     ]
    }
   ],
   "source": [
    "history_convulcional = model.fit(x_train, y_train,  epochs=50)"
   ]
  },
  {
   "cell_type": "code",
   "execution_count": 11,
   "id": "366c7b08-2006-4830-9952-f1d0c88ae7a6",
   "metadata": {},
   "outputs": [
    {
     "name": "stdout",
     "output_type": "stream",
     "text": [
      "114/114 [==============================] - 0s 778us/step - loss: 0.7155\n"
     ]
    },
    {
     "data": {
      "text/plain": [
       "0.7154545187950134"
      ]
     },
     "execution_count": 11,
     "metadata": {},
     "output_type": "execute_result"
    }
   ],
   "source": [
    "model.evaluate(x_test, y_test)"
   ]
  },
  {
   "cell_type": "markdown",
   "id": "972ae38d-d2f1-4f56-85fc-5e500e95b2a1",
   "metadata": {},
   "source": [
    "Hemos obtenido un resultado similar al del ejercicio anterior."
   ]
  }
 ],
 "metadata": {
  "kernelspec": {
   "display_name": "Python 3",
   "language": "python",
   "name": "python3"
  },
  "language_info": {
   "codemirror_mode": {
    "name": "ipython",
    "version": 3
   },
   "file_extension": ".py",
   "mimetype": "text/x-python",
   "name": "python",
   "nbconvert_exporter": "python",
   "pygments_lexer": "ipython3",
   "version": "3.8.8"
  }
 },
 "nbformat": 4,
 "nbformat_minor": 5
}
