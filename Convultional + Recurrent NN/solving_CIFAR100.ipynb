{
 "cells": [
  {
   "cell_type": "markdown",
   "metadata": {
    "id": "J8gzHbwZmtO2"
   },
   "source": [
    "# Ejemplo de CNN 2D en la base de datos cifar100"
   ]
  },
  {
   "cell_type": "code",
   "execution_count": 2,
   "metadata": {
    "colab": {
     "base_uri": "https://localhost:8080/"
    },
    "executionInfo": {
     "elapsed": 2384,
     "status": "ok",
     "timestamp": 1605606550819,
     "user": {
      "displayName": "Valero Laparra",
      "photoUrl": "",
      "userId": "00355299981903664579"
     },
     "user_tz": -60
    },
    "id": "Ub8IUhmduJ7y",
    "outputId": "1765b2d2-b8f2-449d-e350-dd350dd173ad"
   },
   "outputs": [
    {
     "name": "stdout",
     "output_type": "stream",
     "text": [
      "2.8.0\n"
     ]
    }
   ],
   "source": [
    "from __future__ import absolute_import, division, print_function, unicode_literals\n",
    "# Installa TensorFlow\n",
    "import tensorflow as tf\n",
    "print(tf.__version__)"
   ]
  },
  {
   "cell_type": "code",
   "execution_count": 14,
   "metadata": {
    "colab": {
     "base_uri": "https://localhost:8080/"
    },
    "executionInfo": {
     "elapsed": 16033,
     "status": "ok",
     "timestamp": 1605606564475,
     "user": {
      "displayName": "Valero Laparra",
      "photoUrl": "",
      "userId": "00355299981903664579"
     },
     "user_tz": -60
    },
    "id": "LAd5BiAPnbqr",
    "outputId": "dbd8cffa-3703-4605-8e6d-a352fef8ec38"
   },
   "outputs": [],
   "source": [
    "# descargamos los datos cifar100 y los partimos en train y test\n",
    "import ssl\n",
    "ssl._create_default_https_context = ssl._create_unverified_context\n",
    "(X_train, y_train), (X_test, y_test) = tf.keras.datasets.cifar100.load_data()"
   ]
  },
  {
   "cell_type": "code",
   "execution_count": 17,
   "metadata": {
    "colab": {
     "base_uri": "https://localhost:8080/"
    },
    "executionInfo": {
     "elapsed": 973,
     "status": "ok",
     "timestamp": 1605606695494,
     "user": {
      "displayName": "Valero Laparra",
      "photoUrl": "",
      "userId": "00355299981903664579"
     },
     "user_tz": -60
    },
    "id": "CVrsjJ0ypgKS",
    "outputId": "ec22d7fe-607a-4048-ce71-cb2c49529e94"
   },
   "outputs": [
    {
     "name": "stdout",
     "output_type": "stream",
     "text": [
      "(50000, 32, 32, 3)\n"
     ]
    }
   ],
   "source": [
    "# Tamaño de los datos (#datos,#lado,#alto,#canales)\n",
    "print(X_train.shape)"
   ]
  },
  {
   "cell_type": "code",
   "execution_count": 6,
   "metadata": {
    "colab": {
     "base_uri": "https://localhost:8080/",
     "height": 283
    },
    "executionInfo": {
     "elapsed": 1265,
     "status": "ok",
     "timestamp": 1605606716352,
     "user": {
      "displayName": "Valero Laparra",
      "photoUrl": "",
      "userId": "00355299981903664579"
     },
     "user_tz": -60
    },
    "id": "idhLs1p7ngXV",
    "outputId": "b013a81d-6035-4f2f-afa9-50a1cafff34c"
   },
   "outputs": [
    {
     "data": {
      "text/plain": [
       "<matplotlib.image.AxesImage at 0x1fdd75c5460>"
      ]
     },
     "execution_count": 6,
     "metadata": {},
     "output_type": "execute_result"
    },
    {
     "data": {
      "image/png": "[encoded data removed]",
      "text/plain": [
       "<Figure size 432x288 with 1 Axes>"
      ]
     },
     "metadata": {
      "needs_background": "light"
     },
     "output_type": "display_data"
    }
   ],
   "source": [
    "import matplotlib.pyplot as plt\n",
    "\n",
    "# enseñamos la primera imagen del dataset\n",
    "plt.imshow(X_train[0],cmap=\"gray\")"
   ]
  },
  {
   "cell_type": "code",
   "execution_count": 15,
   "metadata": {
    "executionInfo": {
     "elapsed": 1350,
     "status": "ok",
     "timestamp": 1605606753308,
     "user": {
      "displayName": "Valero Laparra",
      "photoUrl": "",
      "userId": "00355299981903664579"
     },
     "user_tz": -60
    },
    "id": "0sE_9bAEnsmw"
   },
   "outputs": [],
   "source": [
    "# one-hot encoding en las 'y'\n",
    "from tensorflow.keras.utils import to_categorical\n",
    "\n",
    "y_train = to_categorical(y_train)\n",
    "y_test = to_categorical(y_test)\n"
   ]
  },
  {
   "cell_type": "markdown",
   "metadata": {
    "id": "SF5CgUo8nt1w"
   },
   "source": [
    "Modelo"
   ]
  },
  {
   "cell_type": "code",
   "execution_count": 19,
   "metadata": {
    "executionInfo": {
     "elapsed": 6632,
     "status": "ok",
     "timestamp": 1605606784422,
     "user": {
      "displayName": "Valero Laparra",
      "photoUrl": "",
      "userId": "00355299981903664579"
     },
     "user_tz": -60
    },
    "id": "uQHWqWS5nt6y"
   },
   "outputs": [],
   "source": [
    "# Hacemos un modelo con varias capas\n",
    "\n",
    "from tensorflow.keras.models import Sequential\n",
    "from tensorflow.keras.layers import Dense, Conv2D, Flatten, BatchNormalization, Dropout\n",
    "from tensorflow.keras import regularizers\n",
    "\n",
    "#crear modelo\n",
    "model = Sequential()\n",
    "\n",
    "#Vamos añadiendo capas\n",
    "model.add(Conv2D(64, kernel_size=3, activation='relu', input_shape=(32,32,3),\n",
    "                activity_regularizer=regularizers.l1(0.2)))\n",
    "model.add(BatchNormalization())\n",
    "model.add(Dropout(0.3))\n",
    "model.add(Conv2D(32, kernel_size=3, activation='relu',\n",
    "                activity_regularizer=regularizers.l1(0.2)))\n",
    "model.add(BatchNormalization())\n",
    "model.add(Dropout(0.3))\n",
    "model.add(Conv2D(16, kernel_size=3, activation='relu',\n",
    "                activity_regularizer=regularizers.l1(0.2)))\n",
    "model.add(BatchNormalization())\n",
    "model.add(Dropout(0.3))\n",
    "model.add(Flatten())\n",
    "model.add(Dense(100, activation='softmax'))"
   ]
  },
  {
   "cell_type": "code",
   "execution_count": 20,
   "metadata": {
    "executionInfo": {
     "elapsed": 2054,
     "status": "ok",
     "timestamp": 1605606803272,
     "user": {
      "displayName": "Valero Laparra",
      "photoUrl": "",
      "userId": "00355299981903664579"
     },
     "user_tz": -60
    },
    "id": "Uqup8SlMnwU0"
   },
   "outputs": [],
   "source": [
    "# Compilamos el modelo\n",
    "model.compile(optimizer='adam', loss='categorical_crossentropy', metrics=['accuracy'])"
   ]
  },
  {
   "cell_type": "code",
   "execution_count": 21,
   "metadata": {
    "colab": {
     "base_uri": "https://localhost:8080/"
    },
    "executionInfo": {
     "elapsed": 1512,
     "status": "ok",
     "timestamp": 1605606817517,
     "user": {
      "displayName": "Valero Laparra",
      "photoUrl": "",
      "userId": "00355299981903664579"
     },
     "user_tz": -60
    },
    "id": "RU9EdH30DYv7",
    "outputId": "092570a0-7ec2-47f3-c8d5-33182a0a685e"
   },
   "outputs": [
    {
     "name": "stdout",
     "output_type": "stream",
     "text": [
      "Model: \"sequential_1\"\n",
      "_________________________________________________________________\n",
      " Layer (type)                Output Shape              Param #   \n",
      "=================================================================\n",
      " conv2d_3 (Conv2D)           (None, 30, 30, 64)        1792      \n",
      "                                                                 \n",
      " batch_normalization_3 (Batc  (None, 30, 30, 64)       256       \n",
      " hNormalization)                                                 \n",
      "                                                                 \n",
      " dropout_3 (Dropout)         (None, 30, 30, 64)        0         \n",
      "                                                                 \n",
      " conv2d_4 (Conv2D)           (None, 28, 28, 32)        18464     \n",
      "                                                                 \n",
      " batch_normalization_4 (Batc  (None, 28, 28, 32)       128       \n",
      " hNormalization)                                                 \n",
      "                                                                 \n",
      " dropout_4 (Dropout)         (None, 28, 28, 32)        0         \n",
      "                                                                 \n",
      " conv2d_5 (Conv2D)           (None, 26, 26, 16)        4624      \n",
      "                                                                 \n",
      " batch_normalization_5 (Batc  (None, 26, 26, 16)       64        \n",
      " hNormalization)                                                 \n",
      "                                                                 \n",
      " dropout_5 (Dropout)         (None, 26, 26, 16)        0         \n",
      "                                                                 \n",
      " flatten_1 (Flatten)         (None, 10816)             0         \n",
      "                                                                 \n",
      " dense_1 (Dense)             (None, 100)               1081700   \n",
      "                                                                 \n",
      "=================================================================\n",
      "Total params: 1,107,028\n",
      "Trainable params: 1,106,804\n",
      "Non-trainable params: 224\n",
      "_________________________________________________________________\n"
     ]
    }
   ],
   "source": [
    "# Este es el modelo\n",
    "model.summary()"
   ]
  },
  {
   "cell_type": "code",
   "execution_count": 22,
   "metadata": {
    "executionInfo": {
     "elapsed": 1349,
     "status": "ok",
     "timestamp": 1605606842149,
     "user": {
      "displayName": "Valero Laparra",
      "photoUrl": "",
      "userId": "00355299981903664579"
     },
     "user_tz": -60
    },
    "id": "gKgh5QPeNsxR"
   },
   "outputs": [],
   "source": [
    "# Vamos a usar el callback de earlystopping\n",
    "from keras.callbacks import EarlyStopping\n",
    "early_stopping = EarlyStopping(monitor='val_loss', patience=12, min_delta=0.01)"
   ]
  },
  {
   "cell_type": "code",
   "execution_count": 23,
   "metadata": {
    "colab": {
     "base_uri": "https://localhost:8080/"
    },
    "executionInfo": {
     "elapsed": 163340,
     "status": "ok",
     "timestamp": 1605607007346,
     "user": {
      "displayName": "Valero Laparra",
      "photoUrl": "",
      "userId": "00355299981903664579"
     },
     "user_tz": -60
    },
    "id": "LjNKLB6Tn7gR",
    "outputId": "c29d0460-48a0-4429-c462-87f97b22ad5d"
   },
   "outputs": [
    {
     "name": "stdout",
     "output_type": "stream",
     "text": [
      "Epoch 1/50\n",
      "110/110 [==============================] - 12s 107ms/step - loss: 12177.9316 - accuracy: 0.0154 - val_loss: 1481.5311 - val_accuracy: 0.0093\n",
      "Epoch 2/50\n",
      "110/110 [==============================] - 12s 105ms/step - loss: 90.4663 - accuracy: 0.0160 - val_loss: 58.5222 - val_accuracy: 0.0113\n",
      "Epoch 3/50\n",
      "110/110 [==============================] - 12s 109ms/step - loss: 51.5117 - accuracy: 0.0169 - val_loss: 40.8044 - val_accuracy: 0.0093\n",
      "Epoch 4/50\n",
      "110/110 [==============================] - 12s 107ms/step - loss: 36.2075 - accuracy: 0.0166 - val_loss: 31.3161 - val_accuracy: 0.0093\n",
      "Epoch 5/50\n",
      "110/110 [==============================] - 12s 107ms/step - loss: 27.6781 - accuracy: 0.0126 - val_loss: 25.4033 - val_accuracy: 0.0113\n",
      "Epoch 6/50\n",
      "110/110 [==============================] - 12s 107ms/step - loss: 22.4529 - accuracy: 0.0154 - val_loss: 21.3356 - val_accuracy: 0.0080\n",
      "Epoch 7/50\n",
      "110/110 [==============================] - 12s 107ms/step - loss: 18.8512 - accuracy: 0.0169 - val_loss: 18.3724 - val_accuracy: 0.0080\n",
      "Epoch 8/50\n",
      "110/110 [==============================] - 12s 106ms/step - loss: 16.2309 - accuracy: 0.0169 - val_loss: 16.1439 - val_accuracy: 0.0080\n",
      "Epoch 9/50\n",
      "110/110 [==============================] - 12s 112ms/step - loss: 14.2889 - accuracy: 0.0166 - val_loss: 14.4508 - val_accuracy: 0.0080\n",
      "Epoch 10/50\n",
      "110/110 [==============================] - 13s 119ms/step - loss: 12.8061 - accuracy: 0.0166 - val_loss: 13.1021 - val_accuracy: 0.0080\n",
      "Epoch 11/50\n",
      "110/110 [==============================] - 12s 107ms/step - loss: 11.6521 - accuracy: 0.0157 - val_loss: 12.0122 - val_accuracy: 0.0080\n",
      "Epoch 12/50\n",
      "110/110 [==============================] - 13s 115ms/step - loss: 10.6897 - accuracy: 0.0166 - val_loss: 11.1118 - val_accuracy: 0.0080\n",
      "Epoch 13/50\n",
      "110/110 [==============================] - 13s 118ms/step - loss: 9.9195 - accuracy: 0.0163 - val_loss: 10.3542 - val_accuracy: 0.0080\n",
      "Epoch 14/50\n",
      "110/110 [==============================] - 13s 114ms/step - loss: 9.2706 - accuracy: 0.0146 - val_loss: 9.7134 - val_accuracy: 0.0113\n",
      "Epoch 15/50\n",
      "110/110 [==============================] - 12s 109ms/step - loss: 8.7177 - accuracy: 0.0166 - val_loss: 9.1798 - val_accuracy: 0.0080\n",
      "Epoch 16/50\n",
      "110/110 [==============================] - 12s 111ms/step - loss: 8.2583 - accuracy: 0.0157 - val_loss: 8.7032 - val_accuracy: 0.0080\n",
      "Epoch 17/50\n",
      "110/110 [==============================] - 12s 108ms/step - loss: 7.8700 - accuracy: 0.0166 - val_loss: 8.3051 - val_accuracy: 0.0080\n",
      "Epoch 18/50\n",
      "110/110 [==============================] - 12s 109ms/step - loss: 7.5255 - accuracy: 0.0154 - val_loss: 7.9597 - val_accuracy: 0.0080\n",
      "Epoch 19/50\n",
      "110/110 [==============================] - 12s 110ms/step - loss: 7.2345 - accuracy: 0.0160 - val_loss: 7.6641 - val_accuracy: 0.0080\n",
      "Epoch 20/50\n",
      "110/110 [==============================] - 12s 108ms/step - loss: 6.9754 - accuracy: 0.0154 - val_loss: 7.4004 - val_accuracy: 0.0080\n",
      "Epoch 21/50\n",
      "110/110 [==============================] - 13s 114ms/step - loss: 6.7554 - accuracy: 0.0166 - val_loss: 7.1611 - val_accuracy: 0.0087\n",
      "Epoch 22/50\n",
      "110/110 [==============================] - 13s 114ms/step - loss: 6.5454 - accuracy: 0.0149 - val_loss: 6.9464 - val_accuracy: 0.0087\n",
      "Epoch 23/50\n",
      "110/110 [==============================] - 12s 110ms/step - loss: 6.3644 - accuracy: 0.0154 - val_loss: 6.7511 - val_accuracy: 0.0120\n",
      "Epoch 24/50\n",
      "110/110 [==============================] - 12s 109ms/step - loss: 6.2070 - accuracy: 0.0157 - val_loss: 6.5961 - val_accuracy: 0.0113\n",
      "Epoch 25/50\n",
      "110/110 [==============================] - 12s 108ms/step - loss: 6.0719 - accuracy: 0.0151 - val_loss: 6.4396 - val_accuracy: 0.0087\n",
      "Epoch 26/50\n",
      "110/110 [==============================] - 12s 112ms/step - loss: 5.9397 - accuracy: 0.0146 - val_loss: 6.2909 - val_accuracy: 0.0140\n",
      "Epoch 27/50\n",
      "110/110 [==============================] - 12s 113ms/step - loss: 5.8241 - accuracy: 0.0146 - val_loss: 6.1725 - val_accuracy: 0.0140\n",
      "Epoch 28/50\n",
      "110/110 [==============================] - 12s 106ms/step - loss: 5.7234 - accuracy: 0.0163 - val_loss: 6.0510 - val_accuracy: 0.0080\n",
      "Epoch 29/50\n",
      "110/110 [==============================] - 12s 108ms/step - loss: 5.6272 - accuracy: 0.0143 - val_loss: 5.9451 - val_accuracy: 0.0080\n",
      "Epoch 30/50\n",
      "110/110 [==============================] - 12s 107ms/step - loss: 5.5524 - accuracy: 0.0166 - val_loss: 5.9476 - val_accuracy: 0.0080\n",
      "Epoch 31/50\n",
      "110/110 [==============================] - 12s 109ms/step - loss: 5.4865 - accuracy: 0.0163 - val_loss: 5.7673 - val_accuracy: 0.0087\n",
      "Epoch 32/50\n",
      "110/110 [==============================] - 12s 107ms/step - loss: 5.3954 - accuracy: 0.0154 - val_loss: 5.6912 - val_accuracy: 0.0080\n",
      "Epoch 33/50\n",
      "110/110 [==============================] - 12s 107ms/step - loss: 5.3313 - accuracy: 0.0149 - val_loss: 5.6150 - val_accuracy: 0.0080\n",
      "Epoch 34/50\n",
      "110/110 [==============================] - 12s 110ms/step - loss: 5.2770 - accuracy: 0.0160 - val_loss: 5.5490 - val_accuracy: 0.0080\n",
      "Epoch 35/50\n",
      "110/110 [==============================] - 12s 109ms/step - loss: 5.2216 - accuracy: 0.0160 - val_loss: 5.4887 - val_accuracy: 0.0080\n",
      "Epoch 36/50\n",
      "110/110 [==============================] - 11s 105ms/step - loss: 5.1743 - accuracy: 0.0157 - val_loss: 5.4402 - val_accuracy: 0.0113\n",
      "Epoch 37/50\n",
      "110/110 [==============================] - 12s 110ms/step - loss: 5.1328 - accuracy: 0.0157 - val_loss: 5.3866 - val_accuracy: 0.0107\n",
      "Epoch 38/50\n",
      "110/110 [==============================] - 12s 109ms/step - loss: 5.0913 - accuracy: 0.0160 - val_loss: 5.3279 - val_accuracy: 0.0080\n",
      "Epoch 39/50\n",
      "110/110 [==============================] - 13s 116ms/step - loss: 5.0528 - accuracy: 0.0151 - val_loss: 5.2909 - val_accuracy: 0.0113\n",
      "Epoch 40/50\n",
      "110/110 [==============================] - 13s 123ms/step - loss: 5.0179 - accuracy: 0.0177 - val_loss: 5.2347 - val_accuracy: 0.0080\n",
      "Epoch 41/50\n",
      "110/110 [==============================] - 13s 120ms/step - loss: 4.9866 - accuracy: 0.0140 - val_loss: 5.2064 - val_accuracy: 0.0107\n",
      "Epoch 42/50\n",
      "110/110 [==============================] - 13s 117ms/step - loss: 4.9572 - accuracy: 0.0154 - val_loss: 5.1655 - val_accuracy: 0.0113\n",
      "Epoch 43/50\n",
      "110/110 [==============================] - 12s 111ms/step - loss: 4.9300 - accuracy: 0.0189 - val_loss: 5.1372 - val_accuracy: 0.0080\n",
      "Epoch 44/50\n",
      "110/110 [==============================] - 13s 120ms/step - loss: 4.9059 - accuracy: 0.0163 - val_loss: 5.1013 - val_accuracy: 0.0080\n",
      "Epoch 45/50\n",
      "110/110 [==============================] - 12s 108ms/step - loss: 4.8843 - accuracy: 0.0140 - val_loss: 5.0643 - val_accuracy: 0.0080\n",
      "Epoch 46/50\n",
      "110/110 [==============================] - 12s 107ms/step - loss: 4.8663 - accuracy: 0.0146 - val_loss: 5.0459 - val_accuracy: 0.0093\n",
      "Epoch 47/50\n",
      "110/110 [==============================] - 12s 109ms/step - loss: 4.8472 - accuracy: 0.0160 - val_loss: 5.0176 - val_accuracy: 0.0127\n",
      "Epoch 48/50\n",
      "110/110 [==============================] - 12s 112ms/step - loss: 4.8359 - accuracy: 0.0177 - val_loss: 5.0021 - val_accuracy: 0.0087\n",
      "Epoch 49/50\n",
      "110/110 [==============================] - 12s 110ms/step - loss: 4.8160 - accuracy: 0.0160 - val_loss: 4.9830 - val_accuracy: 0.0080\n",
      "Epoch 50/50\n",
      "110/110 [==============================] - 12s 107ms/step - loss: 4.8043 - accuracy: 0.0163 - val_loss: 4.9634 - val_accuracy: 0.0080\n"
     ]
    }
   ],
   "source": [
    "# Entrenamos\n",
    "hist = model.fit(X_train, y_train, validation_split=0.3, epochs=50, callbacks=[early_stopping])"
   ]
  },
  {
   "cell_type": "code",
   "execution_count": 24,
   "metadata": {
    "colab": {
     "base_uri": "https://localhost:8080/"
    },
    "executionInfo": {
     "elapsed": 3478,
     "status": "ok",
     "timestamp": 1605607085303,
     "user": {
      "displayName": "Valero Laparra",
      "photoUrl": "",
      "userId": "00355299981903664579"
     },
     "user_tz": -60
    },
    "id": "194RRmusoEC7",
    "outputId": "f9d5c746-c636-4c09-f647-d4a7c2fd901d"
   },
   "outputs": [
    {
     "name": "stdout",
     "output_type": "stream",
     "text": [
      "157/157 [==============================] - 2s 13ms/step - loss: 4.8386 - accuracy: 0.0112\n"
     ]
    },
    {
     "data": {
      "text/plain": [
       "[4.838570594787598, 0.01119999960064888]"
      ]
     },
     "execution_count": 24,
     "metadata": {},
     "output_type": "execute_result"
    }
   ],
   "source": [
    "# Evaluamos el modelo\n",
    "score = model.evaluate(X_test,y_test)\n",
    "score"
   ]
  },
  {
   "cell_type": "code",
   "execution_count": 25,
   "metadata": {
    "colab": {
     "base_uri": "https://localhost:8080/",
     "height": 282
    },
    "executionInfo": {
     "elapsed": 1935,
     "status": "ok",
     "timestamp": 1605607111638,
     "user": {
      "displayName": "Valero Laparra",
      "photoUrl": "",
      "userId": "00355299981903664579"
     },
     "user_tz": -60
    },
    "id": "9LiatwSPoPT7",
    "outputId": "4a2c4625-99d2-49d3-a34d-b3aeba235cca"
   },
   "outputs": [
    {
     "data": {
      "text/plain": [
       "<matplotlib.legend.Legend at 0x1fdda73a580>"
      ]
     },
     "execution_count": 25,
     "metadata": {},
     "output_type": "execute_result"
    },
    {
     "data": {
      "image/png": "[encoded data removed]",
      "text/plain": [
       "<Figure size 432x288 with 1 Axes>"
      ]
     },
     "metadata": {
      "needs_background": "light"
     },
     "output_type": "display_data"
    }
   ],
   "source": [
    "# Ploteamos la evolucion del loss durante el entrenamiento\n",
    "import matplotlib.pyplot as plt\n",
    "\n",
    "%matplotlib inline\n",
    "\n",
    "plt.figure\n",
    "plt.plot(hist.history['loss'],label=\"loss\")\n",
    "plt.plot(hist.history['val_loss'],label=\"val_loss\")\n",
    "plt.legend()\n"
   ]
  },
  {
   "cell_type": "code",
   "execution_count": 26,
   "metadata": {
    "colab": {
     "base_uri": "https://localhost:8080/",
     "height": 282
    },
    "executionInfo": {
     "elapsed": 2441,
     "status": "ok",
     "timestamp": 1605607125616,
     "user": {
      "displayName": "Valero Laparra",
      "photoUrl": "",
      "userId": "00355299981903664579"
     },
     "user_tz": -60
    },
    "id": "u2arW_sOqI3c",
    "outputId": "77052df8-3af9-414b-cabd-7067c82ee956"
   },
   "outputs": [
    {
     "data": {
      "text/plain": [
       "<matplotlib.legend.Legend at 0x1fdda7b7220>"
      ]
     },
     "execution_count": 26,
     "metadata": {},
     "output_type": "execute_result"
    },
    {
     "data": {
      "image/png": "[encoded data removed]",
      "text/plain": [
       "<Figure size 432x288 with 1 Axes>"
      ]
     },
     "metadata": {
      "needs_background": "light"
     },
     "output_type": "display_data"
    }
   ],
   "source": [
    "# Ploteamos la evolucion del accuracy durante el entrenamiento\n",
    "import matplotlib.pyplot as plt\n",
    "\n",
    "%matplotlib inline\n",
    "\n",
    "plt.figure\n",
    "plt.plot(hist.history['accuracy'],label=\"accuracy\")\n",
    "plt.plot(hist.history['val_accuracy'],label=\"val_accuracy\")\n",
    "plt.legend()\n"
   ]
  },
  {
   "cell_type": "code",
   "execution_count": 27,
   "metadata": {
    "colab": {
     "base_uri": "https://localhost:8080/"
    },
    "executionInfo": {
     "elapsed": 1604,
     "status": "ok",
     "timestamp": 1605607129881,
     "user": {
      "displayName": "Valero Laparra",
      "photoUrl": "",
      "userId": "00355299981903664579"
     },
     "user_tz": -60
    },
    "id": "7mN0MrhorXQu",
    "outputId": "54a7bffc-6d30-468f-d23a-cb5a7f3fde6a"
   },
   "outputs": [
    {
     "data": {
      "text/plain": [
       "(5000, 100)"
      ]
     },
     "execution_count": 27,
     "metadata": {},
     "output_type": "execute_result"
    }
   ],
   "source": [
    "# Predecimos sobre test\n",
    "preds_test = model.predict(X_test)\n",
    "preds_test.shape"
   ]
  },
  {
   "cell_type": "code",
   "execution_count": 34,
   "metadata": {
    "colab": {
     "base_uri": "https://localhost:8080/",
     "height": 283
    },
    "executionInfo": {
     "elapsed": 3675,
     "status": "ok",
     "timestamp": 1605607446524,
     "user": {
      "displayName": "Valero Laparra",
      "photoUrl": "",
      "userId": "00355299981903664579"
     },
     "user_tz": -60
    },
    "id": "WizGQiTup87z",
    "outputId": "bd58bf21-c6e0-4b7f-f28b-e16e5713835e"
   },
   "outputs": [
    {
     "name": "stdout",
     "output_type": "stream",
     "text": [
      "64\n"
     ]
    },
    {
     "data": {
      "image/png": "[encoded data removed]",
      "text/plain": [
       "<Figure size 432x288 with 1 Axes>"
      ]
     },
     "metadata": {
      "needs_background": "light"
     },
     "output_type": "display_data"
    }
   ],
   "source": [
    "import numpy as np\n",
    "# Elegimos una imagen de test\n",
    "idx_mostrar = 4000\n",
    "# Mostramos la imagen\n",
    "plt.imshow(X_test[idx_mostrar,:,:,:])\n",
    "# Mostramos las probabilidades que da el modelo a cada clase\n",
    "print(np.argmax(preds_test[idx_mostrar]))"
   ]
  },
  {
   "cell_type": "code",
   "execution_count": null,
   "metadata": {
    "id": "oF7Raj64qHvq"
   },
   "outputs": [],
   "source": []
  }
 ],
 "metadata": {
  "accelerator": "GPU",
  "colab": {
   "collapsed_sections": [],
   "name": "CNN_cifar100_tf2.ipynb",
   "provenance": []
  },
  "kernelspec": {
   "display_name": "Python 3",
   "language": "python",
   "name": "python3"
  },
  "language_info": {
   "codemirror_mode": {
    "name": "ipython",
    "version": 3
   },
   "file_extension": ".py",
   "mimetype": "text/x-python",
   "name": "python",
   "nbconvert_exporter": "python",
   "pygments_lexer": "ipython3",
   "version": "3.8.8"
  }
 },
 "nbformat": 4,
 "nbformat_minor": 4
}
