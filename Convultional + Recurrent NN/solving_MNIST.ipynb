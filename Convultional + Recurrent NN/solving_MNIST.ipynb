{
 "cells": [
  {
   "cell_type": "markdown",
   "metadata": {
    "id": "uWufgzw_tf20"
   },
   "source": [
    "# Ejemplo de uso de CNN\n",
    "# en los datos de MNIST"
   ]
  },
  {
   "cell_type": "markdown",
   "metadata": {
    "id": "RvUnVwrNtnuY"
   },
   "source": [
    "leemos los datos"
   ]
  },
  {
   "cell_type": "code",
   "execution_count": 1,
   "metadata": {
    "colab": {
     "base_uri": "https://localhost:8080/"
    },
    "executionInfo": {
     "elapsed": 2817,
     "status": "ok",
     "timestamp": 1620473358070,
     "user": {
      "displayName": "Valero Laparra",
      "photoUrl": "",
      "userId": "00355299981903664579"
     },
     "user_tz": -120
    },
    "id": "GJzzBMOltfOb",
    "outputId": "ee6b5a8a-ae49-4051-f7da-c5e66013f5e3"
   },
   "outputs": [
    {
     "name": "stdout",
     "output_type": "stream",
     "text": [
      "Downloading data from https://storage.googleapis.com/tensorflow/tf-keras-datasets/mnist.npz\n",
      "11493376/11490434 [==============================] - 0s 0us/step\n"
     ]
    }
   ],
   "source": [
    "from keras.datasets import mnist\n",
    "\n",
    "# descargamos separados en entrenamiento y tes\n",
    "(X_train, y_train), (X_test, y_test) = mnist.load_data()"
   ]
  },
  {
   "cell_type": "code",
   "execution_count": 3,
   "metadata": {
    "colab": {
     "base_uri": "https://localhost:8080/"
    },
    "executionInfo": {
     "elapsed": 499,
     "status": "ok",
     "timestamp": 1620473383375,
     "user": {
      "displayName": "Valero Laparra",
      "photoUrl": "",
      "userId": "00355299981903664579"
     },
     "user_tz": -120
    },
    "id": "CVrsjJ0ypgKS",
    "outputId": "a441139e-9840-4132-d92f-fa0dc9bf7c74"
   },
   "outputs": [
    {
     "name": "stdout",
     "output_type": "stream",
     "text": [
      "(60000, 28, 28)\n",
      "(60000,)\n"
     ]
    }
   ],
   "source": [
    "# tamaño de los datos\n",
    "print(X_train.shape)\n",
    "print(y_train.shape)"
   ]
  },
  {
   "cell_type": "markdown",
   "metadata": {
    "id": "IGu7xoCJtqnG"
   },
   "source": [
    "Vemos una imagen"
   ]
  },
  {
   "cell_type": "code",
   "execution_count": 4,
   "metadata": {
    "colab": {
     "base_uri": "https://localhost:8080/",
     "height": 282
    },
    "executionInfo": {
     "elapsed": 824,
     "status": "ok",
     "timestamp": 1620473385130,
     "user": {
      "displayName": "Valero Laparra",
      "photoUrl": "",
      "userId": "00355299981903664579"
     },
     "user_tz": -120
    },
    "id": "idhLs1p7ngXV",
    "outputId": "1c4bec45-0414-459c-c50b-169407349516"
   },
   "outputs": [
    {
     "name": "stdout",
     "output_type": "stream",
     "text": [
      "5\n"
     ]
    },
    {
     "data": {
      "image/png": "[encoded data removed]",
      "text/plain": [
       "<Figure size 432x288 with 1 Axes>"
      ]
     },
     "metadata": {
      "needs_background": "light",
      "tags": []
     },
     "output_type": "display_data"
    }
   ],
   "source": [
    "import matplotlib.pyplot as plt\n",
    "\n",
    "#plot the first image in the dataset\n",
    "plt.imshow(X_train[0,:,:],cmap='gray')\n",
    "\n",
    "# Mostramos la etiqueta de la imagen\n",
    "print(y_train[0])"
   ]
  },
  {
   "cell_type": "markdown",
   "metadata": {
    "id": "j78jBp5OttjT"
   },
   "source": [
    "Reordenamos los datos para que tengan \n",
    "(Nº muestras, alto, lado, canales)"
   ]
  },
  {
   "cell_type": "code",
   "execution_count": 5,
   "metadata": {
    "executionInfo": {
     "elapsed": 517,
     "status": "ok",
     "timestamp": 1620473397848,
     "user": {
      "displayName": "Valero Laparra",
      "photoUrl": "",
      "userId": "00355299981903664579"
     },
     "user_tz": -120
    },
    "id": "1wljVbn9nkLF"
   },
   "outputs": [],
   "source": [
    "X_train = X_train.reshape(60000,28,28,1)\n",
    "X_test = X_test.reshape(10000,28,28,1)"
   ]
  },
  {
   "cell_type": "markdown",
   "metadata": {
    "id": "ENs3C1Ykt77G"
   },
   "source": [
    "Separamos train y test"
   ]
  },
  {
   "cell_type": "code",
   "execution_count": 6,
   "metadata": {
    "executionInfo": {
     "elapsed": 331,
     "status": "ok",
     "timestamp": 1620473400386,
     "user": {
      "displayName": "Valero Laparra",
      "photoUrl": "",
      "userId": "00355299981903664579"
     },
     "user_tz": -120
    },
    "id": "KpM0Nmk6pS7B"
   },
   "outputs": [],
   "source": [
    "X_train = X_train[0:1000,:,:,:]\n",
    "X_test = X_test[0:1000,:,:,:]\n",
    "y_train = y_train[0:1000]\n",
    "y_test = y_test[0:1000]"
   ]
  },
  {
   "cell_type": "code",
   "execution_count": 7,
   "metadata": {
    "colab": {
     "base_uri": "https://localhost:8080/"
    },
    "executionInfo": {
     "elapsed": 611,
     "status": "ok",
     "timestamp": 1620473402096,
     "user": {
      "displayName": "Valero Laparra",
      "photoUrl": "",
      "userId": "00355299981903664579"
     },
     "user_tz": -120
    },
    "id": "T98bWv3Pw9k2",
    "outputId": "bd25dc20-67f3-4924-f84c-70236d5d98fe"
   },
   "outputs": [
    {
     "name": "stdout",
     "output_type": "stream",
     "text": [
      "(1000, 28, 28, 1)\n",
      "(1000,)\n"
     ]
    }
   ],
   "source": [
    "print(X_train.shape)\n",
    "print(y_train.shape)"
   ]
  },
  {
   "cell_type": "markdown",
   "metadata": {
    "id": "bb48aR6zt-Ty"
   },
   "source": [
    "Hacemos el one-hot encoding a las salidas"
   ]
  },
  {
   "cell_type": "code",
   "execution_count": 8,
   "metadata": {
    "executionInfo": {
     "elapsed": 489,
     "status": "ok",
     "timestamp": 1620473420671,
     "user": {
      "displayName": "Valero Laparra",
      "photoUrl": "",
      "userId": "00355299981903664579"
     },
     "user_tz": -120
    },
    "id": "0sE_9bAEnsmw"
   },
   "outputs": [],
   "source": [
    "from keras.utils import to_categorical\n",
    "\n",
    "# me guardo los y_train antes de hacer el one-hot\n",
    "y_train_old = y_train\n",
    "\n",
    "y_train = to_categorical(y_train)\n",
    "y_test = to_categorical(y_test)"
   ]
  },
  {
   "cell_type": "code",
   "execution_count": 9,
   "metadata": {
    "colab": {
     "base_uri": "https://localhost:8080/"
    },
    "executionInfo": {
     "elapsed": 771,
     "status": "ok",
     "timestamp": 1620473421612,
     "user": {
      "displayName": "Valero Laparra",
      "photoUrl": "",
      "userId": "00355299981903664579"
     },
     "user_tz": -120
    },
    "id": "o7vWhloYw7Mu",
    "outputId": "9889858c-89c3-437c-859d-5a480f684f1d"
   },
   "outputs": [
    {
     "name": "stdout",
     "output_type": "stream",
     "text": [
      "(1000, 10)\n"
     ]
    }
   ],
   "source": [
    "print(y_train.shape)"
   ]
  },
  {
   "cell_type": "code",
   "execution_count": 10,
   "metadata": {
    "colab": {
     "base_uri": "https://localhost:8080/"
    },
    "executionInfo": {
     "elapsed": 479,
     "status": "ok",
     "timestamp": 1620473421803,
     "user": {
      "displayName": "Valero Laparra",
      "photoUrl": "",
      "userId": "00355299981903664579"
     },
     "user_tz": -120
    },
    "id": "df345MuCr0xl",
    "outputId": "1c998093-9562-4381-fd98-85ef50af2b8b"
   },
   "outputs": [
    {
     "data": {
      "text/plain": [
       "dtype('float32')"
      ]
     },
     "execution_count": 10,
     "metadata": {
      "tags": []
     },
     "output_type": "execute_result"
    }
   ],
   "source": [
    "\n",
    "y_train.dtype"
   ]
  },
  {
   "cell_type": "code",
   "execution_count": 11,
   "metadata": {
    "colab": {
     "base_uri": "https://localhost:8080/"
    },
    "executionInfo": {
     "elapsed": 834,
     "status": "ok",
     "timestamp": 1620473423581,
     "user": {
      "displayName": "Valero Laparra",
      "photoUrl": "",
      "userId": "00355299981903664579"
     },
     "user_tz": -120
    },
    "id": "lUifyzb9rD0g",
    "outputId": "c7474648-3ef5-4867-c101-7e5da1edc9ad"
   },
   "outputs": [
    {
     "name": "stdout",
     "output_type": "stream",
     "text": [
      "5\n",
      "[0. 0. 0. 0. 0. 1. 0. 0. 0. 0.]\n"
     ]
    }
   ],
   "source": [
    "# Lo que antes era \n",
    "print(y_train_old[0,])\n",
    "# Ahora es\n",
    "print(y_train[0,:])"
   ]
  },
  {
   "cell_type": "markdown",
   "metadata": {
    "id": "ZglnkqcWuCqV"
   },
   "source": [
    "Definimos el modelo"
   ]
  },
  {
   "cell_type": "code",
   "execution_count": 29,
   "metadata": {
    "executionInfo": {
     "elapsed": 464,
     "status": "ok",
     "timestamp": 1620474923847,
     "user": {
      "displayName": "Valero Laparra",
      "photoUrl": "",
      "userId": "00355299981903664579"
     },
     "user_tz": -120
    },
    "id": "uQHWqWS5nt6y"
   },
   "outputs": [],
   "source": [
    "from keras.models import Sequential\n",
    "from keras.layers import Dense, Conv2D, Flatten, Dropout, BatchNormalization, MaxPooling2D\n",
    "\n",
    "# Usamos un modelo secuencial\n",
    "model = Sequential()\n",
    "\n",
    "# ponemos dos capas de convolución, una flatten y una densa\n",
    "model.add(Conv2D(40, kernel_size=3, activation='relu', input_shape=(28,28,1), padding='valid'))\n",
    "#model.add(Dropout(0.5))\n",
    "model.add(Conv2D(30, kernel_size=3, activation='relu'))\n",
    "model.add(BatchNormalization())\n",
    "#model.add(MaxPooling2D(2))\n",
    "model.add(Conv2D(20, kernel_size=3, activation='relu'))\n",
    "#model.add(Conv2D(32, kernel_size=7, activation='relu'))\n",
    "model.add(Flatten())\n",
    "model.add(Dense(10, activation='softmax'))"
   ]
  },
  {
   "cell_type": "code",
   "execution_count": 29,
   "metadata": {
    "executionInfo": {
     "elapsed": 371,
     "status": "ok",
     "timestamp": 1620474924069,
     "user": {
      "displayName": "Valero Laparra",
      "photoUrl": "",
      "userId": "00355299981903664579"
     },
     "user_tz": -120
    },
    "id": "HpyFcdlOtSmF"
   },
   "outputs": [],
   "source": []
  },
  {
   "cell_type": "code",
   "execution_count": 30,
   "metadata": {
    "colab": {
     "base_uri": "https://localhost:8080/"
    },
    "executionInfo": {
     "elapsed": 694,
     "status": "ok",
     "timestamp": 1620474924757,
     "user": {
      "displayName": "Valero Laparra",
      "photoUrl": "",
      "userId": "00355299981903664579"
     },
     "user_tz": -120
    },
    "id": "GVLSUIGSuJ4i",
    "outputId": "cde1b4e7-52cd-4bc8-ee2c-2333b600356f"
   },
   "outputs": [
    {
     "name": "stdout",
     "output_type": "stream",
     "text": [
      "Model: \"sequential_4\"\n",
      "_________________________________________________________________\n",
      "Layer (type)                 Output Shape              Param #   \n",
      "=================================================================\n",
      "conv2d_10 (Conv2D)           (None, 26, 26, 40)        400       \n",
      "_________________________________________________________________\n",
      "conv2d_11 (Conv2D)           (None, 24, 24, 30)        10830     \n",
      "_________________________________________________________________\n",
      "batch_normalization_1 (Batch (None, 24, 24, 30)        120       \n",
      "_________________________________________________________________\n",
      "conv2d_12 (Conv2D)           (None, 22, 22, 20)        5420      \n",
      "_________________________________________________________________\n",
      "flatten_4 (Flatten)          (None, 9680)              0         \n",
      "_________________________________________________________________\n",
      "dense_4 (Dense)              (None, 10)                96810     \n",
      "=================================================================\n",
      "Total params: 113,580\n",
      "Trainable params: 113,520\n",
      "Non-trainable params: 60\n",
      "_________________________________________________________________\n"
     ]
    }
   ],
   "source": [
    "model.summary()"
   ]
  },
  {
   "cell_type": "code",
   "execution_count": 30,
   "metadata": {
    "executionInfo": {
     "elapsed": 487,
     "status": "ok",
     "timestamp": 1620474925597,
     "user": {
      "displayName": "Valero Laparra",
      "photoUrl": "",
      "userId": "00355299981903664579"
     },
     "user_tz": -120
    },
    "id": "ZQM0m-DouJvu"
   },
   "outputs": [],
   "source": []
  },
  {
   "cell_type": "markdown",
   "metadata": {
    "id": "t5Ds1LrCuFpd"
   },
   "source": [
    "Se compila el modelo poniendo el optimizador, la funcióón de perdidas y si queremos una métrica"
   ]
  },
  {
   "cell_type": "code",
   "execution_count": 33,
   "metadata": {
    "executionInfo": {
     "elapsed": 773,
     "status": "ok",
     "timestamp": 1620474941648,
     "user": {
      "displayName": "Valero Laparra",
      "photoUrl": "",
      "userId": "00355299981903664579"
     },
     "user_tz": -120
    },
    "id": "osRevSNb0JV0"
   },
   "outputs": [],
   "source": [
    "from tensorflow.keras.optimizers import Adam"
   ]
  },
  {
   "cell_type": "code",
   "execution_count": 34,
   "metadata": {
    "executionInfo": {
     "elapsed": 618,
     "status": "ok",
     "timestamp": 1620474941888,
     "user": {
      "displayName": "Valero Laparra",
      "photoUrl": "",
      "userId": "00355299981903664579"
     },
     "user_tz": -120
    },
    "id": "Uqup8SlMnwU0"
   },
   "outputs": [],
   "source": [
    "optimizer_adam = Adam() # learning_rate=0.01\n",
    "model.compile(optimizer=optimizer_adam, loss='categorical_crossentropy', metrics=['accuracy'],)"
   ]
  },
  {
   "cell_type": "markdown",
   "metadata": {
    "id": "tPlZ_TUCwDhF"
   },
   "source": [
    "Entrenamos..."
   ]
  },
  {
   "cell_type": "code",
   "execution_count": 35,
   "metadata": {
    "colab": {
     "base_uri": "https://localhost:8080/"
    },
    "executionInfo": {
     "elapsed": 46256,
     "status": "ok",
     "timestamp": 1620474997894,
     "user": {
      "displayName": "Valero Laparra",
      "photoUrl": "",
      "userId": "00355299981903664579"
     },
     "user_tz": -120
    },
    "id": "LjNKLB6Tn7gR",
    "outputId": "933152b1-e3cc-44dc-8192-e32806e4d7be"
   },
   "outputs": [
    {
     "name": "stdout",
     "output_type": "stream",
     "text": [
      "Epoch 1/200\n",
      "32/32 [==============================] - 1s 15ms/step - loss: 1.5823 - accuracy: 0.5178 - val_loss: 0.6625 - val_accuracy: 0.8580\n",
      "Epoch 2/200\n",
      "32/32 [==============================] - 0s 6ms/step - loss: 0.1188 - accuracy: 0.9653 - val_loss: 0.5140 - val_accuracy: 0.8670\n",
      "Epoch 3/200\n",
      "32/32 [==============================] - 0s 6ms/step - loss: 0.0471 - accuracy: 0.9900 - val_loss: 0.3244 - val_accuracy: 0.9160\n",
      "Epoch 4/200\n",
      "32/32 [==============================] - 0s 7ms/step - loss: 0.0141 - accuracy: 0.9981 - val_loss: 0.2865 - val_accuracy: 0.9150\n",
      "Epoch 5/200\n",
      "32/32 [==============================] - 0s 6ms/step - loss: 0.0069 - accuracy: 0.9990 - val_loss: 0.2843 - val_accuracy: 0.9210\n",
      "Epoch 6/200\n",
      "32/32 [==============================] - 0s 6ms/step - loss: 0.0029 - accuracy: 1.0000 - val_loss: 0.2656 - val_accuracy: 0.9240\n",
      "Epoch 7/200\n",
      "32/32 [==============================] - 0s 6ms/step - loss: 0.0014 - accuracy: 1.0000 - val_loss: 0.2650 - val_accuracy: 0.9240\n",
      "Epoch 8/200\n",
      "32/32 [==============================] - 0s 6ms/step - loss: 0.0012 - accuracy: 1.0000 - val_loss: 0.2655 - val_accuracy: 0.9230\n",
      "Epoch 9/200\n",
      "32/32 [==============================] - 0s 7ms/step - loss: 9.0993e-04 - accuracy: 1.0000 - val_loss: 0.2659 - val_accuracy: 0.9220\n",
      "Epoch 10/200\n",
      "32/32 [==============================] - 0s 7ms/step - loss: 8.3147e-04 - accuracy: 1.0000 - val_loss: 0.2653 - val_accuracy: 0.9230\n",
      "Epoch 11/200\n",
      "32/32 [==============================] - 0s 7ms/step - loss: 7.3469e-04 - accuracy: 1.0000 - val_loss: 0.2657 - val_accuracy: 0.9220\n",
      "Epoch 12/200\n",
      "32/32 [==============================] - 0s 7ms/step - loss: 5.9623e-04 - accuracy: 1.0000 - val_loss: 0.2661 - val_accuracy: 0.9240\n",
      "Epoch 13/200\n",
      "32/32 [==============================] - 0s 7ms/step - loss: 5.9378e-04 - accuracy: 1.0000 - val_loss: 0.2667 - val_accuracy: 0.9250\n",
      "Epoch 14/200\n",
      "32/32 [==============================] - 0s 7ms/step - loss: 4.6127e-04 - accuracy: 1.0000 - val_loss: 0.2676 - val_accuracy: 0.9240\n",
      "Epoch 15/200\n",
      "32/32 [==============================] - 0s 7ms/step - loss: 4.6244e-04 - accuracy: 1.0000 - val_loss: 0.2682 - val_accuracy: 0.9240\n",
      "Epoch 16/200\n",
      "32/32 [==============================] - 0s 7ms/step - loss: 4.3010e-04 - accuracy: 1.0000 - val_loss: 0.2684 - val_accuracy: 0.9260\n",
      "Epoch 17/200\n",
      "32/32 [==============================] - 0s 7ms/step - loss: 3.6253e-04 - accuracy: 1.0000 - val_loss: 0.2696 - val_accuracy: 0.9260\n",
      "Epoch 18/200\n",
      "32/32 [==============================] - 0s 6ms/step - loss: 3.3625e-04 - accuracy: 1.0000 - val_loss: 0.2701 - val_accuracy: 0.9240\n",
      "Epoch 19/200\n",
      "32/32 [==============================] - 0s 7ms/step - loss: 3.1100e-04 - accuracy: 1.0000 - val_loss: 0.2690 - val_accuracy: 0.9250\n",
      "Epoch 20/200\n",
      "32/32 [==============================] - 0s 7ms/step - loss: 2.7650e-04 - accuracy: 1.0000 - val_loss: 0.2710 - val_accuracy: 0.9220\n",
      "Epoch 21/200\n",
      "32/32 [==============================] - 0s 7ms/step - loss: 3.3561e-04 - accuracy: 1.0000 - val_loss: 0.2717 - val_accuracy: 0.9220\n",
      "Epoch 22/200\n",
      "32/32 [==============================] - 0s 7ms/step - loss: 2.3184e-04 - accuracy: 1.0000 - val_loss: 0.2733 - val_accuracy: 0.9220\n",
      "Epoch 23/200\n",
      "32/32 [==============================] - 0s 7ms/step - loss: 2.0229e-04 - accuracy: 1.0000 - val_loss: 0.2736 - val_accuracy: 0.9230\n",
      "Epoch 24/200\n",
      "32/32 [==============================] - 0s 7ms/step - loss: 2.0192e-04 - accuracy: 1.0000 - val_loss: 0.2748 - val_accuracy: 0.9220\n",
      "Epoch 25/200\n",
      "32/32 [==============================] - 0s 7ms/step - loss: 1.8113e-04 - accuracy: 1.0000 - val_loss: 0.2755 - val_accuracy: 0.9220\n",
      "Epoch 26/200\n",
      "32/32 [==============================] - 0s 7ms/step - loss: 1.7760e-04 - accuracy: 1.0000 - val_loss: 0.2766 - val_accuracy: 0.9220\n",
      "Epoch 27/200\n",
      "32/32 [==============================] - 0s 7ms/step - loss: 1.5411e-04 - accuracy: 1.0000 - val_loss: 0.2773 - val_accuracy: 0.9220\n",
      "Epoch 28/200\n",
      "32/32 [==============================] - 0s 7ms/step - loss: 1.5426e-04 - accuracy: 1.0000 - val_loss: 0.2776 - val_accuracy: 0.9220\n",
      "Epoch 29/200\n",
      "32/32 [==============================] - 0s 7ms/step - loss: 1.3603e-04 - accuracy: 1.0000 - val_loss: 0.2785 - val_accuracy: 0.9220\n",
      "Epoch 30/200\n",
      "32/32 [==============================] - 0s 7ms/step - loss: 1.3462e-04 - accuracy: 1.0000 - val_loss: 0.2794 - val_accuracy: 0.9230\n",
      "Epoch 31/200\n",
      "32/32 [==============================] - 0s 7ms/step - loss: 1.1610e-04 - accuracy: 1.0000 - val_loss: 0.2798 - val_accuracy: 0.9230\n",
      "Epoch 32/200\n",
      "32/32 [==============================] - 0s 7ms/step - loss: 1.1130e-04 - accuracy: 1.0000 - val_loss: 0.2817 - val_accuracy: 0.9220\n",
      "Epoch 33/200\n",
      "32/32 [==============================] - 0s 7ms/step - loss: 1.0092e-04 - accuracy: 1.0000 - val_loss: 0.2815 - val_accuracy: 0.9230\n",
      "Epoch 34/200\n",
      "32/32 [==============================] - 0s 6ms/step - loss: 1.2599e-04 - accuracy: 1.0000 - val_loss: 0.2797 - val_accuracy: 0.9240\n",
      "Epoch 35/200\n",
      "32/32 [==============================] - 0s 7ms/step - loss: 9.4482e-05 - accuracy: 1.0000 - val_loss: 0.2810 - val_accuracy: 0.9250\n",
      "Epoch 36/200\n",
      "32/32 [==============================] - 0s 7ms/step - loss: 1.0080e-04 - accuracy: 1.0000 - val_loss: 0.2825 - val_accuracy: 0.9240\n",
      "Epoch 37/200\n",
      "32/32 [==============================] - 0s 7ms/step - loss: 8.6723e-05 - accuracy: 1.0000 - val_loss: 0.2829 - val_accuracy: 0.9220\n",
      "Epoch 38/200\n",
      "32/32 [==============================] - 0s 7ms/step - loss: 7.8925e-05 - accuracy: 1.0000 - val_loss: 0.2855 - val_accuracy: 0.9230\n",
      "Epoch 39/200\n",
      "32/32 [==============================] - 0s 7ms/step - loss: 8.9774e-05 - accuracy: 1.0000 - val_loss: 0.2854 - val_accuracy: 0.9240\n",
      "Epoch 40/200\n",
      "32/32 [==============================] - 0s 7ms/step - loss: 7.5497e-05 - accuracy: 1.0000 - val_loss: 0.2861 - val_accuracy: 0.9220\n",
      "Epoch 41/200\n",
      "32/32 [==============================] - 0s 7ms/step - loss: 8.5747e-05 - accuracy: 1.0000 - val_loss: 0.2859 - val_accuracy: 0.9230\n",
      "Epoch 42/200\n",
      "32/32 [==============================] - 0s 7ms/step - loss: 7.5073e-05 - accuracy: 1.0000 - val_loss: 0.2866 - val_accuracy: 0.9240\n",
      "Epoch 43/200\n",
      "32/32 [==============================] - 0s 7ms/step - loss: 7.3611e-05 - accuracy: 1.0000 - val_loss: 0.2870 - val_accuracy: 0.9240\n",
      "Epoch 44/200\n",
      "32/32 [==============================] - 0s 7ms/step - loss: 6.5265e-05 - accuracy: 1.0000 - val_loss: 0.2873 - val_accuracy: 0.9240\n",
      "Epoch 45/200\n",
      "32/32 [==============================] - 0s 7ms/step - loss: 6.5237e-05 - accuracy: 1.0000 - val_loss: 0.2882 - val_accuracy: 0.9240\n",
      "Epoch 46/200\n",
      "32/32 [==============================] - 0s 7ms/step - loss: 6.4301e-05 - accuracy: 1.0000 - val_loss: 0.2893 - val_accuracy: 0.9220\n",
      "Epoch 47/200\n",
      "32/32 [==============================] - 0s 7ms/step - loss: 6.1019e-05 - accuracy: 1.0000 - val_loss: 0.2890 - val_accuracy: 0.9250\n",
      "Epoch 48/200\n",
      "32/32 [==============================] - 0s 7ms/step - loss: 5.1623e-05 - accuracy: 1.0000 - val_loss: 0.2895 - val_accuracy: 0.9250\n",
      "Epoch 49/200\n",
      "32/32 [==============================] - 0s 7ms/step - loss: 6.2214e-05 - accuracy: 1.0000 - val_loss: 0.2906 - val_accuracy: 0.9240\n",
      "Epoch 50/200\n",
      "32/32 [==============================] - 0s 7ms/step - loss: 4.6887e-05 - accuracy: 1.0000 - val_loss: 0.2914 - val_accuracy: 0.9250\n",
      "Epoch 51/200\n",
      "32/32 [==============================] - 0s 7ms/step - loss: 5.1482e-05 - accuracy: 1.0000 - val_loss: 0.2914 - val_accuracy: 0.9250\n",
      "Epoch 52/200\n",
      "32/32 [==============================] - 0s 7ms/step - loss: 5.0898e-05 - accuracy: 1.0000 - val_loss: 0.2924 - val_accuracy: 0.9250\n",
      "Epoch 53/200\n",
      "32/32 [==============================] - 0s 7ms/step - loss: 5.2662e-05 - accuracy: 1.0000 - val_loss: 0.2918 - val_accuracy: 0.9250\n",
      "Epoch 54/200\n",
      "32/32 [==============================] - 0s 7ms/step - loss: 4.4818e-05 - accuracy: 1.0000 - val_loss: 0.2923 - val_accuracy: 0.9240\n",
      "Epoch 55/200\n",
      "32/32 [==============================] - 0s 7ms/step - loss: 4.9431e-05 - accuracy: 1.0000 - val_loss: 0.2926 - val_accuracy: 0.9240\n",
      "Epoch 56/200\n",
      "32/32 [==============================] - 0s 7ms/step - loss: 4.3452e-05 - accuracy: 1.0000 - val_loss: 0.2924 - val_accuracy: 0.9250\n",
      "Epoch 57/200\n",
      "32/32 [==============================] - 0s 7ms/step - loss: 4.2178e-05 - accuracy: 1.0000 - val_loss: 0.2936 - val_accuracy: 0.9260\n",
      "Epoch 58/200\n",
      "32/32 [==============================] - 0s 7ms/step - loss: 3.6255e-05 - accuracy: 1.0000 - val_loss: 0.2934 - val_accuracy: 0.9260\n",
      "Epoch 59/200\n",
      "32/32 [==============================] - 0s 7ms/step - loss: 3.8861e-05 - accuracy: 1.0000 - val_loss: 0.2939 - val_accuracy: 0.9270\n",
      "Epoch 60/200\n",
      "32/32 [==============================] - 0s 7ms/step - loss: 3.8919e-05 - accuracy: 1.0000 - val_loss: 0.2943 - val_accuracy: 0.9260\n",
      "Epoch 61/200\n",
      "32/32 [==============================] - 0s 7ms/step - loss: 3.2545e-05 - accuracy: 1.0000 - val_loss: 0.2952 - val_accuracy: 0.9260\n",
      "Epoch 62/200\n",
      "32/32 [==============================] - 0s 7ms/step - loss: 2.9860e-05 - accuracy: 1.0000 - val_loss: 0.2958 - val_accuracy: 0.9260\n",
      "Epoch 63/200\n",
      "32/32 [==============================] - 0s 7ms/step - loss: 3.2654e-05 - accuracy: 1.0000 - val_loss: 0.2967 - val_accuracy: 0.9250\n",
      "Epoch 64/200\n",
      "32/32 [==============================] - 0s 7ms/step - loss: 3.1967e-05 - accuracy: 1.0000 - val_loss: 0.2969 - val_accuracy: 0.9250\n",
      "Epoch 65/200\n",
      "32/32 [==============================] - 0s 7ms/step - loss: 3.0634e-05 - accuracy: 1.0000 - val_loss: 0.2972 - val_accuracy: 0.9260\n",
      "Epoch 66/200\n",
      "32/32 [==============================] - 0s 7ms/step - loss: 3.1458e-05 - accuracy: 1.0000 - val_loss: 0.2974 - val_accuracy: 0.9250\n",
      "Epoch 67/200\n",
      "32/32 [==============================] - 0s 7ms/step - loss: 3.0272e-05 - accuracy: 1.0000 - val_loss: 0.2987 - val_accuracy: 0.9250\n",
      "Epoch 68/200\n",
      "32/32 [==============================] - 0s 7ms/step - loss: 3.1111e-05 - accuracy: 1.0000 - val_loss: 0.2991 - val_accuracy: 0.9240\n",
      "Epoch 69/200\n",
      "32/32 [==============================] - 0s 7ms/step - loss: 3.0736e-05 - accuracy: 1.0000 - val_loss: 0.2987 - val_accuracy: 0.9260\n",
      "Epoch 70/200\n",
      "32/32 [==============================] - 0s 7ms/step - loss: 2.5312e-05 - accuracy: 1.0000 - val_loss: 0.2988 - val_accuracy: 0.9260\n",
      "Epoch 71/200\n",
      "32/32 [==============================] - 0s 7ms/step - loss: 2.6440e-05 - accuracy: 1.0000 - val_loss: 0.2989 - val_accuracy: 0.9260\n",
      "Epoch 72/200\n",
      "32/32 [==============================] - 0s 7ms/step - loss: 2.5190e-05 - accuracy: 1.0000 - val_loss: 0.2995 - val_accuracy: 0.9270\n",
      "Epoch 73/200\n",
      "32/32 [==============================] - 0s 7ms/step - loss: 2.6711e-05 - accuracy: 1.0000 - val_loss: 0.3005 - val_accuracy: 0.9260\n",
      "Epoch 74/200\n",
      "32/32 [==============================] - 0s 7ms/step - loss: 2.4543e-05 - accuracy: 1.0000 - val_loss: 0.3013 - val_accuracy: 0.9250\n",
      "Epoch 75/200\n",
      "32/32 [==============================] - 0s 7ms/step - loss: 2.6832e-05 - accuracy: 1.0000 - val_loss: 0.3019 - val_accuracy: 0.9250\n",
      "Epoch 76/200\n",
      "32/32 [==============================] - 0s 7ms/step - loss: 2.1027e-05 - accuracy: 1.0000 - val_loss: 0.3020 - val_accuracy: 0.9250\n",
      "Epoch 77/200\n",
      "32/32 [==============================] - 0s 7ms/step - loss: 2.1079e-05 - accuracy: 1.0000 - val_loss: 0.3015 - val_accuracy: 0.9260\n",
      "Epoch 78/200\n",
      "32/32 [==============================] - 0s 7ms/step - loss: 2.2140e-05 - accuracy: 1.0000 - val_loss: 0.3012 - val_accuracy: 0.9260\n",
      "Epoch 79/200\n",
      "32/32 [==============================] - 0s 7ms/step - loss: 2.1081e-05 - accuracy: 1.0000 - val_loss: 0.3013 - val_accuracy: 0.9260\n",
      "Epoch 80/200\n",
      "32/32 [==============================] - 0s 7ms/step - loss: 1.9043e-05 - accuracy: 1.0000 - val_loss: 0.3021 - val_accuracy: 0.9270\n",
      "Epoch 81/200\n",
      "32/32 [==============================] - 0s 7ms/step - loss: 2.0231e-05 - accuracy: 1.0000 - val_loss: 0.3025 - val_accuracy: 0.9250\n",
      "Epoch 82/200\n",
      "32/32 [==============================] - 0s 7ms/step - loss: 1.9842e-05 - accuracy: 1.0000 - val_loss: 0.3030 - val_accuracy: 0.9250\n",
      "Epoch 83/200\n",
      "32/32 [==============================] - 0s 7ms/step - loss: 2.0194e-05 - accuracy: 1.0000 - val_loss: 0.3038 - val_accuracy: 0.9250\n",
      "Epoch 84/200\n",
      "32/32 [==============================] - 0s 7ms/step - loss: 1.9773e-05 - accuracy: 1.0000 - val_loss: 0.3037 - val_accuracy: 0.9260\n",
      "Epoch 85/200\n",
      "32/32 [==============================] - 0s 7ms/step - loss: 1.9099e-05 - accuracy: 1.0000 - val_loss: 0.3044 - val_accuracy: 0.9250\n",
      "Epoch 86/200\n",
      "32/32 [==============================] - 0s 7ms/step - loss: 1.7525e-05 - accuracy: 1.0000 - val_loss: 0.3052 - val_accuracy: 0.9250\n",
      "Epoch 87/200\n",
      "32/32 [==============================] - 0s 7ms/step - loss: 1.6018e-05 - accuracy: 1.0000 - val_loss: 0.3055 - val_accuracy: 0.9260\n",
      "Epoch 88/200\n",
      "32/32 [==============================] - 0s 7ms/step - loss: 2.0373e-05 - accuracy: 1.0000 - val_loss: 0.3051 - val_accuracy: 0.9270\n",
      "Epoch 89/200\n",
      "32/32 [==============================] - 0s 7ms/step - loss: 1.9090e-05 - accuracy: 1.0000 - val_loss: 0.3055 - val_accuracy: 0.9250\n",
      "Epoch 90/200\n",
      "32/32 [==============================] - 0s 7ms/step - loss: 1.6103e-05 - accuracy: 1.0000 - val_loss: 0.3054 - val_accuracy: 0.9260\n",
      "Epoch 91/200\n",
      "32/32 [==============================] - 0s 7ms/step - loss: 1.5713e-05 - accuracy: 1.0000 - val_loss: 0.3057 - val_accuracy: 0.9250\n",
      "Epoch 92/200\n",
      "32/32 [==============================] - 0s 7ms/step - loss: 1.5788e-05 - accuracy: 1.0000 - val_loss: 0.3057 - val_accuracy: 0.9250\n",
      "Epoch 93/200\n",
      "32/32 [==============================] - 0s 7ms/step - loss: 1.3535e-05 - accuracy: 1.0000 - val_loss: 0.3059 - val_accuracy: 0.9250\n",
      "Epoch 94/200\n",
      "32/32 [==============================] - 0s 7ms/step - loss: 1.3968e-05 - accuracy: 1.0000 - val_loss: 0.3064 - val_accuracy: 0.9250\n",
      "Epoch 95/200\n",
      "32/32 [==============================] - 0s 7ms/step - loss: 1.3312e-05 - accuracy: 1.0000 - val_loss: 0.3061 - val_accuracy: 0.9250\n",
      "Epoch 96/200\n",
      "32/32 [==============================] - 0s 7ms/step - loss: 1.3922e-05 - accuracy: 1.0000 - val_loss: 0.3065 - val_accuracy: 0.9260\n",
      "Epoch 97/200\n",
      "32/32 [==============================] - 0s 7ms/step - loss: 1.3510e-05 - accuracy: 1.0000 - val_loss: 0.3068 - val_accuracy: 0.9260\n",
      "Epoch 98/200\n",
      "32/32 [==============================] - 0s 7ms/step - loss: 1.3869e-05 - accuracy: 1.0000 - val_loss: 0.3078 - val_accuracy: 0.9250\n",
      "Epoch 99/200\n",
      "32/32 [==============================] - 0s 7ms/step - loss: 1.2527e-05 - accuracy: 1.0000 - val_loss: 0.3083 - val_accuracy: 0.9260\n",
      "Epoch 100/200\n",
      "32/32 [==============================] - 0s 7ms/step - loss: 1.1067e-05 - accuracy: 1.0000 - val_loss: 0.3096 - val_accuracy: 0.9250\n",
      "Epoch 101/200\n",
      "32/32 [==============================] - 0s 7ms/step - loss: 1.1641e-05 - accuracy: 1.0000 - val_loss: 0.3100 - val_accuracy: 0.9260\n",
      "Epoch 102/200\n",
      "32/32 [==============================] - 0s 7ms/step - loss: 1.1260e-05 - accuracy: 1.0000 - val_loss: 0.3101 - val_accuracy: 0.9260\n",
      "Epoch 103/200\n",
      "32/32 [==============================] - 0s 7ms/step - loss: 1.0958e-05 - accuracy: 1.0000 - val_loss: 0.3096 - val_accuracy: 0.9260\n",
      "Epoch 104/200\n",
      "32/32 [==============================] - 0s 7ms/step - loss: 1.2272e-05 - accuracy: 1.0000 - val_loss: 0.3102 - val_accuracy: 0.9260\n",
      "Epoch 105/200\n",
      "32/32 [==============================] - 0s 7ms/step - loss: 1.0234e-05 - accuracy: 1.0000 - val_loss: 0.3102 - val_accuracy: 0.9260\n",
      "Epoch 106/200\n",
      "32/32 [==============================] - 0s 7ms/step - loss: 1.2411e-05 - accuracy: 1.0000 - val_loss: 0.3113 - val_accuracy: 0.9260\n",
      "Epoch 107/200\n",
      "32/32 [==============================] - 0s 7ms/step - loss: 9.5872e-06 - accuracy: 1.0000 - val_loss: 0.3114 - val_accuracy: 0.9260\n",
      "Epoch 108/200\n",
      "32/32 [==============================] - 0s 7ms/step - loss: 9.7833e-06 - accuracy: 1.0000 - val_loss: 0.3117 - val_accuracy: 0.9260\n",
      "Epoch 109/200\n",
      "32/32 [==============================] - 0s 7ms/step - loss: 9.1554e-06 - accuracy: 1.0000 - val_loss: 0.3118 - val_accuracy: 0.9260\n",
      "Epoch 110/200\n",
      "32/32 [==============================] - 0s 7ms/step - loss: 9.5903e-06 - accuracy: 1.0000 - val_loss: 0.3115 - val_accuracy: 0.9260\n",
      "Epoch 111/200\n",
      "32/32 [==============================] - 0s 7ms/step - loss: 9.6670e-06 - accuracy: 1.0000 - val_loss: 0.3120 - val_accuracy: 0.9260\n",
      "Epoch 112/200\n",
      "32/32 [==============================] - 0s 7ms/step - loss: 1.0097e-05 - accuracy: 1.0000 - val_loss: 0.3128 - val_accuracy: 0.9260\n",
      "Epoch 113/200\n",
      "32/32 [==============================] - 0s 7ms/step - loss: 9.2126e-06 - accuracy: 1.0000 - val_loss: 0.3131 - val_accuracy: 0.9260\n",
      "Epoch 114/200\n",
      "32/32 [==============================] - 0s 7ms/step - loss: 1.0093e-05 - accuracy: 1.0000 - val_loss: 0.3136 - val_accuracy: 0.9260\n",
      "Epoch 115/200\n",
      "32/32 [==============================] - 0s 7ms/step - loss: 9.5286e-06 - accuracy: 1.0000 - val_loss: 0.3139 - val_accuracy: 0.9260\n",
      "Epoch 116/200\n",
      "32/32 [==============================] - 0s 7ms/step - loss: 8.3841e-06 - accuracy: 1.0000 - val_loss: 0.3143 - val_accuracy: 0.9260\n",
      "Epoch 117/200\n",
      "32/32 [==============================] - 0s 7ms/step - loss: 9.5186e-06 - accuracy: 1.0000 - val_loss: 0.3152 - val_accuracy: 0.9270\n",
      "Epoch 118/200\n",
      "32/32 [==============================] - 0s 7ms/step - loss: 0.0276 - accuracy: 0.9949 - val_loss: 5.2449 - val_accuracy: 0.6660\n",
      "Epoch 119/200\n",
      "32/32 [==============================] - 0s 7ms/step - loss: 1.1590 - accuracy: 0.8275 - val_loss: 1.2117 - val_accuracy: 0.8630\n",
      "Epoch 120/200\n",
      "32/32 [==============================] - 0s 7ms/step - loss: 0.1980 - accuracy: 0.9664 - val_loss: 1.2756 - val_accuracy: 0.8860\n",
      "Epoch 121/200\n",
      "32/32 [==============================] - 0s 7ms/step - loss: 0.0318 - accuracy: 0.9928 - val_loss: 0.7796 - val_accuracy: 0.9090\n",
      "Epoch 122/200\n",
      "32/32 [==============================] - 0s 7ms/step - loss: 0.0136 - accuracy: 0.9958 - val_loss: 0.8294 - val_accuracy: 0.9150\n",
      "Epoch 123/200\n",
      "32/32 [==============================] - 0s 7ms/step - loss: 0.0036 - accuracy: 0.9993 - val_loss: 0.6485 - val_accuracy: 0.9210\n",
      "Epoch 124/200\n",
      "32/32 [==============================] - 0s 7ms/step - loss: 4.3706e-04 - accuracy: 1.0000 - val_loss: 0.5656 - val_accuracy: 0.9260\n",
      "Epoch 125/200\n",
      "32/32 [==============================] - 0s 7ms/step - loss: 1.5442e-04 - accuracy: 1.0000 - val_loss: 0.5335 - val_accuracy: 0.9270\n",
      "Epoch 126/200\n",
      "32/32 [==============================] - 0s 7ms/step - loss: 4.4072e-05 - accuracy: 1.0000 - val_loss: 0.5199 - val_accuracy: 0.9260\n",
      "Epoch 127/200\n",
      "32/32 [==============================] - 0s 7ms/step - loss: 5.4484e-05 - accuracy: 1.0000 - val_loss: 0.5122 - val_accuracy: 0.9250\n",
      "Epoch 128/200\n",
      "32/32 [==============================] - 0s 7ms/step - loss: 7.3584e-05 - accuracy: 1.0000 - val_loss: 0.5055 - val_accuracy: 0.9270\n",
      "Epoch 129/200\n",
      "32/32 [==============================] - 0s 7ms/step - loss: 3.6079e-05 - accuracy: 1.0000 - val_loss: 0.5008 - val_accuracy: 0.9270\n",
      "Epoch 130/200\n",
      "32/32 [==============================] - 0s 7ms/step - loss: 4.5030e-05 - accuracy: 1.0000 - val_loss: 0.4972 - val_accuracy: 0.9270\n",
      "Epoch 131/200\n",
      "32/32 [==============================] - 0s 7ms/step - loss: 3.7343e-05 - accuracy: 1.0000 - val_loss: 0.4921 - val_accuracy: 0.9260\n",
      "Epoch 132/200\n",
      "32/32 [==============================] - 0s 7ms/step - loss: 3.8197e-05 - accuracy: 1.0000 - val_loss: 0.4799 - val_accuracy: 0.9270\n",
      "Epoch 133/200\n",
      "32/32 [==============================] - 0s 7ms/step - loss: 3.2885e-05 - accuracy: 1.0000 - val_loss: 0.4774 - val_accuracy: 0.9270\n",
      "Epoch 134/200\n",
      "32/32 [==============================] - 0s 7ms/step - loss: 4.0722e-05 - accuracy: 1.0000 - val_loss: 0.4747 - val_accuracy: 0.9290\n",
      "Epoch 135/200\n",
      "32/32 [==============================] - 0s 7ms/step - loss: 2.7456e-05 - accuracy: 1.0000 - val_loss: 0.4722 - val_accuracy: 0.9290\n",
      "Epoch 136/200\n",
      "32/32 [==============================] - 0s 7ms/step - loss: 4.3423e-05 - accuracy: 1.0000 - val_loss: 0.4707 - val_accuracy: 0.9310\n",
      "Epoch 137/200\n",
      "32/32 [==============================] - 0s 7ms/step - loss: 3.4279e-05 - accuracy: 1.0000 - val_loss: 0.4696 - val_accuracy: 0.9310\n",
      "Epoch 138/200\n",
      "32/32 [==============================] - 0s 7ms/step - loss: 3.2990e-05 - accuracy: 1.0000 - val_loss: 0.4684 - val_accuracy: 0.9310\n",
      "Epoch 139/200\n",
      "32/32 [==============================] - 0s 7ms/step - loss: 1.5438e-05 - accuracy: 1.0000 - val_loss: 0.4679 - val_accuracy: 0.9310\n",
      "Epoch 140/200\n",
      "32/32 [==============================] - 0s 7ms/step - loss: 2.9782e-05 - accuracy: 1.0000 - val_loss: 0.4673 - val_accuracy: 0.9310\n",
      "Epoch 141/200\n",
      "32/32 [==============================] - 0s 7ms/step - loss: 2.3437e-05 - accuracy: 1.0000 - val_loss: 0.4664 - val_accuracy: 0.9310\n",
      "Epoch 142/200\n",
      "32/32 [==============================] - 0s 7ms/step - loss: 1.6524e-05 - accuracy: 1.0000 - val_loss: 0.4649 - val_accuracy: 0.9300\n",
      "Epoch 143/200\n",
      "32/32 [==============================] - 0s 7ms/step - loss: 2.5560e-05 - accuracy: 1.0000 - val_loss: 0.4650 - val_accuracy: 0.9300\n",
      "Epoch 144/200\n",
      "32/32 [==============================] - 0s 7ms/step - loss: 1.7863e-05 - accuracy: 1.0000 - val_loss: 0.4647 - val_accuracy: 0.9300\n",
      "Epoch 145/200\n",
      "32/32 [==============================] - 0s 7ms/step - loss: 1.8627e-05 - accuracy: 1.0000 - val_loss: 0.4645 - val_accuracy: 0.9300\n",
      "Epoch 146/200\n",
      "32/32 [==============================] - 0s 7ms/step - loss: 2.6093e-05 - accuracy: 1.0000 - val_loss: 0.4641 - val_accuracy: 0.9300\n",
      "Epoch 147/200\n",
      "32/32 [==============================] - 0s 7ms/step - loss: 2.0060e-05 - accuracy: 1.0000 - val_loss: 0.4642 - val_accuracy: 0.9300\n",
      "Epoch 148/200\n",
      "32/32 [==============================] - 0s 7ms/step - loss: 1.8547e-05 - accuracy: 1.0000 - val_loss: 0.4640 - val_accuracy: 0.9300\n",
      "Epoch 149/200\n",
      "32/32 [==============================] - 0s 7ms/step - loss: 9.9736e-06 - accuracy: 1.0000 - val_loss: 0.4645 - val_accuracy: 0.9300\n",
      "Epoch 150/200\n",
      "32/32 [==============================] - 0s 8ms/step - loss: 3.0932e-05 - accuracy: 1.0000 - val_loss: 0.4651 - val_accuracy: 0.9300\n",
      "Epoch 151/200\n",
      "32/32 [==============================] - 0s 8ms/step - loss: 2.2723e-05 - accuracy: 1.0000 - val_loss: 0.4656 - val_accuracy: 0.9300\n",
      "Epoch 152/200\n",
      "32/32 [==============================] - 0s 7ms/step - loss: 1.7478e-05 - accuracy: 1.0000 - val_loss: 0.4654 - val_accuracy: 0.9300\n",
      "Epoch 153/200\n",
      "32/32 [==============================] - 0s 7ms/step - loss: 1.4562e-05 - accuracy: 1.0000 - val_loss: 0.4654 - val_accuracy: 0.9300\n",
      "Epoch 154/200\n",
      "32/32 [==============================] - 0s 7ms/step - loss: 1.2749e-05 - accuracy: 1.0000 - val_loss: 0.4651 - val_accuracy: 0.9300\n",
      "Epoch 155/200\n",
      "32/32 [==============================] - 0s 7ms/step - loss: 2.3080e-05 - accuracy: 1.0000 - val_loss: 0.4654 - val_accuracy: 0.9300\n",
      "Epoch 156/200\n",
      "32/32 [==============================] - 0s 7ms/step - loss: 1.0381e-05 - accuracy: 1.0000 - val_loss: 0.4655 - val_accuracy: 0.9300\n",
      "Epoch 157/200\n",
      "32/32 [==============================] - 0s 7ms/step - loss: 1.2705e-05 - accuracy: 1.0000 - val_loss: 0.4656 - val_accuracy: 0.9300\n",
      "Epoch 158/200\n",
      "32/32 [==============================] - 0s 7ms/step - loss: 1.2508e-05 - accuracy: 1.0000 - val_loss: 0.4657 - val_accuracy: 0.9300\n",
      "Epoch 159/200\n",
      "32/32 [==============================] - 0s 7ms/step - loss: 1.0675e-05 - accuracy: 1.0000 - val_loss: 0.4659 - val_accuracy: 0.9300\n",
      "Epoch 160/200\n",
      "32/32 [==============================] - 0s 7ms/step - loss: 1.0491e-05 - accuracy: 1.0000 - val_loss: 0.4657 - val_accuracy: 0.9300\n",
      "Epoch 161/200\n",
      "32/32 [==============================] - 0s 7ms/step - loss: 1.5949e-05 - accuracy: 1.0000 - val_loss: 0.4657 - val_accuracy: 0.9300\n",
      "Epoch 162/200\n",
      "32/32 [==============================] - 0s 7ms/step - loss: 1.1749e-05 - accuracy: 1.0000 - val_loss: 0.4657 - val_accuracy: 0.9300\n",
      "Epoch 163/200\n",
      "32/32 [==============================] - 0s 7ms/step - loss: 1.0139e-05 - accuracy: 1.0000 - val_loss: 0.4657 - val_accuracy: 0.9300\n",
      "Epoch 164/200\n",
      "32/32 [==============================] - 0s 7ms/step - loss: 1.1515e-05 - accuracy: 1.0000 - val_loss: 0.4657 - val_accuracy: 0.9300\n",
      "Epoch 165/200\n",
      "32/32 [==============================] - 0s 7ms/step - loss: 1.4263e-05 - accuracy: 1.0000 - val_loss: 0.4661 - val_accuracy: 0.9300\n",
      "Epoch 166/200\n",
      "32/32 [==============================] - 0s 7ms/step - loss: 8.1928e-06 - accuracy: 1.0000 - val_loss: 0.4662 - val_accuracy: 0.9300\n",
      "Epoch 167/200\n",
      "32/32 [==============================] - 0s 7ms/step - loss: 9.1954e-06 - accuracy: 1.0000 - val_loss: 0.4663 - val_accuracy: 0.9300\n",
      "Epoch 168/200\n",
      "32/32 [==============================] - 0s 7ms/step - loss: 7.9763e-06 - accuracy: 1.0000 - val_loss: 0.4664 - val_accuracy: 0.9300\n",
      "Epoch 169/200\n",
      "32/32 [==============================] - 0s 7ms/step - loss: 1.0458e-05 - accuracy: 1.0000 - val_loss: 0.4665 - val_accuracy: 0.9300\n",
      "Epoch 170/200\n",
      "32/32 [==============================] - 0s 7ms/step - loss: 9.2835e-06 - accuracy: 1.0000 - val_loss: 0.4666 - val_accuracy: 0.9300\n",
      "Epoch 171/200\n",
      "32/32 [==============================] - 0s 7ms/step - loss: 1.0113e-05 - accuracy: 1.0000 - val_loss: 0.4666 - val_accuracy: 0.9300\n",
      "Epoch 172/200\n",
      "32/32 [==============================] - 0s 7ms/step - loss: 1.6070e-05 - accuracy: 1.0000 - val_loss: 0.4666 - val_accuracy: 0.9300\n",
      "Epoch 173/200\n",
      "32/32 [==============================] - 0s 8ms/step - loss: 5.9630e-06 - accuracy: 1.0000 - val_loss: 0.4667 - val_accuracy: 0.9300\n",
      "Epoch 174/200\n",
      "32/32 [==============================] - 0s 7ms/step - loss: 7.8538e-06 - accuracy: 1.0000 - val_loss: 0.4668 - val_accuracy: 0.9300\n",
      "Epoch 175/200\n",
      "32/32 [==============================] - 0s 8ms/step - loss: 7.9482e-06 - accuracy: 1.0000 - val_loss: 0.4673 - val_accuracy: 0.9300\n",
      "Epoch 176/200\n",
      "32/32 [==============================] - 0s 7ms/step - loss: 8.4038e-06 - accuracy: 1.0000 - val_loss: 0.4673 - val_accuracy: 0.9300\n",
      "Epoch 177/200\n",
      "32/32 [==============================] - 0s 7ms/step - loss: 8.9658e-06 - accuracy: 1.0000 - val_loss: 0.4671 - val_accuracy: 0.9300\n",
      "Epoch 178/200\n",
      "32/32 [==============================] - 0s 7ms/step - loss: 8.1795e-06 - accuracy: 1.0000 - val_loss: 0.4671 - val_accuracy: 0.9300\n",
      "Epoch 179/200\n",
      "32/32 [==============================] - 0s 7ms/step - loss: 7.3794e-06 - accuracy: 1.0000 - val_loss: 0.4676 - val_accuracy: 0.9310\n",
      "Epoch 180/200\n",
      "32/32 [==============================] - 0s 7ms/step - loss: 8.0644e-06 - accuracy: 1.0000 - val_loss: 0.4678 - val_accuracy: 0.9310\n",
      "Epoch 181/200\n",
      "32/32 [==============================] - 0s 7ms/step - loss: 7.8229e-06 - accuracy: 1.0000 - val_loss: 0.4678 - val_accuracy: 0.9310\n",
      "Epoch 182/200\n",
      "32/32 [==============================] - 0s 7ms/step - loss: 7.8789e-06 - accuracy: 1.0000 - val_loss: 0.4680 - val_accuracy: 0.9310\n",
      "Epoch 183/200\n",
      "32/32 [==============================] - 0s 7ms/step - loss: 5.6438e-06 - accuracy: 1.0000 - val_loss: 0.4681 - val_accuracy: 0.9320\n",
      "Epoch 184/200\n",
      "32/32 [==============================] - 0s 7ms/step - loss: 8.1778e-06 - accuracy: 1.0000 - val_loss: 0.4681 - val_accuracy: 0.9320\n",
      "Epoch 185/200\n",
      "32/32 [==============================] - 0s 7ms/step - loss: 5.9367e-06 - accuracy: 1.0000 - val_loss: 0.4681 - val_accuracy: 0.9320\n",
      "Epoch 186/200\n",
      "32/32 [==============================] - 0s 7ms/step - loss: 6.9941e-06 - accuracy: 1.0000 - val_loss: 0.4680 - val_accuracy: 0.9320\n",
      "Epoch 187/200\n",
      "32/32 [==============================] - 0s 7ms/step - loss: 7.2259e-06 - accuracy: 1.0000 - val_loss: 0.4683 - val_accuracy: 0.9320\n",
      "Epoch 188/200\n",
      "32/32 [==============================] - 0s 7ms/step - loss: 6.5442e-06 - accuracy: 1.0000 - val_loss: 0.4682 - val_accuracy: 0.9320\n",
      "Epoch 189/200\n",
      "32/32 [==============================] - 0s 7ms/step - loss: 5.9372e-06 - accuracy: 1.0000 - val_loss: 0.4682 - val_accuracy: 0.9320\n",
      "Epoch 190/200\n",
      "32/32 [==============================] - 0s 7ms/step - loss: 7.6863e-06 - accuracy: 1.0000 - val_loss: 0.4682 - val_accuracy: 0.9320\n",
      "Epoch 191/200\n",
      "32/32 [==============================] - 0s 7ms/step - loss: 4.5080e-06 - accuracy: 1.0000 - val_loss: 0.4683 - val_accuracy: 0.9320\n",
      "Epoch 192/200\n",
      "32/32 [==============================] - 0s 7ms/step - loss: 5.9975e-06 - accuracy: 1.0000 - val_loss: 0.4684 - val_accuracy: 0.9320\n",
      "Epoch 193/200\n",
      "32/32 [==============================] - 0s 7ms/step - loss: 9.7368e-06 - accuracy: 1.0000 - val_loss: 0.4686 - val_accuracy: 0.9320\n",
      "Epoch 194/200\n",
      "32/32 [==============================] - 0s 7ms/step - loss: 5.3547e-06 - accuracy: 1.0000 - val_loss: 0.4688 - val_accuracy: 0.9320\n",
      "Epoch 195/200\n",
      "32/32 [==============================] - 0s 7ms/step - loss: 7.3350e-06 - accuracy: 1.0000 - val_loss: 0.4689 - val_accuracy: 0.9320\n",
      "Epoch 196/200\n",
      "32/32 [==============================] - 0s 7ms/step - loss: 4.7718e-06 - accuracy: 1.0000 - val_loss: 0.4689 - val_accuracy: 0.9320\n",
      "Epoch 197/200\n",
      "32/32 [==============================] - 0s 7ms/step - loss: 3.5329e-06 - accuracy: 1.0000 - val_loss: 0.4692 - val_accuracy: 0.9320\n",
      "Epoch 198/200\n",
      "32/32 [==============================] - 0s 7ms/step - loss: 5.7411e-06 - accuracy: 1.0000 - val_loss: 0.4690 - val_accuracy: 0.9320\n",
      "Epoch 199/200\n",
      "32/32 [==============================] - 0s 8ms/step - loss: 8.4904e-06 - accuracy: 1.0000 - val_loss: 0.4692 - val_accuracy: 0.9320\n",
      "Epoch 200/200\n",
      "32/32 [==============================] - 0s 7ms/step - loss: 6.6325e-06 - accuracy: 1.0000 - val_loss: 0.4692 - val_accuracy: 0.9320\n"
     ]
    }
   ],
   "source": [
    "hist = model.fit(X_train, y_train, validation_data=(X_test, y_test), epochs=200)"
   ]
  },
  {
   "cell_type": "markdown",
   "metadata": {
    "id": "Okm9j6NCwHsp"
   },
   "source": [
    "Evaluamos en test"
   ]
  },
  {
   "cell_type": "code",
   "execution_count": 25,
   "metadata": {
    "colab": {
     "base_uri": "https://localhost:8080/"
    },
    "executionInfo": {
     "elapsed": 37621,
     "status": "ok",
     "timestamp": 1620474398747,
     "user": {
      "displayName": "Valero Laparra",
      "photoUrl": "",
      "userId": "00355299981903664579"
     },
     "user_tz": -120
    },
    "id": "194RRmusoEC7",
    "outputId": "8501e6b0-6b05-468c-af17-8c826837a652"
   },
   "outputs": [
    {
     "name": "stdout",
     "output_type": "stream",
     "text": [
      "32/32 [==============================] - 0s 3ms/step - loss: 0.3867 - accuracy: 0.9320\n"
     ]
    },
    {
     "data": {
      "text/plain": [
       "[0.38665971159935, 0.9319999814033508]"
      ]
     },
     "execution_count": 25,
     "metadata": {
      "tags": []
     },
     "output_type": "execute_result"
    }
   ],
   "source": [
    "score = model.evaluate(X_test,y_test)\n",
    "score"
   ]
  },
  {
   "cell_type": "code",
   "execution_count": null,
   "metadata": {
    "id": "1DEu-6oToKYo"
   },
   "outputs": [],
   "source": []
  },
  {
   "cell_type": "markdown",
   "metadata": {
    "id": "MNeYOiOEwL5b"
   },
   "source": [
    "Ploteamos la evolución"
   ]
  },
  {
   "cell_type": "code",
   "execution_count": null,
   "metadata": {
    "colab": {
     "base_uri": "https://localhost:8080/",
     "height": 284
    },
    "executionInfo": {
     "elapsed": 25864,
     "status": "ok",
     "timestamp": 1605607525607,
     "user": {
      "displayName": "Valero Laparra",
      "photoUrl": "",
      "userId": "00355299981903664579"
     },
     "user_tz": -60
    },
    "id": "u2arW_sOqI3c",
    "outputId": "913f28d2-a79c-4c55-f45a-bc21849fedef"
   },
   "outputs": [
    {
     "data": {
      "text/plain": [
       "<matplotlib.legend.Legend at 0x7f227c7800b8>"
      ]
     },
     "execution_count": 16,
     "metadata": {
      "tags": []
     },
     "output_type": "execute_result"
    },
    {
     "data": {
      "image/png": "[encoded data removed]",
      "text/plain": [
       "<Figure size 432x288 with 1 Axes>"
      ]
     },
     "metadata": {
      "needs_background": "light",
      "tags": []
     },
     "output_type": "display_data"
    }
   ],
   "source": [
    "import matplotlib.pyplot as plt\n",
    "%matplotlib inline\n",
    "plt.figure\n",
    "plt.plot(hist.history['loss'],label='train')\n",
    "plt.plot(hist.history['val_loss'],'r',label='validation')\n",
    "plt.legend()\n"
   ]
  },
  {
   "cell_type": "code",
   "execution_count": null,
   "metadata": {
    "colab": {
     "base_uri": "https://localhost:8080/",
     "height": 282
    },
    "executionInfo": {
     "elapsed": 25225,
     "status": "ok",
     "timestamp": 1605607525608,
     "user": {
      "displayName": "Valero Laparra",
      "photoUrl": "",
      "userId": "00355299981903664579"
     },
     "user_tz": -60
    },
    "id": "7mN0MrhorXQu",
    "outputId": "1fdf82bb-bf5a-45bd-f84c-f1cf5aa998c4"
   },
   "outputs": [
    {
     "data": {
      "text/plain": [
       "<matplotlib.legend.Legend at 0x7f227c772a58>"
      ]
     },
     "execution_count": 17,
     "metadata": {
      "tags": []
     },
     "output_type": "execute_result"
    },
    {
     "data": {
      "image/png": "[encoded data removed]",
      "text/plain": [
       "<Figure size 432x288 with 1 Axes>"
      ]
     },
     "metadata": {
      "needs_background": "light",
      "tags": []
     },
     "output_type": "display_data"
    }
   ],
   "source": [
    "# Evolucion en accuracy\n",
    "\n",
    "import matplotlib.pyplot as plt\n",
    "%matplotlib inline\n",
    "plt.figure\n",
    "plt.plot(hist.history['accuracy'],label='train')\n",
    "plt.plot(hist.history['val_accuracy'],'r',label='validation')\n",
    "plt.legend()\n"
   ]
  },
  {
   "cell_type": "markdown",
   "metadata": {
    "id": "Oz8ttLJoqj-3"
   },
   "source": [
    "# Aplicamos en test"
   ]
  },
  {
   "cell_type": "code",
   "execution_count": null,
   "metadata": {
    "id": "PHbEJOmaqmf-"
   },
   "outputs": [],
   "source": [
    "# Predecimos en test\n",
    "preds_test = model.predict(X_test)"
   ]
  },
  {
   "cell_type": "code",
   "execution_count": null,
   "metadata": {
    "colab": {
     "base_uri": "https://localhost:8080/",
     "height": 302
    },
    "executionInfo": {
     "elapsed": 881,
     "status": "ok",
     "timestamp": 1605607864468,
     "user": {
      "displayName": "Valero Laparra",
      "photoUrl": "",
      "userId": "00355299981903664579"
     },
     "user_tz": -60
    },
    "id": "Y5Vv9euGqZVv",
    "outputId": "64b8d8d0-0fc4-4d94-b21d-4c31d5feec81"
   },
   "outputs": [
    {
     "name": "stdout",
     "output_type": "stream",
     "text": [
      "['p(y=0|x) = 0.0000', 'p(y=1|x) = 0.0000', 'p(y=2|x) = 0.0000', 'p(y=3|x) = 0.9997', 'p(y=4|x) = 0.0000', 'p(y=5|x) = 0.0000', 'p(y=6|x) = 0.0000', 'p(y=7|x) = 0.0000', 'p(y=8|x) = 0.0003', 'p(y=9|x) = 0.0000']\n"
     ]
    },
    {
     "data": {
      "image/png": "[encoded data removed]",
      "text/plain": [
       "<Figure size 432x288 with 1 Axes>"
      ]
     },
     "metadata": {
      "needs_background": "light",
      "tags": []
     },
     "output_type": "display_data"
    }
   ],
   "source": [
    "import numpy as np\n",
    "# Elegimos una imagen de test\n",
    "idx_mostrar = 90\n",
    "# Mostramos la imagen\n",
    "plt.imshow(np.squeeze(X_test[idx_mostrar,:,:,]),cmap=\"gray\")\n",
    "# Mostramos las probabilidades que da el modelo a cada clase\n",
    "print([\"p(y=%d|x) = %.4f\"%(i,p) for i,p in enumerate(preds_test[idx_mostrar])])"
   ]
  },
  {
   "cell_type": "code",
   "execution_count": null,
   "metadata": {
    "id": "hWtas-PJr4pQ"
   },
   "outputs": [],
   "source": []
  }
 ],
 "metadata": {
  "accelerator": "GPU",
  "colab": {
   "name": "CNN_MNIST_basic_tf2.ipynb",
   "provenance": []
  },
  "kernelspec": {
   "display_name": "Python 3",
   "language": "python",
   "name": "python3"
  },
  "language_info": {
   "codemirror_mode": {
    "name": "ipython",
    "version": 3
   },
   "file_extension": ".py",
   "mimetype": "text/x-python",
   "name": "python",
   "nbconvert_exporter": "python",
   "pygments_lexer": "ipython3",
   "version": "3.8.8"
  }
 },
 "nbformat": 4,
 "nbformat_minor": 4
}
