{
 "cells": [
  {
   "cell_type": "markdown",
   "id": "fa8edde4-4fec-46aa-867b-1988ebdb93f7",
   "metadata": {},
   "source": [
    "## **CARLOS MERCADAL - EJERCICIO VOLUNTARIO MARKOWITZ***"
   ]
  },
  {
   "cell_type": "markdown",
   "id": "b68d031b-55ca-4398-afe3-fdf13d7d53f6",
   "metadata": {},
   "source": [
    "### **RESULTADOS:**"
   ]
  },
  {
   "cell_type": "markdown",
   "id": "d112b0f3-13a6-4544-a39f-5193fe6ed146",
   "metadata": {
    "tags": []
   },
   "source": [
    "##### -El tiempo estimado de ejecución ronda las 7 horas para 40 millones de simulaciones"
   ]
  },
  {
   "cell_type": "markdown",
   "id": "226c8205-8ca2-4524-94e2-60d45c551021",
   "metadata": {},
   "source": [
    "##### -La cartera más eficiente tiene las siguientes características:\n",
    "- tamaño: 9\n",
    "- Activos:'LU1410565144', 'LU1846559182', 'LU1883841535', 'GB00B9L5BC50', 'CH0101918842', 'LU0471239177', 'LU0111491626', 'FR0013072733', 'IE00BYRGQZ50'\n",
    "- riesgo: 0.008649548843124102\n",
    "- rentabilidad: 2.6766397271917912e-05\n",
    "- ratio sharpe: 0.003094542589142747"
   ]
  },
  {
   "cell_type": "markdown",
   "id": "eceb300a-c6c7-4b6c-90cf-1c44097bd9ad",
   "metadata": {},
   "source": [
    "### **PREGUNTAS A CONTESTAR:**"
   ]
  },
  {
   "cell_type": "markdown",
   "id": "f173d3d3-0d3e-41ad-ba5a-54a8feb51789",
   "metadata": {},
   "source": [
    "**1) Los activos no tienen los mismos días cotizados, ¿Cómo los homogeneizamos?**"
   ]
  },
  {
   "cell_type": "markdown",
   "id": "d761996e-d63e-437c-9ee7-2370e3010b64",
   "metadata": {},
   "source": [
    "**2) Hay días en los que la mayoría de activos no tienen cotización. ¿Qué hacemos?**"
   ]
  },
  {
   "cell_type": "markdown",
   "id": "a4819663-448f-40f1-9746-8c61c59a3499",
   "metadata": {},
   "source": [
    "**3) ¿Con cuántos activos nos quedamos y por qué?**"
   ]
  },
  {
   "cell_type": "markdown",
   "id": "1881cc08-752a-4af5-8614-46a39d1f4be4",
   "metadata": {},
   "source": [
    "Respuesta a las tres primeras preguntas: \n",
    "\n",
    "En un primer análisis exploratorio podemos comprobar como efectivamente no todos los activos tienen los mismos días cotizados. Para solucionar el problema le paso todos los archivos concatenados en un único data-frame a mi función homogeneizadora. Esta función se encarga de generar un data-frame en la cual tengamos como índice todas las fechas únicas quitando los fines de semana, y tantas columnas como \"isin\" únicos haya. \n",
    "\n",
    "De esta forma se nos genera un nuevo problema, y es que ahora tenemos un data-frame con muchos huecos. Puesto que no todos los fondos tienen el mismo número de días cotizados, he decidido quedarme únicamente con aquellos fondos que tengan como mínimo el 85% de los días cotizados. Éste porcentaje es un parámetro que le paso a mi función, de forma que se puede cambiar en cualquier momento. He considerado que el 85% de los datos serían suficientemente representativos para cada fondo como para que la volatilidad y la rentabilidad de los mismos tuviera sentido. \n",
    "\n",
    "Una vez tenemos los fondos que han cotizado al menos un 85% de los días, nos quedamos con alrededor de unos 57.000 fondos (mas o menos), de los cuales sí que podemos decir que tenemos datos representativos de cada uno. A continuación, paso este data-frame homogeneizado a otra función \"limpiadora\", que se encarga de solventar el problema de los huecos generados, ya que a pesar de que todos los fondos tienen un 85% de datos, siguen existiendo muchos huecos. La función se encargará de hacer un forward y backward fill para rellenar los NaN que haya. Así pues, me devuelve un data-frame homogeneizado y limpio con todos los datos listos para poder trabajar."
   ]
  },
  {
   "cell_type": "markdown",
   "id": "8d3b065d-d548-4323-a3af-449908f10e51",
   "metadata": {},
   "source": [
    "**4) ¿Cuántas simulaciones vamos a realizar?**"
   ]
  },
  {
   "cell_type": "markdown",
   "id": "8fde92d6-0dbf-48ef-b4fb-a17b9b3f968f",
   "metadata": {},
   "source": [
    "Nos encontramos ante una situación en la cual tenemos que hacer carteras de tamaño N con combinaciones de entre 70.000 activos. La magnitud del problema en cuanto a las simulaciones es extrema, ya que si decidiéramos sacar únicamente carteras con 15 activos todo el rato, el número de combinaciones posibles asciende a: 3625095919131602564004341545773202195107520627573195797838000 combinaciones...En definitiva, un número que ni siquiera sabemos leer. Pero el problema es aún mayor cuando nos planteamos generar carteras de tamaño entre 1 y 30 activos. El problema se magnifica mas. \n",
    "\n",
    "Puesto que tenemos tiempo limitado, he obtado por hacer alrededor de 40 millones de simulaciones. Aunque sigue siendo muy poco representativo al lado del número de posibilidades que existen, con esta cantidad de simulaciones ya se puede empezar a dislumbrar la frontera de markowitz. "
   ]
  },
  {
   "cell_type": "markdown",
   "id": "8252bb60-53ac-4cf4-80c6-18d4576b5174",
   "metadata": {},
   "source": [
    "**5) ¿Cómo generamos los números aleatorios y cuántos generamos?**"
   ]
  },
  {
   "cell_type": "markdown",
   "id": "24b317e4-413e-4825-8a3a-b9fa1fed490d",
   "metadata": {},
   "source": [
    "**6) ¿Cuántos activos seleccionamos en cada simulación para darles peso?¿Cómo los seleccionamos?**"
   ]
  },
  {
   "cell_type": "markdown",
   "id": "d5428cc4-3402-4238-9532-90ed761dcc6f",
   "metadata": {},
   "source": [
    "**7) ¿Cómo asignamos pesos a los activos seleccionados?**"
   ]
  },
  {
   "cell_type": "markdown",
   "id": "1fae6352-f433-4b00-91bf-8ecccb45502a",
   "metadata": {},
   "source": [
    "Respuesta a las preguntas 5, 6 y 7:\n",
    "\n",
    "En cuanto a la generación de números aleatorios, he obtado por llevar a cabo las simulaciones de una forma alternativa a la presentada en clase.  Puesto que generar una matriz de covarianzas de 57.000 x 57.000 ocupa alrededor de 25gb, y tenemos que hacer muchísimas simulaciones, me pareció absurdo trabajar con data-frames extremadamente pesados. Por un tema de eficiencia, he considerado que sería mucho más óptimo generar matrices muestrales para cada simulación, reduciendo así el tiempo de ejecución. \n",
    "\n",
    "Así pues, he obtado por hacer una lista de listas, en la que cada sublista está compuesta por una simulación de activos a escoger.. De este modo, en cada sublista tendremos carteras de activos entre 1 y 30. He decidido coger 30 activos como máximo porque me ha parecido que es un número relativamente alto de activos para tener en una cartera de inversión. Desde mi punto de vista, una cartera no es mejor por tener un número más elevado de activos, si no que a veces es mejor seleccionar bien y tener menos cantidad. En este caso, al ser una simulación, con un máximo de 30 activos es suficiente (aunque se podría modificar en cualquier momento). \n",
    "\n",
    "El proceso es generar mediante un random.randint números aleatorios entre 0 y el universo de fondos a escoger, y el número de números aleatorios a sacar para cada sublista será estará generado por otro random.randint entre 1 y 30. Si el tamaño de la cartera es de 5 (generado con el random.randint) entonces generaría por ejemplo 50050,4756,301,1,293,1000, y esto lo utilizaría para indexar las columnas y así \"seleccionar\" los activos para cada cartera. \n",
    "\n",
    "Una vez tengo la lista de listas, siendo cada sublista un índice de N fondos para cada sublista, lo paso a una función mediante multiprocessing en la cual le voy a pasar como parámetros 1) df de rentabilidades de fondos, 2) array de rentabilidades diarias de fondos, 3) indice de activos a seleccionar. Dentro de la propia función, me calculará los pesos de forma aleatoria utilizando un np.random.random de longitud el número de activos a seleccionar para cada simulación, y luego normalizándolos sobre 1. De este modo, tengo que para cada simulación la función me devuelva un diccionario con 1) tamaño de la cartera, 2) activos seleccionados, 3) rentabilidad de la cartera, 4) riesgo de la cartera, y 5) eficiencia de la cartera. \n",
    "\n",
    "Finalmente voy guardando las simulaciones en un pickle por si hubiera algún fallo durante la generación de simulaciones, saco la cartera mas eficiente, y pinto la frontera de markowitz."
   ]
  },
  {
   "cell_type": "code",
   "execution_count": 2,
   "id": "8f0a1e36-0904-41ea-b496-a3258c726997",
   "metadata": {},
   "outputs": [],
   "source": [
    "import pandas as pd\n",
    "import numpy as np\n",
    "import Funciones_marko\n",
    "import itertools\n",
    "import multiprocessing as mp\n",
    "import random\n",
    "import time\n",
    "import math\n",
    "import matplotlib.pyplot as plt\n",
    "from tqdm import tqdm\n",
    "import sys\n",
    "import pickle"
   ]
  },
  {
   "cell_type": "code",
   "execution_count": 3,
   "id": "5b9f8852-075b-4a13-a920-0b9ff7bb46a0",
   "metadata": {},
   "outputs": [],
   "source": [
    "# Establezco el directorio para los csv\n",
    "\n",
    "directorio = r'C:\\Users\\Carlos\\Documents\\MIA-X\\Modulo 2\\Ejercicios Voluntarios\\Markowitz 70000\\datos fondos'\n",
    "\n",
    "# Leo los CSV y los separo en dos df, uno con el maestro de valores y otro con los 70 csv concatenados\n",
    "lista_csv = Funciones_marko.read_multiple_csv(directorio)\n",
    "(df_allfunds, indice_fondos) = Funciones_marko.dataframe_fondos(lista_csv)"
   ]
  },
  {
   "cell_type": "code",
   "execution_count": 4,
   "id": "d393c1a1-e4f1-4428-94a9-6d2885989e8e",
   "metadata": {},
   "outputs": [],
   "source": [
    "# Homogeneizamos y limpiamos los datos\n",
    "# establezco el número mínimo de datos que tienen que tener cada fondo\n",
    "porcentaje_dias_cotizados = 0.85\n",
    "fondos_homogeneizados = Funciones_marko.homogeneizar_datos(\n",
    "    df_allfunds, porcentaje_dias_cotizados)\n",
    "fondos_limpios = pd.DataFrame(Funciones_marko.limpiar_datos(\n",
    "    fondos_homogeneizados))"
   ]
  },
  {
   "cell_type": "code",
   "execution_count": 5,
   "id": "0bac1e0f-4d58-441f-a019-75fe931fbc39",
   "metadata": {},
   "outputs": [],
   "source": [
    "fondos_limpios.to_csv(\"datos_fondos.csv\")"
   ]
  },
  {
   "cell_type": "code",
   "execution_count": 13,
   "id": "4309c949-c63f-4e10-be44-41e326601ada",
   "metadata": {},
   "outputs": [],
   "source": [
    "# Calculamos la rentabilidad de los fondos\n",
    "rentabilidad_fondos = np.log(fondos_limpios).diff().dropna()"
   ]
  },
  {
   "cell_type": "code",
   "execution_count": 14,
   "id": "c0021392-4a72-4379-8f2b-1a50eb76b09e",
   "metadata": {},
   "outputs": [],
   "source": [
    "rentabilidad_diaria = np.log(fondos_limpios.iloc[-1, :] / fondos_limpios.iloc[0, :]) / fondos_limpios.shape[0]"
   ]
  },
  {
   "cell_type": "code",
   "execution_count": 6,
   "id": "b14eafa8-9bba-4618-a355-5fa2e52b265d",
   "metadata": {},
   "outputs": [],
   "source": [
    "n_simulaciones = 2000000 #Tener en cuenta que este número luego se multiplica por 20 \n",
    "lista_fondos = []\n",
    "\n",
    "for simulacion in range(0,n_simulaciones):\n",
    "    activos_seleccionados = np.random.randint(0,rentabilidad_fondos.shape[1],size=np.random.randint(1,30))\n",
    "    lista_fondos.append(activos_seleccionados)\n",
    "    \n",
    "lista_resultados = []\n",
    "\n",
    "for repeticiones in tqdm(range(0,20)):\n",
    "    df_rentabilidades = [rentabilidad_fondos]\n",
    "    df_diaria = [rentabilidad_diaria]\n",
    "    all_combinations = itertools.product(df_rentabilidades, lista_fondos, df_diaria )\n",
    "    pool = mp.Pool(mp.cpu_count()-2)\n",
    "    if __name__ == \"__main__\":\n",
    "        resultado = pool.starmap(Funciones_marko.markowitz, all_combinations)\n",
    "        lista_resultados.append(resultado)\n",
    "    time.sleep(1)   "
   ]
  },
  {
   "cell_type": "code",
   "execution_count": 8,
   "id": "785f2374-5ccd-4523-b0c4-b039505eb77a",
   "metadata": {},
   "outputs": [],
   "source": [
    "lista_rentabilidades = []\n",
    "lista_riesgo = []\n",
    "lista_eficiencia = []\n",
    "resultado = []\n",
    "for lista in lista_resultados:\n",
    "    for item in range(0,len(lista)):\n",
    "        lista_rentabilidades.append(lista[item][\"rentabilidad\"])\n",
    "        lista_riesgo.append(lista[item][\"riesgo\"])\n",
    "        lista_eficiencia.append(lista[item][\"eficiencia\"])\n",
    "        resultado.append(lista[item])\n",
    "                                                                              "
   ]
  },
  {
   "cell_type": "code",
   "execution_count": 15,
   "id": "fe0cc42e-22f7-4e09-bc6f-37071ddeb7d0",
   "metadata": {},
   "outputs": [
    {
     "name": "stdout",
     "output_type": "stream",
     "text": [
      "La cartera mas eficiente tiene:\n",
      "- tamaño: 9\n",
      "- Activos: ['LU1410565144', 'LU1846559182', 'LU1883841535', 'GB00B9L5BC50', 'CH0101918842', 'LU0471239177', 'LU0111491626', 'FR0013072733', 'IE00BYRGQZ50']\n",
      "- riesgo: 0.008649548843124102\n",
      "- rentabilidad: 2.6766397271917912e-05\n",
      "- ratio sharpe: 0.003094542589142747\n"
     ]
    }
   ],
   "source": [
    "riesgo = np.array(lista_riesgo)\n",
    "rentabilidad = np.array(lista_rentabilidades)\n",
    "eficiencia = np.array(lista_eficiencia)\n",
    "cartera_eficiente = resultado[(eficiencia[~np.isnan(eficiencia)]).argmax()]\n",
    "print(f'''La cartera mas eficiente tiene:\n",
    "- tamaño: {cartera_eficiente[\"tamaño_cartera\"]}\n",
    "- Activos: {((fondos_limpios.columns.values)[cartera_eficiente[\"activos_seleccionados\"]]).tolist()}\n",
    "- riesgo: {(cartera_eficiente[\"riesgo\"]).tolist()}\n",
    "- rentabilidad: {cartera_eficiente[\"rentabilidad\"].tolist()}\n",
    "- ratio sharpe: {cartera_eficiente[\"eficiencia\"].tolist()}''')"
   ]
  },
  {
   "cell_type": "code",
   "execution_count": 16,
   "id": "662950d5-22bc-4ba5-af5f-68970792f22c",
   "metadata": {},
   "outputs": [],
   "source": [
    "riesgo = np.array(lista_riesgo)\n",
    "rentabilidad = np.array(lista_rentabilidades)\n",
    "eficiencia = np.array(lista_eficiencia)\n",
    "cartera_eficiente = resultado[eficiencia.argmax()]"
   ]
  },
  {
   "cell_type": "code",
   "execution_count": 17,
   "id": "3440daaa-64db-468a-a8ad-d9b4628915d3",
   "metadata": {},
   "outputs": [],
   "source": [
    "risk = riesgo[np.where(riesgo < 3)]\n",
    "returns = rentabilidad[np.where(riesgo < 3)]\n",
    "sr = eficiencia[np.where(riesgo < 3)]"
   ]
  },
  {
   "cell_type": "code",
   "execution_count": 18,
   "id": "307e9e48-9b79-46ce-a825-d63e08b2ad53",
   "metadata": {},
   "outputs": [
    {
     "data": {
      "image/png": "[encoded data removed]",
      "text/plain": [
       "<Figure size 1080x720 with 1 Axes>"
      ]
     },
     "metadata": {
      "needs_background": "light"
     },
     "output_type": "display_data"
    }
   ],
   "source": [
    "plt.figure(figsize=(15,10))\n",
    "plt.scatter(risk, returns, s=1)\n",
    "plt.xlabel('VOLATILIDAD')\n",
    "plt.ylabel('RENTABILIDAD')\n",
    "plt.savefig('frontera_markowitz.png')\n",
    "plt.show()"
   ]
  }
 ],
 "metadata": {
  "kernelspec": {
   "display_name": "Python 3",
   "language": "python",
   "name": "python3"
  },
  "language_info": {
   "codemirror_mode": {
    "name": "ipython",
    "version": 3
   },
   "file_extension": ".py",
   "mimetype": "text/x-python",
   "name": "python",
   "nbconvert_exporter": "python",
   "pygments_lexer": "ipython3",
   "version": "3.8.8"
  }
 },
 "nbformat": 4,
 "nbformat_minor": 5
}
